{
  "cells": [
    {
      "cell_type": "code",
      "execution_count": 1,
      "metadata": {
        "colab": {
          "base_uri": "https://localhost:8080/"
        },
        "id": "A50YcTtezcvP",
        "outputId": "6d3de972-9a97-4c65-c17b-ebcdc165242f"
      },
      "outputs": [
        {
          "output_type": "stream",
          "name": "stdout",
          "text": [
            "Looking in indexes: https://pypi.org/simple, https://us-python.pkg.dev/colab-wheels/public/simple/\n",
            "Collecting torch==1.12.1\n",
            "  Downloading torch-1.12.1-cp310-cp310-manylinux1_x86_64.whl (776.3 MB)\n",
            "\u001b[2K     \u001b[90m━━━━━━━━━━━━━━━━━━━━━━━━━━━━━━━━━━━━━━━\u001b[0m \u001b[32m776.3/776.3 MB\u001b[0m \u001b[31m1.9 MB/s\u001b[0m eta \u001b[36m0:00:00\u001b[0m\n",
            "\u001b[?25hRequirement already satisfied: typing-extensions in /usr/local/lib/python3.10/dist-packages (from torch==1.12.1) (4.5.0)\n",
            "Installing collected packages: torch\n",
            "  Attempting uninstall: torch\n",
            "    Found existing installation: torch 2.0.0+cu118\n",
            "    Uninstalling torch-2.0.0+cu118:\n",
            "      Successfully uninstalled torch-2.0.0+cu118\n",
            "\u001b[31mERROR: pip's dependency resolver does not currently take into account all the packages that are installed. This behaviour is the source of the following dependency conflicts.\n",
            "torchvision 0.15.1+cu118 requires torch==2.0.0, but you have torch 1.12.1 which is incompatible.\n",
            "torchtext 0.15.1 requires torch==2.0.0, but you have torch 1.12.1 which is incompatible.\n",
            "torchdata 0.6.0 requires torch==2.0.0, but you have torch 1.12.1 which is incompatible.\n",
            "torchaudio 2.0.1+cu118 requires torch==2.0.0, but you have torch 1.12.1 which is incompatible.\u001b[0m\u001b[31m\n",
            "\u001b[0mSuccessfully installed torch-1.12.1\n"
          ]
        }
      ],
      "source": [
        "!pip install torch==1.12.1"
      ]
    },
    {
      "cell_type": "code",
      "execution_count": 2,
      "metadata": {
        "colab": {
          "base_uri": "https://localhost:8080/"
        },
        "id": "rG30nzfSzfVf",
        "outputId": "c10265e2-c46e-4ab7-99af-f733c80bdcd7"
      },
      "outputs": [
        {
          "output_type": "stream",
          "name": "stdout",
          "text": [
            "Looking in indexes: https://pypi.org/simple, https://us-python.pkg.dev/colab-wheels/public/simple/\n",
            "Collecting torchmetrics\n",
            "  Downloading torchmetrics-0.11.4-py3-none-any.whl (519 kB)\n",
            "\u001b[2K     \u001b[90m━━━━━━━━━━━━━━━━━━━━━━━━━━━━━━━━━━━━━━\u001b[0m \u001b[32m519.2/519.2 kB\u001b[0m \u001b[31m15.9 MB/s\u001b[0m eta \u001b[36m0:00:00\u001b[0m\n",
            "\u001b[?25hRequirement already satisfied: numpy>=1.17.2 in /usr/local/lib/python3.10/dist-packages (from torchmetrics) (1.22.4)\n",
            "Requirement already satisfied: torch>=1.8.1 in /usr/local/lib/python3.10/dist-packages (from torchmetrics) (1.12.1)\n",
            "Requirement already satisfied: packaging in /usr/local/lib/python3.10/dist-packages (from torchmetrics) (23.1)\n",
            "Requirement already satisfied: typing-extensions in /usr/local/lib/python3.10/dist-packages (from torch>=1.8.1->torchmetrics) (4.5.0)\n",
            "Installing collected packages: torchmetrics\n",
            "Successfully installed torchmetrics-0.11.4\n"
          ]
        }
      ],
      "source": [
        "!pip install torchmetrics"
      ]
    },
    {
      "cell_type": "code",
      "execution_count": 3,
      "metadata": {
        "id": "MnS2cJsAzjNF",
        "colab": {
          "base_uri": "https://localhost:8080/"
        },
        "outputId": "99857fee-19d6-421a-a55e-e9d62e9ff49c"
      },
      "outputs": [
        {
          "output_type": "stream",
          "name": "stderr",
          "text": [
            "/usr/local/lib/python3.10/dist-packages/torchvision/io/image.py:13: UserWarning: Failed to load image Python extension: '/usr/local/lib/python3.10/dist-packages/torchvision/image.so: undefined symbol: _ZN3c104impl8GPUTrace13gpuTraceStateE'If you don't plan on using image functionality from `torchvision.io`, you can ignore this warning. Otherwise, there might be something wrong with your environment. Did you have `libjpeg` or `libpng` installed before building `torchvision` from source?\n",
            "  warn(\n"
          ]
        }
      ],
      "source": [
        "import torch\n",
        "import torchvision\n",
        "import torchvision.transforms as transforms\n",
        "import numpy as np\n",
        "import matplotlib.pyplot as plt\n",
        "import torch.optim as optim\n",
        "import torch.nn as nn\n",
        "from torchmetrics.classification import MulticlassAccuracy\n",
        "from torchmetrics import Accuracy"
      ]
    },
    {
      "cell_type": "code",
      "execution_count": 4,
      "metadata": {
        "id": "uVCQRnybzvZF"
      },
      "outputs": [],
      "source": [
        "transform = transforms.Compose(\n",
        "    [transforms.ToTensor(),\n",
        "     transforms.Normalize((0.5, 0.5, 0.5), (0.5, 0.5, 0.5))])"
      ]
    },
    {
      "cell_type": "code",
      "execution_count": 5,
      "metadata": {
        "colab": {
          "base_uri": "https://localhost:8080/",
          "height": 101,
          "referenced_widgets": [
            "a5721ed1ed19495caabb205cbddab427",
            "47017bb6c33b4899b222646d9d87d165",
            "58d18637df4046cc8b5c487e8e677e37",
            "2e1d199c034d4195a4db2566cc4020a3",
            "482a30273aad44788b6bcf5108cfa062",
            "c6fae4908277443ebc2b9898ff6bb34c",
            "49c9430d183c4873894aefacb9a9ebf4",
            "4652a89a5e604e9da8d275cdc55949b7",
            "211bd3dc78044b97b2bb36fc3fb36a4a",
            "78d868d358a04be390eb086c009a974e",
            "576c98c57865418d84c1d9a5735db9b4"
          ]
        },
        "id": "ryz_u1Mzz2VO",
        "outputId": "cd5c5cee-7c23-4eec-d2fd-424d0001f53d"
      },
      "outputs": [
        {
          "output_type": "stream",
          "name": "stdout",
          "text": [
            "Downloading https://www.cs.toronto.edu/~kriz/cifar-10-python.tar.gz to ./data/cifar-10-python.tar.gz\n"
          ]
        },
        {
          "output_type": "display_data",
          "data": {
            "text/plain": [
              "  0%|          | 0/170498071 [00:00<?, ?it/s]"
            ],
            "application/vnd.jupyter.widget-view+json": {
              "version_major": 2,
              "version_minor": 0,
              "model_id": "a5721ed1ed19495caabb205cbddab427"
            }
          },
          "metadata": {}
        },
        {
          "output_type": "stream",
          "name": "stdout",
          "text": [
            "Extracting ./data/cifar-10-python.tar.gz to ./data\n",
            "Files already downloaded and verified\n"
          ]
        }
      ],
      "source": [
        "batch_size = 10000\n",
        "\n",
        "trainset = torchvision.datasets.CIFAR10(root='./data', train=True,\n",
        "                                        download=True, transform=transform)\n",
        "trainloader = torch.utils.data.DataLoader(trainset, batch_size=batch_size,\n",
        "                                          shuffle=True, num_workers=2)\n",
        "\n",
        "testset = torchvision.datasets.CIFAR10(root='./data', train=False,\n",
        "                                       download=True, transform=transform)\n",
        "testloader = torch.utils.data.DataLoader(testset, batch_size=batch_size,\n",
        "                                         shuffle=False, num_workers=2)"
      ]
    },
    {
      "cell_type": "code",
      "execution_count": 6,
      "metadata": {
        "id": "2ijIUBaOz-p0"
      },
      "outputs": [],
      "source": [
        "def unpickle(file):\n",
        "    import pickle\n",
        "    with open(file, 'rb') as fo:\n",
        "        dict = pickle.load(fo, encoding='bytes')\n",
        "    return dict"
      ]
    },
    {
      "cell_type": "code",
      "execution_count": 7,
      "metadata": {
        "colab": {
          "base_uri": "https://localhost:8080/"
        },
        "id": "Va1fshbj0NNh",
        "outputId": "5b6de222-e645-4552-f03c-4d6abaf9fee9"
      },
      "outputs": [
        {
          "output_type": "stream",
          "name": "stderr",
          "text": [
            "<ipython-input-7-c4e2bf4b2f82>:24: UserWarning: To copy construct from a tensor, it is recommended to use sourceTensor.clone().detach() or sourceTensor.clone().detach().requires_grad_(True), rather than torch.tensor(sourceTensor).\n",
            "  train_y_framed = torch.tensor(train_y_framed, dtype=torch.float)\n",
            "<ipython-input-7-c4e2bf4b2f82>:26: UserWarning: To copy construct from a tensor, it is recommended to use sourceTensor.clone().detach() or sourceTensor.clone().detach().requires_grad_(True), rather than torch.tensor(sourceTensor).\n",
            "  test_y_framed = torch.tensor(test_y_framed, dtype=torch.float)\n"
          ]
        }
      ],
      "source": [
        "dict1 = unpickle(file='./data/cifar-10-batches-py/data_batch_1')\n",
        "dict2 = unpickle(file='./data/cifar-10-batches-py/data_batch_2')\n",
        "dict3 = unpickle(file='./data/cifar-10-batches-py/data_batch_3')\n",
        "dict4 = unpickle(file='./data/cifar-10-batches-py/data_batch_4')\n",
        "dict5 = unpickle(file='./data/cifar-10-batches-py/data_batch_5')\n",
        "dict_test = unpickle(file='./data/cifar-10-batches-py/test_batch')\n",
        "train_x1 = torch.tensor(dict1[b'data'])\n",
        "train_y1 = torch.tensor(dict1[b'labels'])\n",
        "train_x2 = torch.tensor(dict2[b'data'])\n",
        "train_y2 = torch.tensor(dict2[b'labels'])\n",
        "train_x3 = torch.tensor(dict3[b'data'])\n",
        "train_y3 = torch.tensor(dict3[b'labels'])\n",
        "train_x4 = torch.tensor(dict4[b'data'])\n",
        "train_y4 = torch.tensor(dict4[b'labels'])\n",
        "train_x5 = torch.tensor(dict5[b'data'])\n",
        "train_y5 = torch.tensor(dict5[b'labels'])\n",
        "test_x = torch.tensor(dict_test[b'data'])\n",
        "test_y = torch.tensor(dict_test[b'labels'])\n",
        "train_x = torch.cat((train_x1, train_x2, train_x3, train_x4, train_x5), dim=0)\n",
        "train_y = torch.cat((train_y1, train_y2, train_y3, train_y4, train_y5), dim=0)\n",
        "train_x = torch.reshape(train_x, (50000, 3, 32, 32))/255\n",
        "test_x = torch.reshape(test_x, (10000, 3, 32, 32))/255\n",
        "train_y_framed = torch.nn.functional.one_hot(train_y.clone().detach(), num_classes=10)\n",
        "train_y_framed = torch.tensor(train_y_framed, dtype=torch.float)\n",
        "test_y_framed = torch.nn.functional.one_hot(test_y.clone().detach(), num_classes=10)\n",
        "test_y_framed = torch.tensor(test_y_framed, dtype=torch.float)"
      ]
    },
    {
      "cell_type": "code",
      "execution_count": 8,
      "metadata": {
        "id": "rWufDkai0NiG"
      },
      "outputs": [],
      "source": [
        "class Model(torch.nn.Module):\n",
        "    def __init__(self) -> None:\n",
        "        super().__init__()\n",
        "        self.con1 = torch.nn.Conv2d(3,32,(3,3),stride=(1,1), padding=(1,1), padding_mode='zeros')\n",
        "        self.con2 = torch.nn.Conv2d(32,64,(5,5),stride=(1,1), padding=(1,1), padding_mode='zeros')\n",
        "        self.con3 = torch.nn.Conv2d(64,64,(3,3),stride=(1,1), padding=(1,1), padding_mode='zeros')\n",
        "        self.pool = torch.nn.MaxPool2d((2,2), stride=(2,2), padding=0)\n",
        "        self.f1 = torch.nn.Linear(64*7*7, 64)\n",
        "        self.f2 = torch.nn.Linear(64, 10)\n",
        "        self.soft_max = torch.nn.LogSoftmax(dim=1)\n",
        "        self.rel = torch.nn.functional.relu\n",
        "\n",
        "    def forward(self, x):\n",
        "        x = self.con1(x)\n",
        "        x = self.rel(x)\n",
        "        x = self.pool(x)\n",
        "        x = self.con2(x)\n",
        "        x = self.rel(x)\n",
        "        x = self.pool(x)\n",
        "        x = self.con3(x)\n",
        "        x = self.rel(x)\n",
        "        x = torch.reshape(x, (-1, 64*7*7))\n",
        "        x = self.f1(x)\n",
        "        x = self.rel(x)\n",
        "        x = self.f2(x)\n",
        "        predict = self.soft_max(x)\n",
        "        return predict"
      ]
    },
    {
      "cell_type": "code",
      "execution_count": 9,
      "metadata": {
        "id": "rifYfsUG0Ryo"
      },
      "outputs": [],
      "source": [
        "epochs = 20\n",
        "batch = 32\n",
        "n_batches = 1562\n",
        "metric = Accuracy(task=\"multiclass\", num_classes=10).to('cuda:0')"
      ]
    },
    {
      "cell_type": "code",
      "execution_count": 10,
      "metadata": {
        "colab": {
          "base_uri": "https://localhost:8080/"
        },
        "id": "-IKePYuA0Wd5",
        "outputId": "af0618d5-8efe-4835-d2f2-78f2b5685357"
      },
      "outputs": [
        {
          "output_type": "stream",
          "name": "stdout",
          "text": [
            "TRAIN_ACC: 0.5460000038146973\n",
            "VAL ACC: 0.546500027179718\n",
            "Training Loss after epoch 1: 2452.763298869133\n",
            "Validation Loss after epoch 1: 1.278201937675476\n",
            "TRAIN_ACC: 0.628000020980835\n",
            "VAL ACC: 0.6060000061988831\n",
            "Training Loss after epoch 2: 1887.3794855475426\n",
            "Validation Loss after epoch 2: 1.114057183265686\n",
            "TRAIN_ACC: 0.6775000095367432\n",
            "VAL ACC: 0.6455000042915344\n",
            "Training Loss after epoch 3: 1621.8367682099342\n",
            "Validation Loss after epoch 3: 0.9958231449127197\n",
            "TRAIN_ACC: 0.7139999866485596\n",
            "VAL ACC: 0.6639999747276306\n",
            "Training Loss after epoch 4: 1437.3560784757137\n",
            "Validation Loss after epoch 4: 0.9445059895515442\n",
            "TRAIN_ACC: 0.7335000038146973\n",
            "VAL ACC: 0.6794999837875366\n",
            "Training Loss after epoch 5: 1301.6402918994427\n",
            "Validation Loss after epoch 5: 0.9132432341575623\n",
            "TRAIN_ACC: 0.7455000281333923\n",
            "VAL ACC: 0.6865000128746033\n",
            "Training Loss after epoch 6: 1193.1707688719034\n",
            "Validation Loss after epoch 6: 0.9047917723655701\n",
            "TRAIN_ACC: 0.7555000185966492\n",
            "VAL ACC: 0.6850000023841858\n",
            "Training Loss after epoch 7: 1106.601147443056\n",
            "Validation Loss after epoch 7: 0.9376766681671143\n",
            "TRAIN_ACC: 0.7710000276565552\n",
            "VAL ACC: 0.6850000023841858\n",
            "Training Loss after epoch 8: 1023.8632229566574\n",
            "Validation Loss after epoch 8: 0.9527913331985474\n",
            "TRAIN_ACC: 0.7979999780654907\n",
            "VAL ACC: 0.6880000233650208\n",
            "Training Loss after epoch 9: 951.0784471780062\n",
            "Validation Loss after epoch 9: 0.9764906764030457\n",
            "TRAIN_ACC: 0.8059999942779541\n",
            "VAL ACC: 0.6930000185966492\n",
            "Training Loss after epoch 10: 889.8855352550745\n",
            "Validation Loss after epoch 10: 1.0120148658752441\n",
            "TRAIN_ACC: 0.8025000095367432\n",
            "VAL ACC: 0.6955000162124634\n",
            "Training Loss after epoch 11: 835.2478845119476\n",
            "Validation Loss after epoch 11: 1.0782817602157593\n",
            "TRAIN_ACC: 0.8125\n",
            "VAL ACC: 0.6855000257492065\n",
            "Training Loss after epoch 12: 790.8333139270544\n",
            "Validation Loss after epoch 12: 1.1238521337509155\n",
            "TRAIN_ACC: 0.8134999871253967\n",
            "VAL ACC: 0.6855000257492065\n",
            "Training Loss after epoch 13: 747.7883193045855\n",
            "Validation Loss after epoch 13: 1.2248252630233765\n",
            "TRAIN_ACC: 0.8230000138282776\n",
            "VAL ACC: 0.6690000295639038\n",
            "Training Loss after epoch 14: 713.0889946222305\n",
            "Validation Loss after epoch 14: 1.3173398971557617\n",
            "TRAIN_ACC: 0.8240000009536743\n",
            "VAL ACC: 0.6644999980926514\n",
            "Training Loss after epoch 15: 665.052429407835\n",
            "Validation Loss after epoch 15: 1.3602529764175415\n",
            "TRAIN_ACC: 0.784500002861023\n",
            "VAL ACC: 0.6474999785423279\n",
            "Training Loss after epoch 16: 626.5083042904735\n",
            "Validation Loss after epoch 16: 1.5729204416275024\n",
            "TRAIN_ACC: 0.7745000123977661\n",
            "VAL ACC: 0.6334999799728394\n",
            "Training Loss after epoch 17: 592.9620238021016\n",
            "Validation Loss after epoch 17: 1.7972376346588135\n",
            "TRAIN_ACC: 0.7799999713897705\n",
            "VAL ACC: 0.6234999895095825\n",
            "Training Loss after epoch 18: 559.971317704767\n",
            "Validation Loss after epoch 18: 1.7992403507232666\n",
            "TRAIN_ACC: 0.8345000147819519\n",
            "VAL ACC: 0.659500002861023\n",
            "Training Loss after epoch 19: 528.3144932314754\n",
            "Validation Loss after epoch 19: 1.7140257358551025\n",
            "TRAIN_ACC: 0.8084999918937683\n",
            "VAL ACC: 0.6449999809265137\n",
            "Training Loss after epoch 20: 494.16115744784474\n",
            "Validation Loss after epoch 20: 1.9219305515289307\n"
          ]
        }
      ],
      "source": [
        "mymodel = Model().to('cuda:0')\n",
        "criterion = nn.CrossEntropyLoss()\n",
        "# kl_criterion = torch.nn.KLDivLoss(reduction=\"batchmean\", log_target=True)\n",
        "optimizer = optim.Adam(mymodel.parameters(), lr=0.001)\n",
        "val_loss = torch.empty(epochs)\n",
        "train_loss = torch.empty(epochs)\n",
        "valb = 32\n",
        "acc_v = np.zeros(epochs)\n",
        "acc_t = np.zeros(epochs)\n",
        "for epoch in range(epochs):\n",
        "  rloss = 0\n",
        "  acc = 0\n",
        "  count = 0\n",
        "  vloss = 0\n",
        "  for b in range(n_batches):\n",
        "  # for b in range(10):\n",
        "    xbatch = train_x[(b)*batch:(b+1)*(batch)].to('cuda:0')\n",
        "    ybatch = train_y_framed[(b)*batch:(b+1)*(batch)].to('cuda:0')\n",
        "    predict = mymodel.forward(xbatch)\n",
        "    loss = criterion(predict,ybatch)\n",
        "    optimizer.zero_grad()\n",
        "    loss.backward()\n",
        "    rloss+=loss.item()\n",
        "    optimizer.step()\n",
        "  predict_val_v = mymodel.forward(test_x[:2000].to('cuda:0'))\n",
        "  predict_val_t = mymodel.forward(train_x[:2000].to('cuda:0'))\n",
        "  pred_labels_v = torch.argmax(predict_val_v, dim=1)\n",
        "  pred_labels_t = torch.argmax(predict_val_t, dim=1)\n",
        "  acc_t[epoch]= metric(pred_labels_t, train_y[:2000].to('cuda:0'))\n",
        "  acc_v[epoch]=metric(pred_labels_v, test_y[:2000].to('cuda:0'))\n",
        "  print(f'TRAIN_ACC: {acc_t[epoch]}')\n",
        "  print(f'VAL ACC: {acc_v[epoch]}')\n",
        "  loss2 = criterion(predict_val_v, test_y_framed[:2000].to('cuda:0')).item()\n",
        "  print(f\"Training Loss after epoch {epoch+1}: {rloss}\")\n",
        "  train_loss[epoch] = rloss\n",
        "  val_loss[epoch] = loss2\n",
        "  # Validation loss \n",
        "  print(f\"Validation Loss after epoch {epoch+1}: {loss2}\")\n",
        "  # p1 = torch.argmax(predic,dim=1)\n",
        "  # p2 = torch.argmax(test_y_framed[:500], dim=1)\n",
        "  # count = torch.sum(p2)\n",
        "  # val_accs[epoch] = torch.sum(torch.where(p1==p2,1,0))/count\n",
        "  # print(f'Validation acc after epoch {epoch+1}: {val_accs[epoch]}')\n"
      ]
    },
    {
      "cell_type": "code",
      "execution_count": 11,
      "metadata": {
        "colab": {
          "base_uri": "https://localhost:8080/"
        },
        "id": "zP2VJ7Ow0-uF",
        "outputId": "2ff9bbd5-f5ff-4ff1-cebc-64776579f3b4"
      },
      "outputs": [
        {
          "output_type": "stream",
          "name": "stdout",
          "text": [
            "tensor(0.6450, device='cuda:0')\n",
            "tensor([0.5561, 0.7525, 0.4359, 0.5528, 0.5606, 0.6378, 0.7593, 0.7409, 0.7189,\n",
            "        0.7143], device='cuda:0')\n"
          ]
        }
      ],
      "source": [
        "metric = Accuracy(task=\"multiclass\", num_classes=10).to('cuda:0')\n",
        "acc_metric = MulticlassAccuracy(num_classes=10, average=None).to('cuda:0')\n",
        "# finalpred = mymodel.forward(test_x[:1000])\n",
        "pred_labels = torch.argmax(predict_val_v, dim=1)\n",
        "classaccs = acc_metric(pred_labels, test_y[:2000].to('cuda:0'))\n",
        "accfinal = metric(pred_labels, test_y[:2000].to('cuda:0'))\n",
        "print(accfinal)\n",
        "print(classaccs)"
      ]
    },
    {
      "cell_type": "code",
      "execution_count": 12,
      "metadata": {
        "colab": {
          "base_uri": "https://localhost:8080/"
        },
        "id": "9JxlTPhBG1Nk",
        "outputId": "72e3bf73-6272-4c16-b75a-b9b276c77b58"
      },
      "outputs": [
        {
          "output_type": "stream",
          "name": "stdout",
          "text": [
            "[0.546      0.62800002 0.67750001 0.71399999 0.7335     0.74550003\n",
            " 0.75550002 0.77100003 0.79799998 0.80599999 0.80250001 0.8125\n",
            " 0.81349999 0.82300001 0.824      0.7845     0.77450001 0.77999997\n",
            " 0.83450001 0.80849999]\n",
            "[0.54650003 0.60600001 0.6455     0.66399997 0.67949998 0.68650001\n",
            " 0.685      0.685      0.68800002 0.69300002 0.69550002 0.68550003\n",
            " 0.68550003 0.66900003 0.6645     0.64749998 0.63349998 0.62349999\n",
            " 0.6595     0.64499998]\n"
          ]
        }
      ],
      "source": [
        "print(acc_t)\n",
        "print(acc_v)"
      ]
    },
    {
      "cell_type": "code",
      "execution_count": 13,
      "metadata": {
        "colab": {
          "base_uri": "https://localhost:8080/",
          "height": 701
        },
        "id": "g-utLF_A1Mmq",
        "outputId": "390876b3-3158-4765-c5b0-d79d92a5c05e"
      },
      "outputs": [
        {
          "output_type": "display_data",
          "data": {
            "text/plain": [
              "<Figure size 1000x800 with 1 Axes>"
            ],
            "image/png": "[encoded data removed]"
          },
          "metadata": {}
        }
      ],
      "source": [
        "plt.figure(figsize=(10,8))\n",
        "plt.xlabel('CLASSES--->')\n",
        "plt.ylabel('ACCURACY--->')\n",
        "plt.xticks(np.arange(0,10))\n",
        "plt.ylim(0,1)\n",
        "plt.bar(np.arange(0,10),classaccs.to('cpu'),color='blue',label='DATA AUGMENTATION = OFF',width=0.3)\n",
        "plt.legend()\n",
        "plt.show()"
      ]
    },
    {
      "cell_type": "code",
      "execution_count": 14,
      "metadata": {
        "colab": {
          "base_uri": "https://localhost:8080/"
        },
        "id": "tgozQ9TU1URe",
        "outputId": "f0c278d3-096a-4a01-c295-e51e745e4427"
      },
      "outputs": [
        {
          "output_type": "stream",
          "name": "stdout",
          "text": [
            "tensor([2452.7632, 1887.3795, 1621.8368, 1437.3561, 1301.6403, 1193.1708,\n",
            "        1106.6012, 1023.8632,  951.0784,  889.8856,  835.2479,  790.8333,\n",
            "         747.7883,  713.0890,  665.0524,  626.5083,  592.9620,  559.9713,\n",
            "         528.3145,  494.1612])\n",
            "tensor([1.2782, 1.1141, 0.9958, 0.9445, 0.9132, 0.9048, 0.9377, 0.9528, 0.9765,\n",
            "        1.0120, 1.0783, 1.1239, 1.2248, 1.3173, 1.3603, 1.5729, 1.7972, 1.7992,\n",
            "        1.7140, 1.9219])\n",
            "tensor([4.9071, 3.7760, 3.2447, 2.8756, 2.6041, 2.3871, 2.2139, 2.0484, 1.9028,\n",
            "        1.7803, 1.6710, 1.5822, 1.4961, 1.4266, 1.3305, 1.2534, 1.1863, 1.1203,\n",
            "        1.0570, 0.9886])\n",
            "tensor([0.0639, 0.0557, 0.0498, 0.0472, 0.0457, 0.0452, 0.0469, 0.0476, 0.0488,\n",
            "        0.0506, 0.0539, 0.0562, 0.0612, 0.0659, 0.0680, 0.0786, 0.0899, 0.0900,\n",
            "        0.0857, 0.0961])\n"
          ]
        }
      ],
      "source": [
        "print(train_loss)\n",
        "print(val_loss)\n",
        "train_loss = train_loss/499.84\n",
        "val_loss = val_loss/20\n",
        "print(train_loss)\n",
        "print(val_loss)\n",
        "tloss = train_loss.detach().numpy()\n",
        "vloss = val_loss.detach().numpy()"
      ]
    },
    {
      "cell_type": "code",
      "execution_count": null,
      "metadata": {
        "id": "UQ7DTFliTxNT"
      },
      "outputs": [],
      "source": [
        "aug_t = np.array([0.5720, 0.6515, 0.6935, 0.7135, 0.7445, 0.7675, 0.7685, 0.7675, 0.7785,\n",
        "        0.7865, 0.8365, 0.8225, 0.7910, 0.8280, 0.8450, 0.8425, 0.8295, 0.8370,\n",
        "        0.8660, 0.8795, 0.8715, 0.8870, 0.8805, 0.8845, 0.8790, 0.8970, 0.9090,\n",
        "        0.8815, 0.9205, 0.9160, 0.9020, 0.9175, 0.9260, 0.9190, 0.9255])\n",
        "aug_v = np.array([0.5605, 0.6355, 0.6760, 0.6795, 0.6850, 0.6825, 0.6800, 0.6700, 0.6680,\n",
        "        0.6690, 0.6700, 0.6655, 0.6445, 0.6510, 0.6570, 0.6515, 0.6375, 0.6415,\n",
        "        0.6470, 0.6480, 0.6455, 0.6385, 0.6500, 0.6575, 0.6320, 0.6475, 0.6440,\n",
        "        0.6425, 0.6565, 0.6580, 0.6430, 0.6510, 0.6580, 0.6490, 0.6515])"
      ]
    },
    {
      "cell_type": "code",
      "execution_count": null,
      "metadata": {
        "colab": {
          "base_uri": "https://localhost:8080/",
          "height": 547
        },
        "id": "Lj1uMZJL1YPA",
        "outputId": "a8281e33-2abe-4e7d-ccba-175096b50dba"
      },
      "outputs": [
        {
          "output_type": "display_data",
          "data": {
            "text/plain": [
              "<Figure size 1000x600 with 1 Axes>"
            ],
            "image/png": "[encoded data removed]"
          },
          "metadata": {}
        }
      ],
      "source": [
        "#CODE PLOT:\n",
        "plt.figure(figsize=(10,6))\n",
        "plt.xlabel('EPOCHS--->')\n",
        "plt.ylabel('ACCURACY--->')\n",
        "epoch_arr = np.arange(0,35)\n",
        "epoch_ticks = np.arange(0,37, 2)\n",
        "plt.xticks(epoch_ticks)\n",
        "plt.ylim(0.4,1)\n",
        "plt.plot(epoch_arr, acc_t, 'r', label='Augment=OFF (Train)', linewidth=2)\n",
        "plt.plot(epoch_arr, aug_t,'orange',label='Augment=ON (Train)',linewidth=2)\n",
        "plt.plot(epoch_arr, aug_v,'b',label='Augment=OFF (Validation)',linewidth=2)\n",
        "plt.plot(epoch_arr, acc_v, 'cyan', label='Augment=ON (Validation)', linewidth=2)\n",
        "plt.legend()\n",
        "plt.show()"
      ]
    },
    {
      "cell_type": "code",
      "execution_count": null,
      "metadata": {
        "id": "n62XuXwS_4Eq"
      },
      "outputs": [],
      "source": [
        "tl1 = np.array([4.6798, 3.3941, 2.8265, 2.4660, 2.1989, 1.9609, 1.7747, 1.6242, 1.4892,\n",
        "        1.3689, 1.2531, 1.1638, 1.0528, 1.0081, 0.8814, 0.8194, 0.7478, 0.7082,\n",
        "        0.6791, 0.6537, 0.6183, 0.5833, 0.5416, 0.5054, 0.5074, 0.4823, 0.4684,\n",
        "        0.4659, 0.4149, 0.4265, 0.4078, 0.3694, 0.3801, 0.3687, 0.3771, 0.3576,\n",
        "        0.3460, 0.3161, 0.3150, 0.3330])\n",
        "vl1 = np.array([0.1161, 0.0948, 0.0859, 0.0852, 0.0833, 0.0834, 0.0873, 0.0989, 0.1098,\n",
        "        0.1100, 0.1288, 0.1259, 0.1339, 0.1322, 0.1391, 0.1521, 0.1569, 0.1839,\n",
        "        0.1775, 0.1735, 0.1900, 0.1962, 0.1942, 0.1888, 0.1935, 0.2044, 0.2132,\n",
        "        0.2154, 0.2212, 0.2347, 0.2302, 0.2399, 0.2324, 0.2558, 0.2346, 0.2348,\n",
        "        0.2466, 0.2469, 0.2581, 0.2616])\n",
        "tl2 = np.array([4.6784, 3.4763, 2.9480, 2.5952, 2.3215, 2.1208, 1.9300, 1.7683, 1.6207,\n",
        "        1.5087, 1.4010, 1.3048, 1.2065, 1.0950, 1.0352, 0.9813, 0.9186, 0.8465,\n",
        "        0.7616, 0.7253])\n",
        "vl2 = np.array([0.1203, 0.0993, 0.0892, 0.0878, 0.0908, 0.0926, 0.0910, 0.0901, 0.0977,\n",
        "        0.1056, 0.1151, 0.1277, 0.1301, 0.1469, 0.1453, 0.1558, 0.1589, 0.1636,\n",
        "        0.1656, 0.1696])\n"
      ]
    },
    {
      "cell_type": "code",
      "execution_count": null,
      "metadata": {
        "colab": {
          "base_uri": "https://localhost:8080/",
          "height": 542
        },
        "id": "jBh-Zf7mALoZ",
        "outputId": "2e425a2f-a24f-4a88-da2e-4242d85ccc06"
      },
      "outputs": [
        {
          "output_type": "display_data",
          "data": {
            "text/plain": [
              "<Figure size 1000x600 with 1 Axes>"
            ],
            "image/png": "[encoded data removed]"
          },
          "metadata": {}
        }
      ],
      "source": [
        "plt.figure(figsize=(10,6))\n",
        "plt.xlabel('EPOCHS--->')\n",
        "plt.ylabel('CROSS ENTROPY LOSS--->')\n",
        "epoch_arr = np.arange(0,10)\n",
        "epoch_ticks = np.arange(0,12,2)\n",
        "plt.xticks(epoch_ticks)\n",
        "# plt.ylim(0,3)\n",
        "# plt.plot(epoch_arr, tloss, 'r', label='AUGMENT=OFF', linewidth=2)\n",
        "plt.plot(epoch_arr, vl2[:10], 'b', label='AUGMENT=OFF', linewidth=2)\n",
        "# plt.plot(epoch_arr, tl1[:20], 'lime', label='AUGMENT=ON', linewidth=2)\n",
        "plt.plot(epoch_arr, vl1[:10], 'purple', label='AUGMENT=ON', linewidth=2)\n",
        "plt.legend()\n",
        "plt.show()"
      ]
    },
    {
      "cell_type": "code",
      "execution_count": null,
      "metadata": {
        "id": "ndNUlmweB3NC"
      },
      "outputs": [],
      "source": []
    }
  ],
  "metadata": {
    "accelerator": "GPU",
    "colab": {
      "provenance": []
    },
    "gpuClass": "standard",
    "kernelspec": {
      "display_name": "Python 3.8.10 64-bit",
      "language": "python",
      "name": "python3"
    },
    "language_info": {
      "name": "python",
      "version": "3.8.10"
    },
    "vscode": {
      "interpreter": {
        "hash": "916dbcbb3f70747c44a77c7bcd40155683ae19c65e1c03b4aa3499c5328201f1"
      }
    },
    "widgets": {
      "application/vnd.jupyter.widget-state+json": {
        "a5721ed1ed19495caabb205cbddab427": {
          "model_module": "@jupyter-widgets/controls",
          "model_name": "HBoxModel",
          "model_module_version": "1.5.0",
          "state": {
            "_dom_classes": [],
            "_model_module": "@jupyter-widgets/controls",
            "_model_module_version": "1.5.0",
            "_model_name": "HBoxModel",
            "_view_count": null,
            "_view_module": "@jupyter-widgets/controls",
            "_view_module_version": "1.5.0",
            "_view_name": "HBoxView",
            "box_style": "",
            "children": [
              "IPY_MODEL_47017bb6c33b4899b222646d9d87d165",
              "IPY_MODEL_58d18637df4046cc8b5c487e8e677e37",
              "IPY_MODEL_2e1d199c034d4195a4db2566cc4020a3"
            ],
            "layout": "IPY_MODEL_482a30273aad44788b6bcf5108cfa062"
          }
        },
        "47017bb6c33b4899b222646d9d87d165": {
          "model_module": "@jupyter-widgets/controls",
          "model_name": "HTMLModel",
          "model_module_version": "1.5.0",
          "state": {
            "_dom_classes": [],
            "_model_module": "@jupyter-widgets/controls",
            "_model_module_version": "1.5.0",
            "_model_name": "HTMLModel",
            "_view_count": null,
            "_view_module": "@jupyter-widgets/controls",
            "_view_module_version": "1.5.0",
            "_view_name": "HTMLView",
            "description": "",
            "description_tooltip": null,
            "layout": "IPY_MODEL_c6fae4908277443ebc2b9898ff6bb34c",
            "placeholder": "​",
            "style": "IPY_MODEL_49c9430d183c4873894aefacb9a9ebf4",
            "value": "100%"
          }
        },
        "58d18637df4046cc8b5c487e8e677e37": {
          "model_module": "@jupyter-widgets/controls",
          "model_name": "FloatProgressModel",
          "model_module_version": "1.5.0",
          "state": {
            "_dom_classes": [],
            "_model_module": "@jupyter-widgets/controls",
            "_model_module_version": "1.5.0",
            "_model_name": "FloatProgressModel",
            "_view_count": null,
            "_view_module": "@jupyter-widgets/controls",
            "_view_module_version": "1.5.0",
            "_view_name": "ProgressView",
            "bar_style": "success",
            "description": "",
            "description_tooltip": null,
            "layout": "IPY_MODEL_4652a89a5e604e9da8d275cdc55949b7",
            "max": 170498071,
            "min": 0,
            "orientation": "horizontal",
            "style": "IPY_MODEL_211bd3dc78044b97b2bb36fc3fb36a4a",
            "value": 170498071
          }
        },
        "2e1d199c034d4195a4db2566cc4020a3": {
          "model_module": "@jupyter-widgets/controls",
          "model_name": "HTMLModel",
          "model_module_version": "1.5.0",
          "state": {
            "_dom_classes": [],
            "_model_module": "@jupyter-widgets/controls",
            "_model_module_version": "1.5.0",
            "_model_name": "HTMLModel",
            "_view_count": null,
            "_view_module": "@jupyter-widgets/controls",
            "_view_module_version": "1.5.0",
            "_view_name": "HTMLView",
            "description": "",
            "description_tooltip": null,
            "layout": "IPY_MODEL_78d868d358a04be390eb086c009a974e",
            "placeholder": "​",
            "style": "IPY_MODEL_576c98c57865418d84c1d9a5735db9b4",
            "value": " 170498071/170498071 [00:13&lt;00:00, 13234321.85it/s]"
          }
        },
        "482a30273aad44788b6bcf5108cfa062": {
          "model_module": "@jupyter-widgets/base",
          "model_name": "LayoutModel",
          "model_module_version": "1.2.0",
          "state": {
            "_model_module": "@jupyter-widgets/base",
            "_model_module_version": "1.2.0",
            "_model_name": "LayoutModel",
            "_view_count": null,
            "_view_module": "@jupyter-widgets/base",
            "_view_module_version": "1.2.0",
            "_view_name": "LayoutView",
            "align_content": null,
            "align_items": null,
            "align_self": null,
            "border": null,
            "bottom": null,
            "display": null,
            "flex": null,
            "flex_flow": null,
            "grid_area": null,
            "grid_auto_columns": null,
            "grid_auto_flow": null,
            "grid_auto_rows": null,
            "grid_column": null,
            "grid_gap": null,
            "grid_row": null,
            "grid_template_areas": null,
            "grid_template_columns": null,
            "grid_template_rows": null,
            "height": null,
            "justify_content": null,
            "justify_items": null,
            "left": null,
            "margin": null,
            "max_height": null,
            "max_width": null,
            "min_height": null,
            "min_width": null,
            "object_fit": null,
            "object_position": null,
            "order": null,
            "overflow": null,
            "overflow_x": null,
            "overflow_y": null,
            "padding": null,
            "right": null,
            "top": null,
            "visibility": null,
            "width": null
          }
        },
        "c6fae4908277443ebc2b9898ff6bb34c": {
          "model_module": "@jupyter-widgets/base",
          "model_name": "LayoutModel",
          "model_module_version": "1.2.0",
          "state": {
            "_model_module": "@jupyter-widgets/base",
            "_model_module_version": "1.2.0",
            "_model_name": "LayoutModel",
            "_view_count": null,
            "_view_module": "@jupyter-widgets/base",
            "_view_module_version": "1.2.0",
            "_view_name": "LayoutView",
            "align_content": null,
            "align_items": null,
            "align_self": null,
            "border": null,
            "bottom": null,
            "display": null,
            "flex": null,
            "flex_flow": null,
            "grid_area": null,
            "grid_auto_columns": null,
            "grid_auto_flow": null,
            "grid_auto_rows": null,
            "grid_column": null,
            "grid_gap": null,
            "grid_row": null,
            "grid_template_areas": null,
            "grid_template_columns": null,
            "grid_template_rows": null,
            "height": null,
            "justify_content": null,
            "justify_items": null,
            "left": null,
            "margin": null,
            "max_height": null,
            "max_width": null,
            "min_height": null,
            "min_width": null,
            "object_fit": null,
            "object_position": null,
            "order": null,
            "overflow": null,
            "overflow_x": null,
            "overflow_y": null,
            "padding": null,
            "right": null,
            "top": null,
            "visibility": null,
            "width": null
          }
        },
        "49c9430d183c4873894aefacb9a9ebf4": {
          "model_module": "@jupyter-widgets/controls",
          "model_name": "DescriptionStyleModel",
          "model_module_version": "1.5.0",
          "state": {
            "_model_module": "@jupyter-widgets/controls",
            "_model_module_version": "1.5.0",
            "_model_name": "DescriptionStyleModel",
            "_view_count": null,
            "_view_module": "@jupyter-widgets/base",
            "_view_module_version": "1.2.0",
            "_view_name": "StyleView",
            "description_width": ""
          }
        },
        "4652a89a5e604e9da8d275cdc55949b7": {
          "model_module": "@jupyter-widgets/base",
          "model_name": "LayoutModel",
          "model_module_version": "1.2.0",
          "state": {
            "_model_module": "@jupyter-widgets/base",
            "_model_module_version": "1.2.0",
            "_model_name": "LayoutModel",
            "_view_count": null,
            "_view_module": "@jupyter-widgets/base",
            "_view_module_version": "1.2.0",
            "_view_name": "LayoutView",
            "align_content": null,
            "align_items": null,
            "align_self": null,
            "border": null,
            "bottom": null,
            "display": null,
            "flex": null,
            "flex_flow": null,
            "grid_area": null,
            "grid_auto_columns": null,
            "grid_auto_flow": null,
            "grid_auto_rows": null,
            "grid_column": null,
            "grid_gap": null,
            "grid_row": null,
            "grid_template_areas": null,
            "grid_template_columns": null,
            "grid_template_rows": null,
            "height": null,
            "justify_content": null,
            "justify_items": null,
            "left": null,
            "margin": null,
            "max_height": null,
            "max_width": null,
            "min_height": null,
            "min_width": null,
            "object_fit": null,
            "object_position": null,
            "order": null,
            "overflow": null,
            "overflow_x": null,
            "overflow_y": null,
            "padding": null,
            "right": null,
            "top": null,
            "visibility": null,
            "width": null
          }
        },
        "211bd3dc78044b97b2bb36fc3fb36a4a": {
          "model_module": "@jupyter-widgets/controls",
          "model_name": "ProgressStyleModel",
          "model_module_version": "1.5.0",
          "state": {
            "_model_module": "@jupyter-widgets/controls",
            "_model_module_version": "1.5.0",
            "_model_name": "ProgressStyleModel",
            "_view_count": null,
            "_view_module": "@jupyter-widgets/base",
            "_view_module_version": "1.2.0",
            "_view_name": "StyleView",
            "bar_color": null,
            "description_width": ""
          }
        },
        "78d868d358a04be390eb086c009a974e": {
          "model_module": "@jupyter-widgets/base",
          "model_name": "LayoutModel",
          "model_module_version": "1.2.0",
          "state": {
            "_model_module": "@jupyter-widgets/base",
            "_model_module_version": "1.2.0",
            "_model_name": "LayoutModel",
            "_view_count": null,
            "_view_module": "@jupyter-widgets/base",
            "_view_module_version": "1.2.0",
            "_view_name": "LayoutView",
            "align_content": null,
            "align_items": null,
            "align_self": null,
            "border": null,
            "bottom": null,
            "display": null,
            "flex": null,
            "flex_flow": null,
            "grid_area": null,
            "grid_auto_columns": null,
            "grid_auto_flow": null,
            "grid_auto_rows": null,
            "grid_column": null,
            "grid_gap": null,
            "grid_row": null,
            "grid_template_areas": null,
            "grid_template_columns": null,
            "grid_template_rows": null,
            "height": null,
            "justify_content": null,
            "justify_items": null,
            "left": null,
            "margin": null,
            "max_height": null,
            "max_width": null,
            "min_height": null,
            "min_width": null,
            "object_fit": null,
            "object_position": null,
            "order": null,
            "overflow": null,
            "overflow_x": null,
            "overflow_y": null,
            "padding": null,
            "right": null,
            "top": null,
            "visibility": null,
            "width": null
          }
        },
        "576c98c57865418d84c1d9a5735db9b4": {
          "model_module": "@jupyter-widgets/controls",
          "model_name": "DescriptionStyleModel",
          "model_module_version": "1.5.0",
          "state": {
            "_model_module": "@jupyter-widgets/controls",
            "_model_module_version": "1.5.0",
            "_model_name": "DescriptionStyleModel",
            "_view_count": null,
            "_view_module": "@jupyter-widgets/base",
            "_view_module_version": "1.2.0",
            "_view_name": "StyleView",
            "description_width": ""
          }
        }
      }
    }
  },
  "nbformat": 4,
  "nbformat_minor": 0
}