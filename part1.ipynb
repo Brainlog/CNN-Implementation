{
 "cells": [
  {
   "cell_type": "code",
   "execution_count": 39,
   "metadata": {},
   "outputs": [],
   "source": [
    "## Lbraries\n",
    "import numpy as np\n",
    "from numba import njit\n",
    "import scipy"
   ]
  },
  {
   "cell_type": "code",
   "execution_count": 40,
   "metadata": {},
   "outputs": [],
   "source": [
    "## Load data\n",
    "import tarfile as tr\n",
    "fil = tr.open(\"cifar-10-python.tar.gz\")\n",
    "fil.extractall()\n",
    "fil.close()"
   ]
  },
  {
   "cell_type": "code",
   "execution_count": 41,
   "metadata": {},
   "outputs": [],
   "source": [
    "## Data Loading\n",
    "def unpickle(file):\n",
    "    import pickle\n",
    "    with open(file, 'rb') as fo:\n",
    "        dict = pickle.load(fo, encoding='bytes')\n",
    "    return dict\n",
    "\n",
    "dict1 = unpickle(f\"cifar-10-batches-py/data_batch_1\")\n",
    "dict2 = unpickle(f\"cifar-10-batches-py/data_batch_2\")\n",
    "dict3 = unpickle(f\"cifar-10-batches-py/data_batch_3\")\n",
    "dict4 = unpickle(f\"cifar-10-batches-py/data_batch_4\")\n",
    "dict5 = unpickle(f\"cifar-10-batches-py/data_batch_5\")\n",
    "dict_test = unpickle(f\"cifar-10-batches-py/test_batch\")"
   ]
  },
  {
   "cell_type": "code",
   "execution_count": 42,
   "metadata": {},
   "outputs": [],
   "source": [
    "## dict_keys([b'batch_label', b'labels', b'data', b'filenames'])\n",
    "## 0 to 1023 First channel RED\n",
    "## 1023 to 2047 Second channel GREEN\n",
    "## 2047 to 3071 Third channel BLUE\n",
    "\n",
    "## concatenate data\n",
    "train_X = np.concatenate((dict1[b'data'], dict2[b'data'],dict3[b'data'],dict4[b'data'],dict5[b'data']), axis=0)\n",
    "train_Y = np.concatenate((dict1[b'labels'], dict2[b'labels'],dict3[b'labels'],dict4[b'labels'],dict5[b'labels']), axis=0)\n",
    "test_X = np.array(dict_test[b'data'])\n",
    "test_Y = np.array(dict_test[b'labels'])"
   ]
  },
  {
   "cell_type": "code",
   "execution_count": 43,
   "metadata": {},
   "outputs": [],
   "source": [
    "def slided_matrix(x, y_shape, kernel, stride=1):\n",
    "    working_input = x\n",
    "    \n",
    "    _, _, out_h, out_w = y_shape\n",
    "    out_b, in_c, _, _ = x.shape\n",
    "    batch_str, channel_str, kern_h_str, kern_w_str = working_input.strides\n",
    "\n",
    "    A =  np.lib.stride_tricks.as_strided(\n",
    "        working_input,\n",
    "        (out_b, in_c, out_h, out_w, kernel.shape[2], kernel.shape[2]),\n",
    "        (batch_str, channel_str, stride * kern_h_str, stride * kern_w_str, kern_h_str, kern_w_str))\n",
    "    return (np.einsum('siabkl,oikl->soab',A,kernel), A)\n",
    "\n",
    "def fullconvolve(de_dy,X,K,B,prev_windows):\n",
    "    de_dw = np.einsum('sihwkl,sohw->oikl',prev_windows,de_dy)\n",
    "    de_db = np.zeros(B.shape)\n",
    "    k = K.shape[2]\n",
    "    de_dy_1 = np.pad(de_dy,((0,0),(0,0),(k-1,k-1),(k-1,k-1)),constant_values=0)\n",
    "    new_K = np.rot90(K,2,(2,3))\n",
    "    (a,b,c,d) = de_dy_1.shape ## input\n",
    "    (e,f,g,h) = new_K.shape ## kernel\n",
    "    (i,j,k,l) = X.shape ## output\n",
    "    (p,q,r,s) = de_dy_1.strides\n",
    "    output_1 = np.lib.stride_tricks.as_strided(\n",
    "        de_dy_1,\n",
    "        (a,b,k,l,g,g),\n",
    "        (p,q,r,s,r,s)\n",
    "    )\n",
    "    de_dx = np.einsum('sohwkl,oikl->sihw',output_1,new_K)\n",
    "    \n",
    "    return (de_dw,de_db,de_dx)  \n",
    "        \n",
    "    \n"
   ]
  },
  {
   "cell_type": "code",
   "execution_count": 44,
   "metadata": {},
   "outputs": [],
   "source": [
    "a = np.ones((4,4,4,4))\n",
    "b = np.ones(())\n"
   ]
  },
  {
   "cell_type": "code",
   "execution_count": 45,
   "metadata": {},
   "outputs": [],
   "source": [
    "def maxpool(x, shape):\n",
    "    windows = np.lib.stride_tricks.as_strided(x,shape,axis=(2,3), strides=2)\n",
    "    maxpool = np.max(windows, axis=(4,5))\n",
    "    return maxpool\n",
    "def relu(x):\n",
    "    return x * (x > 0)\n",
    "def pad(x):\n",
    "    return np.pad(x, pad_width=1, constant_values=0)\n",
    "def flatten(x):\n",
    "    return x.reshape(-1)\n",
    "def convolve(x, w):\n",
    "    windows = np.lib.stride_tricks.sliding_window_view(x, w.shape)\n",
    "    A = np.einsum('ij,klij->kl',w,windows)\n",
    "    return A\n",
    "def cross_entropy(y_true, y_pred):\n",
    "    return -np.sum(y_true * np.log(y_pred))\n",
    "def softmax(x):\n",
    "    return np.exp(x) / np.sum(np.exp(x), axis=0)  "
   ]
  },
  {
   "cell_type": "code",
   "execution_count": 48,
   "metadata": {},
   "outputs": [
    {
     "name": "stdout",
     "output_type": "stream",
     "text": [
      "(50000, 10)\n"
     ]
    }
   ],
   "source": [
    "##dataload\n",
    "train_X = train_X.reshape(-1,3,32,32) \n",
    "train_X = train_X/255\n",
    "L = np.zeros((len(train_X),10))\n",
    "for i in range(len(train_Y)):\n",
    "    L[i] = np.eye(10)[train_Y[i]]\n",
    "train_Y = L\n",
    "print(train_Y.shape)"
   ]
  },
  {
   "cell_type": "code",
   "execution_count": 49,
   "metadata": {},
   "outputs": [
    {
     "name": "stdout",
     "output_type": "stream",
     "text": [
      "(50000, 3, 32, 32)\n",
      "(50000, 10)\n"
     ]
    }
   ],
   "source": [
    "print(train_X.shape)\n",
    "print(train_Y.shape)"
   ]
  },
  {
   "cell_type": "code",
   "execution_count": 50,
   "metadata": {},
   "outputs": [],
   "source": [
    "## helper :\n",
    "def soft_max(x):\n",
    "    return np.exp(x) / np.sum(np.exp(x), axis=0)\n",
    "\n",
    "def cross_entropy(y_true, y_pred):\n",
    "    return -np.sum(y_true * np.log(y_pred))\n",
    "\n",
    "def rotatefullconvolve(x, w):\n",
    "    f = w.copy()\n",
    "    j = x.copy()\n",
    "    j = np.pad(j,pad_width=w.shape[0]-1,constant_values=0)\n",
    "    f = np.rot90(f, 2)\n",
    "    windows = np.lib.stride_tricks.sliding_window_view(j, w.shape)\n",
    "    A = np.einsum('ij,klij->kl',f,windows)\n",
    "    return A\n"
   ]
  },
  {
   "cell_type": "code",
   "execution_count": null,
   "metadata": {},
   "outputs": [],
   "source": []
  },
  {
   "cell_type": "code",
   "execution_count": 51,
   "metadata": {},
   "outputs": [
    {
     "name": "stdout",
     "output_type": "stream",
     "text": [
      "[[[[0.2 0.2 0.2]\n",
      "   [0.2 0.2 0.2]\n",
      "   [0.2 0.2 0.2]]\n",
      "\n",
      "  [[0.2 0.2 0.2]\n",
      "   [0.2 0.2 0.2]\n",
      "   [0.2 0.2 0.2]]\n",
      "\n",
      "  [[0.2 0.2 0.2]\n",
      "   [0.2 0.2 0.2]\n",
      "   [0.2 0.2 0.2]]]\n",
      "\n",
      "\n",
      " [[[0.2 0.2 0.2]\n",
      "   [0.2 0.2 0.2]\n",
      "   [0.2 0.2 0.2]]\n",
      "\n",
      "  [[0.2 0.2 0.2]\n",
      "   [0.2 0.2 0.2]\n",
      "   [0.2 0.2 0.2]]\n",
      "\n",
      "  [[0.2 0.2 0.2]\n",
      "   [0.2 0.2 0.2]\n",
      "   [0.2 0.2 0.2]]]\n",
      "\n",
      "\n",
      " [[[0.2 0.2 0.2]\n",
      "   [0.2 0.2 0.2]\n",
      "   [0.2 0.2 0.2]]\n",
      "\n",
      "  [[0.2 0.2 0.2]\n",
      "   [0.2 0.2 0.2]\n",
      "   [0.2 0.2 0.2]]\n",
      "\n",
      "  [[0.2 0.2 0.2]\n",
      "   [0.2 0.2 0.2]\n",
      "   [0.2 0.2 0.2]]]]\n"
     ]
    }
   ],
   "source": [
    "import numpy as np\n",
    "a = np.ones((3,3,3,3))\n",
    "a = a/5\n",
    "print(a)"
   ]
  },
  {
   "cell_type": "code",
   "execution_count": 89,
   "metadata": {},
   "outputs": [],
   "source": [
    "class Model:\n",
    "    def __init__(self,batchsize) -> None:\n",
    "        self.learning_rate = 0.001\n",
    "        self.beta1 = 0.9\n",
    "        self.beta2 = 0.99\n",
    "        self.epsilon = 1e-8\n",
    "        self.windows1 = None\n",
    "        self.windows2 = None\n",
    "        self.windows3 = None\n",
    "        \n",
    "        self.batchsize = batchsize\n",
    "        init1 = np.sqrt(6/(32*3))\n",
    "        self.K1 = np.random.normal(0,init1,(32,3,3,3))\n",
    "        self.K1[0][0] = np.random.randn(self.K1.shape[2],self.K1.shape[3])\n",
    "        self.K1[0][1] = np.random.randn(self.K1.shape[2],self.K1.shape[3])\n",
    "        self.K1[0][2] = np.random.randn(self.K1.shape[2],self.K1.shape[3])\n",
    "        self.B1 = np.zeros((32,32,32))\n",
    "        self.ADAm1 = np.zeros((32,3,3,3))\n",
    "        self.ADAv1 = np.zeros((32,3,3,3))\n",
    "        self.ADAm1_bias = np.zeros((32,32,32))\n",
    "        self.ADAv1_bias = np.zeros((32,32,32))\n",
    "        \n",
    "        \n",
    "        self.Y1 = np.zeros((batchsize,32,32,32)) ##### INPUT FOR RELU\n",
    "        self.RELUY1 = np.zeros((batchsize,32,32,32)) #### INPUT FOR MAXPOOL\n",
    "        self.M1mask = np.zeros((batchsize,32,32,32)) #### MASK FOR MAXPOOL1\n",
    "        self.M1 = (2,2) # stride 2\n",
    "        # Now input is 5000x32(outchannels)x16x16\n",
    "        self.MY1 = np.zeros((batchsize,32,16,16)) #### INPUT FOR CONVOLUTION\n",
    "        init2 = np.sqrt(1/(64*32))\n",
    "        self.K2 = np.random.normal(0,init2,(64,32,5,5))\n",
    "        self.B2 = np.zeros((64,14,14))\n",
    "        self.ADAm2 = np.zeros((64,32,5,5))\n",
    "        self.ADAv2 = np.zeros((64,32,5,5))\n",
    "        self.ADAm2_bias = np.zeros((64,14,14))\n",
    "        self.ADAv2_bias = np.zeros((64,14,14))\n",
    "        \n",
    "        \n",
    "        self.Y2 = np.zeros((batchsize,64,14,14)) ##### INPUT FOR RELU\n",
    "        self.RELUY2 = np.zeros((batchsize,64,14,14)) #### INPUT FOR MAXPOOL\n",
    "        self.M2mask = np.zeros((batchsize,64,14,14)) #### MASK FOR MAXPOOL2\n",
    "        self.M2 = (2,2)\n",
    "        # Now input is 5000x32x7x7\n",
    "        self.MY2 = np.zeros((batchsize,64,7,7)) #### INPUT FOR CONVOLUTION\n",
    "        init3 = np.sqrt(1/(64*64))\n",
    "        self.K3 = np.random.normal(0,init3,(64,64,3,3))\n",
    "        self.B3 = np.zeros((64,7,7))\n",
    "        self.ADAm3 = np.zeros((64,64,3,3))\n",
    "        self.ADAv3 = np.zeros((64,64,3,3))\n",
    "        self.ADAm3_bias = np.zeros((64,7,7))\n",
    "        self.ADAv3_bias = np.zeros((64,7,7))\n",
    "        \n",
    "        \n",
    "        \n",
    "        self.Y3 = np.zeros((batchsize,64,7,7)) ### INPUT FOR RELU\n",
    "        self.RELUY3 = np.zeros((batchsize,64,7,7)) ## INPUT FOR FLATTEN\n",
    "        self.flat1 = np.zeros((batchsize,64*7*7)) ## INPUT FOR FC\n",
    "        # Now input is 7x7 and 64 channels\n",
    "        init4 = np.sqrt(1/64*64*7*7)\n",
    "        self.FCW1 = np.random.normal(0,init4,(64,64*7*7))\n",
    "        self.FCB1 = np.ones((64,1))\n",
    "        self.ADAFCm1 = np.zeros((64,64*7*7))\n",
    "        self.ADAFCv1 = np.zeros((64,64*7*7))\n",
    "        self.ADAFCm1_bias = np.zeros((64,1))\n",
    "        self.ADAFCv1_bias = np.zeros((64,1))\n",
    "        \n",
    "        \n",
    "        \n",
    "        \n",
    "        self.YFC1 = np.zeros((batchsize,64)) ### INPUT FOR RELU\n",
    "        self.RELUY4 = np.zeros((batchsize,64)) ### INPUT FOR FC\n",
    "        \n",
    "        init5 = np.sqrt(1/(64*10))\n",
    "        self.FCW2 = np.random.normal(0,init5,(10,64))\n",
    "        self.FCB2 = np.ones((10,1))\n",
    "        self.ADAFCm2 = np.zeros((10,64))\n",
    "        self.ADAFCv2 = np.zeros((10,64))\n",
    "        self.ADAFCm2_bias = np.zeros((10,1))\n",
    "        self.ADAFCv2_bias = np.zeros((10,1))\n",
    "        \n",
    "        \n",
    "        self.YFC2 = np.zeros((batchsize,10)) ### INPUT FOR SOFTMAX\n",
    "        \n",
    "        \n",
    "        ## Gradients of Weights\n",
    "        self.K1_grad = np.zeros((32,3,3,3))\n",
    "        self.K2_grad = np.zeros((64,32,5,5))\n",
    "        self.K3_grad = np.zeros((64,64,3,3))\n",
    "        self.FCW1_grad = np.zeros((64,64*7*7))\n",
    "        self.FCW2_grad = np.zeros((10,64))\n",
    "        \n",
    "        ## Gradients of Biases\n",
    "        self.B1_grad = np.zeros((32,32,32))\n",
    "        self.B2_grad = np.zeros((64,14,14))\n",
    "        self.B3_grad = np.zeros((64,7,7))\n",
    "        self.FCB1_grad = np.zeros((64,1))\n",
    "        self.FCB2_grad = np.zeros((10,1))\n",
    "        \n",
    "        \n",
    "        \n",
    "        \n",
    "    def pad_layer(self,X):\n",
    "        A = np.pad(X, pad_width=((0,0),(0,0),(1,1),(1,1)), constant_values=0)\n",
    "        return A\n",
    "    \n",
    "    def conv_layer(self, X, K, B, Y):\n",
    "        return slided_matrix(X,Y.shape,K,1)\n",
    "       \n",
    "    \n",
    "    def rel_layer(self,X):\n",
    "        foo = np.vectorize(relu)\n",
    "        return foo(X)\n",
    "    \n",
    "   \n",
    "    def maxpool_layer(self, X, M):\n",
    "        _,a,b,_ = X.shape\n",
    "        windows = b//2\n",
    "        pool= X.reshape((self.batchsize, a, windows, 2,windows,2))\n",
    "        maxp = pool.max(axis=(3,5))\n",
    "        maskgrad = maxp.repeat(2, axis=3).repeat(2, axis=2)\n",
    "        fin_mask = np.where(np.equal(maskgrad, X)==True, 1, 0)\n",
    "        return (maxp, fin_mask)                    \n",
    "    \n",
    "    def flatten_layer(self,X):\n",
    "        return X.reshape(self.batchsize,-1)\n",
    "    \n",
    "    def fc_layer(self, X, W, B):\n",
    "        return np.add(np.dot(W,X.T),np.repeat(B,self.batchsize,axis=1)).T\n",
    "      \n",
    "    \n",
    "    def softmax_layer(self,X):\n",
    "        for i in range(len(X)):\n",
    "            X[i] = soft_max(X[i]) ## samples\n",
    "        return X\n",
    "         \n",
    "    def cross_entropy_layer(self,y_true, y_pred):\n",
    "        return -np.sum(np.multiply(y_true,np.log(y_pred)))  \n",
    "    \n",
    "    \n",
    "    def softmax_backprop(self, soft_output, Y_true):\n",
    "        de_dy = np.zeros(soft_output.shape)\n",
    "        for i in range(len(soft_output)):\n",
    "            de_dy[i] = np.subtract(soft_output[i], Y_true[i])\n",
    "        return de_dy\n",
    "        \n",
    "    \n",
    "    def fc_backprop(self,de_dy, X, W, B):\n",
    "\n",
    "        ## weight \n",
    "        de_dw = np.dot(de_dy.T,X)\n",
    "        ## bias \n",
    "        de_db = np.reshape(np.sum(de_dy,axis=0),(B.shape))\n",
    "        ## input\n",
    "        de_dx = np.dot(de_dy,W)\n",
    "        return (de_dw, de_db, de_dx)      \n",
    "    \n",
    "    def maxpool_mask(self, X):\n",
    "        pass \n",
    "\n",
    "    def maxpool_backprop(self, de_dy, mask): ## de_dy= 5000x32x16x16, X=5000x32x32x32, mask=5000x32x16x16\n",
    "        return np.multiply(mask, de_dy.repeat(2, axis=3).repeat(2, axis=2))\n",
    "\n",
    "    \n",
    "    \n",
    "    def relu_backprop(self,de_dy, X):\n",
    "        P = np.where(X > 0, 1 ,0)\n",
    "        P = np.multiply(P, de_dy)\n",
    "        return P\n",
    "    \n",
    "\n",
    "    \n",
    "\n",
    "    def conv_backprop(self,de_dy, X, K, B, prev_windows):\n",
    "        return fullconvolve(de_dy,X,K,B,prev_windows)\n",
    "        \n",
    "        \n",
    "        \n",
    "       \n",
    "    def flatten_backprop(self,de_dy, X):\n",
    "        return de_dy.reshape(X.shape)\n",
    "    \n",
    "    \n",
    "    def forward(self, X, debug):\n",
    "        X = self.pad_layer(X) ## input padded\n",
    "        Y = np.zeros((len(X),(self.K1.shape[0]),32,32)) \n",
    "        A = self.conv_layer(X, self.K1, self.B1, Y) \n",
    "        X = A[0]\n",
    "        self.windows1 = A[1]\n",
    "        self.Y1 = X.copy()\n",
    "        \n",
    "        if debug:\n",
    "            print(\"output after first cnn layer\")\n",
    "            print(self.Y1)\n",
    "            print(\"Kernel of cnn layer 1\")\n",
    "            print(self.K1)\n",
    "        \n",
    "        X = self.rel_layer(X)\n",
    "        self.RELUY1 = X.copy()\n",
    "        \n",
    "        X = self.maxpool_layer(X, self.M1)\n",
    "        self.MAXY1 = X[0].copy()\n",
    "        self.M1mask = X[1].copy()\n",
    "        \n",
    "        X = self.pad_layer(X[0])\n",
    "        \n",
    "        a,b,c = self.B2.shape\n",
    "        Y = np.zeros((len(X),a,b,c))\n",
    "        A = self.conv_layer(X, self.K2, self.B2, Y)\n",
    "        X = A[0]\n",
    "        self.windows2 = A[1]\n",
    "        self.Y2 = X.copy()\n",
    "        \n",
    "        if debug:\n",
    "            print(\"output after 2 cnn layer\")\n",
    "            print(self.Y2)\n",
    "            print(\"Kernel of cnn layer 2\")\n",
    "            print(self.K2)\n",
    "        \n",
    "        X = self.rel_layer(X)\n",
    "        self.RELUY2 = X.copy()\n",
    "        \n",
    "        X = self.maxpool_layer(X, self.M2)\n",
    "        self.MAXY2 = X[0].copy()\n",
    "        self.M2mask = X[1].copy()\n",
    "        \n",
    "        X = self.pad_layer(X[0])\n",
    "        \n",
    "        a,b,c = self.B3.shape\n",
    "        Y = np.zeros((len(X),a,b,c))\n",
    "        A = self.conv_layer(X, self.K3, self.B3, Y)\n",
    "        X = A[0]\n",
    "        self.windows3 = A[1]\n",
    "        self.Y3 = X.copy()\n",
    "        \n",
    "        if debug:\n",
    "            print(\"output after 3 cnn layer\")\n",
    "            print(self.Y3)\n",
    "            print(\"Kernel of cnn layer 3\")\n",
    "            print(self.K3)\n",
    "        \n",
    "        X = self.rel_layer(X)\n",
    "        self.RELUY3 = X.copy()\n",
    "        \n",
    "        \n",
    "        \n",
    "        X = self.flatten_layer(X)\n",
    "        self.flat1 = X.copy()\n",
    "        \n",
    "        X = self.fc_layer(X, self.FCW1, self.FCB1)\n",
    "        self.YFC1 = X.copy()\n",
    "        \n",
    "        if debug:\n",
    "            print(\"output after first fc layer\")\n",
    "            print(self.YFC1)\n",
    "            print(\"Kernel of fc layer 1\")\n",
    "            print(self.FCW1)\n",
    "        \n",
    "        X = self.rel_layer(X)\n",
    "        self.RELUY4 = X.copy()\n",
    "        \n",
    "        X = self.fc_layer(X, self.FCW2, self.FCB2)\n",
    "        self.YFC2 = X.copy()\n",
    "        \n",
    "        if debug:\n",
    "            print(\"output after second fc layer\")\n",
    "            print(self.YFC1)\n",
    "            print(\"Kernel of fc layer 2\")\n",
    "            print(self.FCW1)\n",
    "        \n",
    "        X = self.softmax_layer(X)\n",
    "        \n",
    "        if debug:\n",
    "            print(\"Final output\")\n",
    "            print(X)\n",
    "\n",
    "        return X\n",
    "    \n",
    "    \n",
    "    def backward(self, Y_pred, Y, input_X): ## X :- Forward returned\n",
    "        # print(Y_pred)\n",
    "        \n",
    "        de_dy = self.softmax_backprop(Y_pred, Y) ## on layer after fc2\n",
    "\n",
    "        (a, b, de_dy) = self.fc_backprop(de_dy, self.RELUY4, self.FCW2, self.FCB2) ## on layer after fc1\n",
    "        \n",
    "        self.FCW2_grad = a.copy()\n",
    "        self.FCB2_grad = b.copy()\n",
    "\n",
    "        de_dy = self.relu_backprop(de_dy, self.YFC1) ## on layer after fc1\n",
    "        \n",
    "        \n",
    "        \n",
    "        (self.FCW1_grad, self.FCB1_grad, de_dy) = self.fc_backprop(de_dy, self.flat1, self.FCW1, self.FCB1) ## on layer after flatten                \n",
    "        \n",
    "        de_dy = self.flatten_backprop(de_dy, self.RELUY3) ## on layer after conv3\n",
    "        \n",
    "        de_dy = self.relu_backprop(de_dy, self.Y3) ## on layer after conv3\n",
    "        \n",
    "        (self.K3_grad, self.B3_grad, de_dy) = self.conv_backprop(de_dy, self.pad_layer(self.MAXY2), self.K3, self.B3,self.windows3) ## on layer after maxpool2\n",
    "        \n",
    "        de_dy = de_dy[:,:,1:-1,1:-1]\n",
    "        de_dy = self.maxpool_backprop(de_dy, self.M2mask) ## on layer after maxpool2\n",
    "        \n",
    "        de_dy = self.relu_backprop(de_dy, self.Y2) ## on layer after conv2\n",
    "        \n",
    "        (self.K2_grad, self.B2_grad, de_dy) = self.conv_backprop(de_dy, self.pad_layer(self.MAXY1), self.K2, self.B2, self.windows2) ## on layer after maxpool1\n",
    "        \n",
    "        de_dy = de_dy[:,:,1:-1,1:-1]\n",
    "        de_dy = self.maxpool_backprop(de_dy, self.M1mask) ## on layer after maxpool1\n",
    "        \n",
    "        de_dy = self.relu_backprop(de_dy, self.Y1) ## on layer after conv1\n",
    "        \n",
    "        (self.K1_grad, self.B1_grad, de_dy) = self.conv_backprop(de_dy, self.pad_layer(input_X), self.K1, self.B1, self.windows1) ## on layer after input\n",
    "        \n",
    "        return\n",
    "    \n",
    "    def update(self, t, m1, v1, m1_bias, v1_bias, w_grad, b_grad, w, b):\n",
    "        m1 = self.beta1 * m1 + (1-self.beta1) * w_grad\n",
    "        v1 = self.beta2 * v1 + (1-self.beta2) * (w_grad**2)\n",
    "        m1_bias = self.beta1 * m1_bias + (1-self.beta1) * b_grad\n",
    "        v1_bias = self.beta2 * v1_bias + (1-self.beta2) * (b_grad**2)\n",
    "        m1_hat = m1 / (1 - self.beta1**t)\n",
    "        v1_hat = v1 / (1 - self.beta2**t)\n",
    "        m1_bias_hat = m1_bias / (1 - self.beta1**t)\n",
    "        v1_bias_hat = v1_bias / (1 - self.beta2**t)\n",
    "        w = w - self.learning_rate * m1_hat / (np.sqrt(v1_hat) + self.epsilon)\n",
    "        b = b - self.learning_rate * m1_bias_hat / (np.sqrt(v1_bias_hat) + self.epsilon)\n",
    "        return (m1,v1,m1_bias, v1_bias, w_grad, b_grad, w, b)\n",
    "        \n",
    "\n",
    "    def adam_optimize(self, learning_rate, beta1, beta2, epsilon, t):\n",
    "        (self.ADAm1, self.ADAv1, self.ADAm1_bias, self.ADAv1_bias, self.K1_grad, self.B1_grad, self.K1, self.B1) = self.update(t, self.ADAm1, self.ADAv1, self.ADAm1_bias, self.ADAv1_bias, self.K1_grad, self.B1_grad, self.K1, self.B1)\n",
    "        (self.ADAm2, self.ADAv2, self.ADAm2_bias, self.ADAv2_bias, self.K2_grad, self.B2_grad, self.K2, self.B2) = self.update(t, self.ADAm2, self.ADAv2, self.ADAm2_bias, self.ADAv2_bias, self.K2_grad, self.B2_grad, self.K2, self.B2)\n",
    "        (self.ADAm3, self.ADAv3, self.ADAm3_bias, self.ADAv3_bias, self.K3_grad, self.B3_grad, self.K3, self.B3) = self.update(t, self.ADAm3, self.ADAv3, self.ADAm3_bias, self.ADAv3_bias, self.K3_grad, self.B3_grad, self.K3, self.B3)\n",
    "        (self.ADAFCm1, self.ADAFCv1, self.ADAFCm1_bias, self.ADAFCv1_bias, self.FCW1_grad, self.FCB1_grad, self.FCW1, self.FCB1) = self.update(t, self.ADAFCm1, self.ADAFCv1, self.ADAFCm1_bias, self.ADAFCv1_bias, self.FCW1_grad, self.FCB1_grad, self.FCW1, self.FCB1)\n",
    "        (self.ADAFCm2, self.ADAFCv2, self.ADAFCm2_bias, self.ADAFCv2_bias, self.FCW2_grad, self.FCB2_grad, self.FCW2, self.FCB2) = self.update(t, self.ADAFCm2, self.ADAFCv2, self.ADAFCm2_bias, self.ADAFCv2_bias, self.FCW2_grad, self.FCB2_grad, self.FCW2, self.FCB2)\n",
    "        return\n",
    "    \n",
    "    def train(self, X, Y, epochs):\n",
    "        batch = self.batchsize\n",
    "        for i in range(epochs):\n",
    "            print(f\"This is Epoch Number : {i+1}\")\n",
    "            train_loss = 0\n",
    "            for j in range((1000)):\n",
    "                    X_batch = X[j*batch:(j+1)*batch]\n",
    "                    Y_batch = Y[j*batch:(j+1)*batch]\n",
    "                    Y_pred = self.forward(X_batch,debug=False)\n",
    "                    self.backward(Y_pred, Y_batch, X_batch)\n",
    "                    self.adam_optimize(self.learning_rate, self.beta1, self.beta2, self.epsilon, i+1)\n",
    "                    train_loss += self.cross_entropy_layer(Y_batch, Y_pred)\n",
    "            print(\"Train Loss after epoch \", i+1, \" is \", train_loss)    \n",
    "            val_sum = 0\n",
    "            acc = 0\n",
    "            count = 0\n",
    "            val_loss = 0\n",
    "            for j in range((30)):\n",
    "                    X_batch = X[(1200+j)*batch:(1200+j+1)*batch]\n",
    "                    Y_batch = Y[(1200+j)*batch:(1200+j+1)*batch]\n",
    "                    Y_pred = self.forward(X_batch,debug=False)\n",
    "                    val_sum += self.cross_entropy_layer(Y_batch, Y_pred)\n",
    "                    f1 = np.argmax(Y_pred, axis=1)\n",
    "                    f2 = np.argmax(Y_batch, axis=1)\n",
    "                    f =  np.where(f1==f2,1,0)\n",
    "                    f = np.sum(f)\n",
    "                    count += batch\n",
    "                    acc += f\n",
    "            print(\"Validation Accuracy after epoch \", i+1, \" is \", acc/count)\n",
    "            print(\"Validation Loss after epoch \", i+1, \" is \", val_sum)  \n",
    "            print(f\"SUM of weights after epoch {i+1} : \", np.sum(self.K1))\n",
    "            print(f\"SUM of weights after epoch {i+1}: \", np.sum(self.K2))\n",
    "            print(f\"SUM of weights after epoch {i+1}: \", np.sum(self.K3))\n",
    "            print(f\"SUM of weights after epoch {i+1}: \", np.sum(self.FCW1))\n",
    "            print(f\"SUM of weights after epoch {i+1}: \", np.sum(self.FCW2))\n",
    "        print(\"FINDING CLASS ACCURACY\")\n",
    "        L = [[0,1],[0,1],[0,1],[0,1],[0,1],[0,1],[0,1],[0,1],[0,1],[0,1]]\n",
    "        for j in range((30)):\n",
    "                X_batch = X[(1200+j)*batch:(1200+j+1)*batch]\n",
    "                Y_batch = Y[(1200+j)*batch:(1200+j+1)*batch]\n",
    "                Y_pred = self.forward(X_batch,debug=False)\n",
    "                for i in range(batch):\n",
    "                    p1 = np.argmax(Y_pred[i])\n",
    "                    p2 = np.argmax(Y_batch[i])\n",
    "                    if p1 == p2 :\n",
    "                        L[p1][0] += 1\n",
    "                        L[p1][1] += 1\n",
    "                    else:\n",
    "                        L[p2][1] += 1\n",
    "        print(\"This is class wise accuracy : \")\n",
    "        print(L)\n",
    "                    \n",
    "        return\n",
    "    "
   ]
  },
  {
   "cell_type": "code",
   "execution_count": 83,
   "metadata": {},
   "outputs": [
    {
     "name": "stdout",
     "output_type": "stream",
     "text": [
      "[[ 1  2  3]\n",
      " [ 4  5  6]\n",
      " [15  8  9]\n",
      " [ 6  7  8]]\n",
      "[2 2 0 2]\n"
     ]
    }
   ],
   "source": [
    "a = [[1,2,3],[4,5,6],[15,8,9],[6,7,8]]\n",
    "a = np.array(a)\n",
    "print(a)\n",
    "a = np.argmax(a,axis=1)\n",
    "print(a)"
   ]
  },
  {
   "cell_type": "code",
   "execution_count": 90,
   "metadata": {},
   "outputs": [
    {
     "name": "stdout",
     "output_type": "stream",
     "text": [
      "This is Epoch Number : 1\n",
      "Train Loss after epoch  1  is  57552.367827032904\n",
      "Validation Accuracy after epoch  1  is  0.4583333333333333\n",
      "Validation Loss after epoch  1  is  1432.5318389946685\n",
      "SUM of weights after epoch 1 :  -11.889195417979447\n",
      "SUM of weights after epoch 1:  -403.60810284119015\n",
      "SUM of weights after epoch 1:  -123.00504502258525\n",
      "SUM of weights after epoch 1:  -3578.4338536178143\n",
      "SUM of weights after epoch 1:  -2.4322683066608386\n",
      "This is Epoch Number : 2\n",
      "Train Loss after epoch  2  is  44869.55851132419\n",
      "Validation Accuracy after epoch  2  is  0.5239583333333333\n",
      "Validation Loss after epoch  2  is  1295.9599934153584\n",
      "SUM of weights after epoch 2 :  -12.988625830442695\n",
      "SUM of weights after epoch 2:  -510.76656193395405\n",
      "SUM of weights after epoch 2:  -133.43849165115137\n",
      "SUM of weights after epoch 2:  -3354.8530726853346\n",
      "SUM of weights after epoch 2:  -5.353190730915161\n",
      "This is Epoch Number : 3\n",
      "Train Loss after epoch  3  is  40239.235533264495\n",
      "Validation Accuracy after epoch  3  is  0.55625\n",
      "Validation Loss after epoch  3  is  1206.6829972069454\n",
      "SUM of weights after epoch 3 :  -13.32232480683826\n",
      "SUM of weights after epoch 3:  -546.0288356704722\n",
      "SUM of weights after epoch 3:  -141.29243698207748\n",
      "SUM of weights after epoch 3:  -3073.6505317744095\n",
      "SUM of weights after epoch 3:  -7.394188801981564\n",
      "This is Epoch Number : 4\n",
      "Train Loss after epoch  4  is  36932.01980692449\n",
      "Validation Accuracy after epoch  4  is  0.5864583333333333\n",
      "Validation Loss after epoch  4  is  1149.3626453035192\n",
      "SUM of weights after epoch 4 :  -13.450791103048523\n",
      "SUM of weights after epoch 4:  -564.2995111081402\n",
      "SUM of weights after epoch 4:  -142.4123337348007\n",
      "SUM of weights after epoch 4:  -2908.414826480868\n",
      "SUM of weights after epoch 4:  -9.062641405366268\n",
      "This is Epoch Number : 5\n",
      "Train Loss after epoch  5  is  34249.347035700885\n",
      "Validation Accuracy after epoch  5  is  0.5927083333333333\n",
      "Validation Loss after epoch  5  is  1142.2079051252722\n",
      "SUM of weights after epoch 5 :  -13.34226895786782\n",
      "SUM of weights after epoch 5:  -578.2988873862487\n",
      "SUM of weights after epoch 5:  -142.21179885120023\n",
      "SUM of weights after epoch 5:  -2640.492723474504\n",
      "SUM of weights after epoch 5:  -10.58128695768465\n",
      "This is Epoch Number : 6\n",
      "Train Loss after epoch  6  is  31957.707067972366\n",
      "Validation Accuracy after epoch  6  is  0.5885416666666666\n",
      "Validation Loss after epoch  6  is  1170.2084989690588\n",
      "SUM of weights after epoch 6 :  -12.910569981861833\n",
      "SUM of weights after epoch 6:  -586.6650462383961\n",
      "SUM of weights after epoch 6:  -138.36332040536038\n",
      "SUM of weights after epoch 6:  -2428.7023556432214\n",
      "SUM of weights after epoch 6:  -11.97633685867648\n",
      "This is Epoch Number : 7\n",
      "Train Loss after epoch  7  is  29991.495367568845\n",
      "Validation Accuracy after epoch  7  is  0.590625\n",
      "Validation Loss after epoch  7  is  1168.258427333786\n",
      "SUM of weights after epoch 7 :  -12.662164126050701\n",
      "SUM of weights after epoch 7:  -594.3720129947471\n",
      "SUM of weights after epoch 7:  -145.08492884843145\n",
      "SUM of weights after epoch 7:  -2259.3566395959115\n",
      "SUM of weights after epoch 7:  -13.24515087458279\n",
      "This is Epoch Number : 8\n",
      "Train Loss after epoch  8  is  28012.682490831812\n",
      "Validation Accuracy after epoch  8  is  0.6072916666666667\n",
      "Validation Loss after epoch  8  is  1178.2692606691762\n",
      "SUM of weights after epoch 8 :  -12.515697810550627\n",
      "SUM of weights after epoch 8:  -606.941588225926\n",
      "SUM of weights after epoch 8:  -150.75589037732797\n",
      "SUM of weights after epoch 8:  -2081.2290351539873\n",
      "SUM of weights after epoch 8:  -14.484441639733758\n",
      "This is Epoch Number : 9\n",
      "Train Loss after epoch  9  is  26316.996381523208\n",
      "Validation Accuracy after epoch  9  is  0.6010416666666667\n",
      "Validation Loss after epoch  9  is  1197.664212056381\n",
      "SUM of weights after epoch 9 :  -12.35213209576299\n",
      "SUM of weights after epoch 9:  -612.779399398393\n",
      "SUM of weights after epoch 9:  -157.44819999532456\n",
      "SUM of weights after epoch 9:  -2005.4108320559155\n",
      "SUM of weights after epoch 9:  -15.661333937170541\n",
      "This is Epoch Number : 10\n",
      "Train Loss after epoch  10  is  24796.518415635193\n",
      "Validation Accuracy after epoch  10  is  0.6104166666666667\n",
      "Validation Loss after epoch  10  is  1190.1363301194135\n",
      "SUM of weights after epoch 10 :  -12.418061958662197\n",
      "SUM of weights after epoch 10:  -625.988231650378\n",
      "SUM of weights after epoch 10:  -162.51896938823432\n",
      "SUM of weights after epoch 10:  -1937.0186155615404\n",
      "SUM of weights after epoch 10:  -16.842354008249977\n",
      "FINDING CLASS ACCURACY\n",
      "This is class wise accuracy : \n",
      "[[67, 99], [68, 95], [41, 85], [24, 99], [44, 95], [40, 93], [78, 107], [69, 100], [92, 115], [63, 82]]\n"
     ]
    }
   ],
   "source": [
    "mymodel = Model(32)\n",
    "mymodel.train(train_X, train_Y, 10)   "
   ]
  },
  {
   "cell_type": "code",
   "execution_count": 5,
   "metadata": {},
   "outputs": [
    {
     "data": {
      "image/png": "[encoded data removed]",
      "text/plain": [
       "<Figure size 600x600 with 1 Axes>"
      ]
     },
     "metadata": {},
     "output_type": "display_data"
    }
   ],
   "source": [
    "import numpy as np\n",
    "loss_t = [ 57552.367827032904, 44869.55851132419, 40239.235533264495, 36932.01980692449,  34249.347035700885,  31957.707067972366, 29991.495367568845, 28012.682490831812,  26316.996381523208,  24796.51841563519]\n",
    "loss_t = np.array(loss_t)/32000\n",
    "loss_v = [1432.5318389946685,  1295.9599934153584, 1206.6829972069454, 1149.3626453035192, 1142.2079051252722, 1170.2084989690588, 1168.258427333786, 1178.2692606691762, 1197.664212056381,  1190.1363301194135]\n",
    "loss_v = np.array(loss_v)/960\n",
    "# Make a list of validation accuracies from above output\n",
    "val_acc = [0.4583333333333333,  0.5239583333333333,  0.55625,  0.5864583333333333, 0.5927083333333333,  0.5885416666666666, 0.590625, 0.6072916666666667, 0.6010416666666667, 0.6104166666666667]\n",
    "import matplotlib.pyplot as plt\n",
    "plt.figure(figsize=(6,6))\n",
    "x_label = [i for i in range(1,11)]\n",
    "y_label = loss_t\n",
    "\n",
    "plt.xlabel(\"Epochs\")\n",
    "plt.ylabel(\"Loss\")\n",
    "plt.plot(x_label, y_label, label = \"Training Loss\")\n",
    "plt.plot(x_label, loss_v, label = \"Validation Loss\")\n",
    "plt.legend()\n",
    "plt.show()\n"
   ]
  },
  {
   "cell_type": "code",
   "execution_count": 8,
   "metadata": {},
   "outputs": [
    {
     "data": {
      "image/png": "[encoded data removed]",
      "text/plain": [
       "<Figure size 1000x600 with 1 Axes>"
      ]
     },
     "metadata": {},
     "output_type": "display_data"
    }
   ],
   "source": [
    "import numpy as np\n",
    "loss_t = [ 57552.367827032904, 44869.55851132419, 40239.235533264495, 36932.01980692449,  34249.347035700885,  31957.707067972366, 29991.495367568845, 28012.682490831812,  26316.996381523208,  24796.51841563519]\n",
    "loss_t = np.array(loss_t)/32000\n",
    "loss_v = [1432.5318389946685,  1295.9599934153584, 1206.6829972069454, 1149.3626453035192, 1142.2079051252722, 1170.2084989690588, 1168.258427333786, 1178.2692606691762, 1197.664212056381,  1190.1363301194135]\n",
    "loss_v = np.array(loss_v)/960\n",
    "# Make a list of validation accuracies from above output\n",
    "val_acc = [0.4583333333333333,  0.5239583333333333,  0.55625,  0.5864583333333333, 0.5927083333333333,  0.5885416666666666, 0.590625, 0.6072916666666667, 0.6010416666666667, 0.6104166666666667]\n",
    "import matplotlib.pyplot as plt\n",
    "plt.figure(figsize=(10,6))\n",
    "x_label = [i for i in range(1,11)]\n",
    "y_label = loss_t\n",
    "\n",
    "plt.xlabel(\"Epochs\")\n",
    "plt.ylabel(\"Validation Accuracy\")\n",
    "plt.plot(x_label, val_acc, label = \"Validation Accuracy\")\n",
    "plt.legend()\n",
    "plt.show()\n"
   ]
  },
  {
   "cell_type": "code",
   "execution_count": 9,
   "metadata": {},
   "outputs": [
    {
     "name": "stdout",
     "output_type": "stream",
     "text": [
      "[0.6767676767676768, 0.7157894736842105, 0.4823529411764706, 0.24242424242424243, 0.4631578947368421, 0.43010752688172044, 0.7289719626168224, 0.69, 0.8, 0.7682926829268293]\n"
     ]
    }
   ],
   "source": [
    "l = [[67, 99], [68, 95], [41, 85], [24, 99], [44, 95], [40, 93], [78, 107], [69, 100], [92, 115], [63, 82]]\n",
    "l = np.array(l)\n",
    "l1 = []\n",
    "for tu in l:\n",
    "    a,b = tu\n",
    "    tu = a/b\n",
    "    l1.append(tu)\n",
    "print(l1)"
   ]
  },
  {
   "cell_type": "code",
   "execution_count": 12,
   "metadata": {},
   "outputs": [
    {
     "data": {
      "image/png": "[encoded data removed]",
      "text/plain": [
       "<Figure size 1000x600 with 1 Axes>"
      ]
     },
     "metadata": {},
     "output_type": "display_data"
    }
   ],
   "source": [
    "import numpy as np\n",
    "loss_t = [ 57552.367827032904, 44869.55851132419, 40239.235533264495, 36932.01980692449,  34249.347035700885,  31957.707067972366, 29991.495367568845, 28012.682490831812,  26316.996381523208,  24796.51841563519]\n",
    "loss_t = np.array(loss_t)/32000\n",
    "loss_v = [1432.5318389946685,  1295.9599934153584, 1206.6829972069454, 1149.3626453035192, 1142.2079051252722, 1170.2084989690588, 1168.258427333786, 1178.2692606691762, 1197.664212056381,  1190.1363301194135]\n",
    "loss_v = np.array(loss_v)/960\n",
    "# Make a list of validation accuracies from above output\n",
    "val_acc = [0.4583333333333333,  0.5239583333333333,  0.55625,  0.5864583333333333, 0.5927083333333333,  0.5885416666666666, 0.590625, 0.6072916666666667, 0.6010416666666667, 0.6104166666666667]\n",
    "import matplotlib.pyplot as plt\n",
    "plt.figure(figsize=(10,6))\n",
    "x_label = [i for i in range(1,11)]\n",
    "y_label = loss_t\n",
    "l1 = [0.6767676767676768, 0.7157894736842105, 0.4823529411764706, 0.24242424242424243, 0.4631578947368421, 0.43010752688172044, 0.7289719626168224, 0.69, 0.8, 0.7682926829268293]\n",
    "plt.xlabel(\"Classes\")\n",
    "plt.ylabel(\"Classwise Accuracy\")\n",
    "plt.bar(x_label, l1, label = \"Classwise Accuracy\")\n",
    "plt.legend()\n",
    "plt.show()\n"
   ]
  },
  {
   "cell_type": "code",
   "execution_count": 18,
   "metadata": {},
   "outputs": [],
   "source": [
    "X = np.ones((100,64,7,7))\n",
    "Y = np.pad(X, pad_width=((0,0),(0,0),(1,1),(1,1)), constant_values=0)"
   ]
  },
  {
   "cell_type": "code",
   "execution_count": 14,
   "metadata": {},
   "outputs": [
    {
     "name": "stdout",
     "output_type": "stream",
     "text": [
      "(4,)\n",
      "fr\n",
      "(1, 1, 1, 1)\n"
     ]
    }
   ],
   "source": [
    "import numpy as np\n",
    "a = np.ones(4)\n",
    "print(a.shape)\n",
    "b = np.ndarray([1,1,1,1]).T\n",
    "print(\"fr\")\n",
    "print(b.shape)\n",
    "\n"
   ]
  },
  {
   "cell_type": "code",
   "execution_count": 31,
   "metadata": {},
   "outputs": [
    {
     "name": "stdout",
     "output_type": "stream",
     "text": [
      "[[3.]]\n"
     ]
    }
   ],
   "source": [
    "a = np.ones((1,3))\n",
    "b = np.ones((1,3))\n",
    "print(np.dot(a,b.T))"
   ]
  },
  {
   "cell_type": "code",
   "execution_count": 29,
   "metadata": {},
   "outputs": [
    {
     "name": "stdout",
     "output_type": "stream",
     "text": [
      "14\n"
     ]
    }
   ],
   "source": [
    "a = [1,2,3]\n",
    "b = [1,2,3]\n",
    "a = np.array(a)\n",
    "b = np.array(b)\n",
    "print(np.dot(a,b.T))\n"
   ]
  },
  {
   "cell_type": "code",
   "execution_count": 38,
   "metadata": {},
   "outputs": [
    {
     "name": "stdout",
     "output_type": "stream",
     "text": [
      "(3, 1)\n"
     ]
    }
   ],
   "source": [
    "a = np.ones((3,1))\n",
    "b = np.ones((3,1))\n",
    "h = np.multiply(a,b)\n",
    "print(h.shape)\n"
   ]
  },
  {
   "cell_type": "code",
   "execution_count": 41,
   "metadata": {},
   "outputs": [
    {
     "name": "stdout",
     "output_type": "stream",
     "text": [
      "(3, 1)\n"
     ]
    }
   ],
   "source": [
    "a = np.ones((3,1))\n",
    "b = 2*a\n",
    "print(b.shape)"
   ]
  },
  {
   "cell_type": "code",
   "execution_count": 68,
   "metadata": {},
   "outputs": [
    {
     "name": "stdout",
     "output_type": "stream",
     "text": [
      "[[ 59  43  50 ... 158 152 148]\n",
      " [ 16   0  18 ... 123 119 122]\n",
      " [ 25  16  49 ... 118 120 109]\n",
      " ...\n",
      " [208 201 198 ... 160  56  53]\n",
      " [180 173 186 ... 184  97  83]\n",
      " [177 168 179 ... 216 151 123]]\n"
     ]
    }
   ],
   "source": [
    "print(train_X[0][0])"
   ]
  },
  {
   "cell_type": "code",
   "execution_count": 57,
   "metadata": {},
   "outputs": [
    {
     "name": "stdout",
     "output_type": "stream",
     "text": [
      "[[1. 1.]\n",
      " [1. 1.]\n",
      " [1. 1.]]\n",
      "[[3.]\n",
      " [3.]]\n"
     ]
    }
   ],
   "source": [
    "a = np.ones((3,2))\n",
    "print(a)\n",
    "b = (np.sum(a,axis=0))\n",
    "b = np.reshape(b,(-1,1))\n",
    "print(b)\n"
   ]
  },
  {
   "cell_type": "code",
   "execution_count": 37,
   "metadata": {},
   "outputs": [
    {
     "name": "stdout",
     "output_type": "stream",
     "text": [
      "[[78 88 61 54 75 10 73 24 56 26]\n",
      " [89 64 30 10 12 41 52 76 82 81]\n",
      " [ 6 73 26 36 64  7 73 12 60 80]\n",
      " [45 91 27 75 86 31 98 32 52 33]\n",
      " [68 46  5  3 70 19 93  2 62 13]\n",
      " [41 60 79 57 40 24 20 84 90 73]\n",
      " [45 76 80 58 44 25 23 80 56 93]\n",
      " [31 70 89 39 11 87 70 66 90 83]\n",
      " [23 80 87 49 89 17 74 51  7 68]\n",
      " [84 10 25 64 14 98 86 38 27 85]]\n"
     ]
    }
   ],
   "source": [
    "A = np.random.randint(0, 100, (10, 10))\n",
    "print(A)"
   ]
  },
  {
   "cell_type": "code",
   "execution_count": 39,
   "metadata": {},
   "outputs": [
    {
     "name": "stdout",
     "output_type": "stream",
     "text": [
      "[[89 61 75 76 82]\n",
      " [91 75 86 98 80]\n",
      " [68 79 70 93 90]\n",
      " [76 89 87 80 93]\n",
      " [84 87 98 86 85]]\n"
     ]
    }
   ],
   "source": []
  },
  {
   "cell_type": "code",
   "execution_count": 45,
   "metadata": {},
   "outputs": [
    {
     "name": "stdout",
     "output_type": "stream",
     "text": [
      "[[1. 1. 1.]\n",
      " [1. 1. 1.]\n",
      " [1. 1. 1.]]\n"
     ]
    }
   ],
   "source": [
    "\n",
    "\n",
    "a = np.ones((3,1))\n",
    "b = np.repeat(a, 3, axis=1)\n",
    "print(b)"
   ]
  },
  {
   "cell_type": "code",
   "execution_count": 64,
   "metadata": {},
   "outputs": [
    {
     "ename": "TypeError",
     "evalue": "where() got an unexpected keyword argument 'axis'",
     "output_type": "error",
     "traceback": [
      "\u001b[0;31m---------------------------------------------------------------------------\u001b[0m",
      "\u001b[0;31mTypeError\u001b[0m                                 Traceback (most recent call last)",
      "Cell \u001b[0;32mIn[64], line 2\u001b[0m\n\u001b[1;32m      1\u001b[0m x \u001b[39m=\u001b[39m np\u001b[39m.\u001b[39marray([[\u001b[39m1\u001b[39m,\u001b[39m2\u001b[39m],[\u001b[39m3\u001b[39m,\u001b[39m4\u001b[39m]])\n\u001b[0;32m----> 2\u001b[0m \u001b[39mprint\u001b[39m(np\u001b[39m.\u001b[39;49mwhere(x \u001b[39m>\u001b[39;49m \u001b[39m2\u001b[39;49m, \u001b[39m1\u001b[39;49m, \u001b[39m0\u001b[39;49m, axis\u001b[39m=\u001b[39;49m(\u001b[39m0\u001b[39;49m,\u001b[39m1\u001b[39;49m)))\n",
      "File \u001b[0;32m<__array_function__ internals>:179\u001b[0m, in \u001b[0;36mwhere\u001b[0;34m(*args, **kwargs)\u001b[0m\n",
      "\u001b[0;31mTypeError\u001b[0m: where() got an unexpected keyword argument 'axis'"
     ]
    }
   ],
   "source": [
    "x = np.array([[1,2],[3,4]])\n",
    "print(np.where(x > 2, 1, 0, axis=(0,1)))"
   ]
  },
  {
   "cell_type": "code",
   "execution_count": 67,
   "metadata": {},
   "outputs": [],
   "source": [
    "x = np.random.randint(0, 100, (10, 10, 10, 10))\n",
    "windows = np.lib.stride_tricks.sliding_window_view(x,(2,2),axis=(2,3))\n",
    "maxpool = np.max(windows, axis=(4,5))"
   ]
  },
  {
   "cell_type": "code",
   "execution_count": 71,
   "metadata": {},
   "outputs": [
    {
     "name": "stdout",
     "output_type": "stream",
     "text": [
      "[[[0. 0. 0.]\n",
      "  [0. 0. 0.]\n",
      "  [0. 0. 0.]]\n",
      "\n",
      " [[0. 0. 0.]\n",
      "  [0. 0. 0.]\n",
      "  [0. 0. 0.]]\n",
      "\n",
      " [[0. 0. 0.]\n",
      "  [0. 0. 0.]\n",
      "  [0. 0. 0.]]]\n"
     ]
    }
   ],
   "source": [
    "a = np.ones((3,3,3))\n",
    "b = a-a\n",
    "print(b)"
   ]
  },
  {
   "cell_type": "code",
   "execution_count": 72,
   "metadata": {},
   "outputs": [
    {
     "name": "stdout",
     "output_type": "stream",
     "text": [
      "[[[1. 1. 1.]\n",
      "  [1. 1. 1.]\n",
      "  [1. 1. 1.]]\n",
      "\n",
      " [[1. 1. 1.]\n",
      "  [1. 1. 1.]\n",
      "  [1. 1. 1.]]\n",
      "\n",
      " [[1. 1. 1.]\n",
      "  [1. 1. 1.]\n",
      "  [1. 1. 1.]]\n",
      "\n",
      " [[1. 1. 1.]\n",
      "  [1. 1. 1.]\n",
      "  [1. 1. 1.]]]\n"
     ]
    }
   ],
   "source": [
    "b = np.ones((50,3,3))\n",
    "t = [9,12,14,15]\n",
    "c = b[t]\n",
    "print(c)"
   ]
  },
  {
   "cell_type": "code",
   "execution_count": 45,
   "metadata": {},
   "outputs": [
    {
     "name": "stdout",
     "output_type": "stream",
     "text": [
      "(14, 14)\n"
     ]
    }
   ],
   "source": [
    "import scipy\n",
    "in1 = np.ones((10,10))\n",
    "in2 = np.ones((5,5))\n",
    "\n",
    "A = scipy.signal.correlate2d(in1, in2, mode='full')\n",
    "print(A.shape)"
   ]
  },
  {
   "cell_type": "code",
   "execution_count": 28,
   "metadata": {},
   "outputs": [],
   "source": [
    "def strided4D(arr,arr2,s):\n",
    "    strided = np.lib.stride_tricks.as_strided\n",
    "    s0,s1 = arr.strides\n",
    "    m1,n1 = arr.shape\n",
    "    m2,n2 = arr2.shape    \n",
    "    out_shp = (1+(m1-m2)//s, m2, 1+(n1-n2)//s, n2)\n",
    "    return strided(arr, shape=out_shp, strides=(s*s0,s*s1,s0,s1))\n",
    "\n",
    "def stride_conv_strided(arr,arr2,s):\n",
    "    arr4D = strided4D(arr,arr2,s=s)\n",
    "    return np.tensordot(arr4D, arr2, axes=((2,3),(0,1)))"
   ]
  },
  {
   "cell_type": "code",
   "execution_count": 33,
   "metadata": {},
   "outputs": [
    {
     "ename": "ValueError",
     "evalue": "shape-mismatch for sum",
     "output_type": "error",
     "traceback": [
      "\u001b[0;31m---------------------------------------------------------------------------\u001b[0m",
      "\u001b[0;31mValueError\u001b[0m                                Traceback (most recent call last)",
      "Cell \u001b[0;32mIn[33], line 3\u001b[0m\n\u001b[1;32m      1\u001b[0m a1 \u001b[39m=\u001b[39m np\u001b[39m.\u001b[39mones((\u001b[39m10\u001b[39m,\u001b[39m10\u001b[39m))\n\u001b[1;32m      2\u001b[0m a2 \u001b[39m=\u001b[39m np\u001b[39m.\u001b[39mones((\u001b[39m2\u001b[39m,\u001b[39m2\u001b[39m))\n\u001b[0;32m----> 3\u001b[0m \u001b[39mprint\u001b[39m(stride_conv_strided(a1,a2,\u001b[39m1\u001b[39;49m))\n",
      "Cell \u001b[0;32mIn[28], line 11\u001b[0m, in \u001b[0;36mstride_conv_strided\u001b[0;34m(arr, arr2, s)\u001b[0m\n\u001b[1;32m      9\u001b[0m \u001b[39mdef\u001b[39;00m \u001b[39mstride_conv_strided\u001b[39m(arr,arr2,s):\n\u001b[1;32m     10\u001b[0m     arr4D \u001b[39m=\u001b[39m strided4D(arr,arr2,s\u001b[39m=\u001b[39ms)\n\u001b[0;32m---> 11\u001b[0m     \u001b[39mreturn\u001b[39;00m np\u001b[39m.\u001b[39;49mtensordot(arr4D, arr2, axes\u001b[39m=\u001b[39;49m((\u001b[39m2\u001b[39;49m,\u001b[39m3\u001b[39;49m),(\u001b[39m0\u001b[39;49m,\u001b[39m1\u001b[39;49m)))\n",
      "File \u001b[0;32m<__array_function__ internals>:180\u001b[0m, in \u001b[0;36mtensordot\u001b[0;34m(*args, **kwargs)\u001b[0m\n",
      "File \u001b[0;32m~/.local/lib/python3.8/site-packages/numpy/core/numeric.py:1116\u001b[0m, in \u001b[0;36mtensordot\u001b[0;34m(a, b, axes)\u001b[0m\n\u001b[1;32m   1114\u001b[0m             axes_b[k] \u001b[39m+\u001b[39m\u001b[39m=\u001b[39m ndb\n\u001b[1;32m   1115\u001b[0m \u001b[39mif\u001b[39;00m \u001b[39mnot\u001b[39;00m equal:\n\u001b[0;32m-> 1116\u001b[0m     \u001b[39mraise\u001b[39;00m \u001b[39mValueError\u001b[39;00m(\u001b[39m\"\u001b[39m\u001b[39mshape-mismatch for sum\u001b[39m\u001b[39m\"\u001b[39m)\n\u001b[1;32m   1118\u001b[0m \u001b[39m# Move the axes to sum over to the end of \"a\"\u001b[39;00m\n\u001b[1;32m   1119\u001b[0m \u001b[39m# and to the front of \"b\"\u001b[39;00m\n\u001b[1;32m   1120\u001b[0m notin \u001b[39m=\u001b[39m [k \u001b[39mfor\u001b[39;00m k \u001b[39min\u001b[39;00m \u001b[39mrange\u001b[39m(nda) \u001b[39mif\u001b[39;00m k \u001b[39mnot\u001b[39;00m \u001b[39min\u001b[39;00m axes_a]\n",
      "\u001b[0;31mValueError\u001b[0m: shape-mismatch for sum"
     ]
    }
   ],
   "source": [
    "a1 = np.ones((10,10))\n",
    "a2 = np.ones((2,2))\n",
    "print(stride_conv_strided(a1,a2,1))"
   ]
  },
  {
   "cell_type": "code",
   "execution_count": 34,
   "metadata": {},
   "outputs": [
    {
     "name": "stdout",
     "output_type": "stream",
     "text": [
      "(72, 24, 8)\n"
     ]
    }
   ],
   "source": [
    "X = np.ones((3,3,3))\n",
    "print(X.strides)"
   ]
  },
  {
   "cell_type": "code",
   "execution_count": 57,
   "metadata": {},
   "outputs": [
    {
     "name": "stdout",
     "output_type": "stream",
     "text": [
      "(10, 32)\n",
      "[[1 1 1 1 1 1 1 1 1 1 1 1 1 1 1 1 1 1 1 1 1 1 1 1 1 1 1 1 1 1 1 1]\n",
      " [3 3 3 3 3 3 3 3 3 3 3 3 3 3 3 3 3 3 3 3 3 3 3 3 3 3 3 3 3 3 3 3]\n",
      " [3 3 3 3 3 3 3 3 3 3 3 3 3 3 3 3 3 3 3 3 3 3 3 3 3 3 3 3 3 3 3 3]\n",
      " [3 3 3 3 3 3 3 3 3 3 3 3 3 3 3 3 3 3 3 3 3 3 3 3 3 3 3 3 3 3 3 3]\n",
      " [3 3 3 3 3 3 3 3 3 3 3 3 3 3 3 3 3 3 3 3 3 3 3 3 3 3 3 3 3 3 3 3]\n",
      " [1 1 1 1 1 1 1 1 1 1 1 1 1 1 1 1 1 1 1 1 1 1 1 1 1 1 1 1 1 1 1 1]\n",
      " [1 1 1 1 1 1 1 1 1 1 1 1 1 1 1 1 1 1 1 1 1 1 1 1 1 1 1 1 1 1 1 1]\n",
      " [2 2 2 2 2 2 2 2 2 2 2 2 2 2 2 2 2 2 2 2 2 2 2 2 2 2 2 2 2 2 2 2]\n",
      " [2 2 2 2 2 2 2 2 2 2 2 2 2 2 2 2 2 2 2 2 2 2 2 2 2 2 2 2 2 2 2 2]\n",
      " [1 1 1 1 1 1 1 1 1 1 1 1 1 1 1 1 1 1 1 1 1 1 1 1 1 1 1 1 1 1 1 1]]\n",
      "[1 1 1 1 1 1 1 1 1 1 1 1 1 1 1 1 1 1 1 1 1 1 1 1 1 1 1 1 1 1 1 1]\n",
      "[[1]\n",
      " [3]\n",
      " [3]\n",
      " [3]\n",
      " [3]\n",
      " [1]\n",
      " [1]\n",
      " [2]\n",
      " [2]\n",
      " [1]]\n"
     ]
    }
   ],
   "source": [
    "a = np.random.randint(1,4,(10,1))\n",
    "b = np.repeat(a,32,axis=1)\n",
    "print(b.shape)\n",
    "print(b)\n",
    "print(b[0])\n",
    "print(a)"
   ]
  },
  {
   "cell_type": "code",
   "execution_count": 60,
   "metadata": {},
   "outputs": [
    {
     "ename": "TypeError",
     "evalue": "__init__() got an unexpected keyword argument 'axis'",
     "output_type": "error",
     "traceback": [
      "\u001b[0;31m---------------------------------------------------------------------------\u001b[0m",
      "\u001b[0;31mTypeError\u001b[0m                                 Traceback (most recent call last)",
      "Cell \u001b[0;32mIn[60], line 4\u001b[0m\n\u001b[1;32m      2\u001b[0m \u001b[39mdef\u001b[39;00m \u001b[39mfo\u001b[39m(x):\n\u001b[1;32m      3\u001b[0m     \u001b[39mreturn\u001b[39;00m np\u001b[39m.\u001b[39mmax(x)\n\u001b[0;32m----> 4\u001b[0m m \u001b[39m=\u001b[39m np\u001b[39m.\u001b[39;49mvectorize(fo,a,axis\u001b[39m=\u001b[39;49m(\u001b[39m2\u001b[39;49m,\u001b[39m3\u001b[39;49m))\n",
      "\u001b[0;31mTypeError\u001b[0m: __init__() got an unexpected keyword argument 'axis'"
     ]
    }
   ],
   "source": [
    "a = np.ones((4,4,4,4))\n",
    "def fo(x):\n",
    "    return np.max(x)\n",
    "m = np.vectorize(fo,a,axis=(2,3))"
   ]
  }
 ],
 "metadata": {
  "kernelspec": {
   "display_name": "Python 3",
   "language": "python",
   "name": "python3"
  },
  "language_info": {
   "codemirror_mode": {
    "name": "ipython",
    "version": 3
   },
   "file_extension": ".py",
   "mimetype": "text/x-python",
   "name": "python",
   "nbconvert_exporter": "python",
   "pygments_lexer": "ipython3",
   "version": "3.8.10"
  },
  "orig_nbformat": 4,
  "vscode": {
   "interpreter": {
    "hash": "916dbcbb3f70747c44a77c7bcd40155683ae19c65e1c03b4aa3499c5328201f1"
   }
  }
 },
 "nbformat": 4,
 "nbformat_minor": 2
}
