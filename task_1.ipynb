{
  "cells": [
    {
      "cell_type": "code",
      "execution_count": 1,
      "metadata": {
        "colab": {
          "base_uri": "https://localhost:8080/"
        },
        "id": "25yEtyTrf2X5",
        "outputId": "22131a11-1bcd-4cea-d0ff-f5d7e231baaa"
      },
      "outputs": [
        {
          "output_type": "stream",
          "name": "stdout",
          "text": [
            "Looking in indexes: https://pypi.org/simple, https://us-python.pkg.dev/colab-wheels/public/simple/\n",
            "Collecting torch==1.12.1\n",
            "  Downloading torch-1.12.1-cp310-cp310-manylinux1_x86_64.whl (776.3 MB)\n",
            "\u001b[2K     \u001b[90m━━━━━━━━━━━━━━━━━━━━━━━━━━━━━━━━━━━━━━━\u001b[0m \u001b[32m776.3/776.3 MB\u001b[0m \u001b[31m1.4 MB/s\u001b[0m eta \u001b[36m0:00:00\u001b[0m\n",
            "\u001b[?25hRequirement already satisfied: typing-extensions in /usr/local/lib/python3.10/dist-packages (from torch==1.12.1) (4.5.0)\n",
            "Installing collected packages: torch\n",
            "  Attempting uninstall: torch\n",
            "    Found existing installation: torch 2.0.0+cu118\n",
            "    Uninstalling torch-2.0.0+cu118:\n",
            "      Successfully uninstalled torch-2.0.0+cu118\n",
            "\u001b[31mERROR: pip's dependency resolver does not currently take into account all the packages that are installed. This behaviour is the source of the following dependency conflicts.\n",
            "torchvision 0.15.1+cu118 requires torch==2.0.0, but you have torch 1.12.1 which is incompatible.\n",
            "torchtext 0.15.1 requires torch==2.0.0, but you have torch 1.12.1 which is incompatible.\n",
            "torchdata 0.6.0 requires torch==2.0.0, but you have torch 1.12.1 which is incompatible.\n",
            "torchaudio 2.0.1+cu118 requires torch==2.0.0, but you have torch 1.12.1 which is incompatible.\u001b[0m\u001b[31m\n",
            "\u001b[0mSuccessfully installed torch-1.12.1\n",
            "Looking in indexes: https://pypi.org/simple, https://us-python.pkg.dev/colab-wheels/public/simple/\n",
            "Collecting torchmetrics\n",
            "  Downloading torchmetrics-0.11.4-py3-none-any.whl (519 kB)\n",
            "\u001b[2K     \u001b[90m━━━━━━━━━━━━━━━━━━━━━━━━━━━━━━━━━━━━━━\u001b[0m \u001b[32m519.2/519.2 kB\u001b[0m \u001b[31m11.2 MB/s\u001b[0m eta \u001b[36m0:00:00\u001b[0m\n",
            "\u001b[?25hRequirement already satisfied: numpy>=1.17.2 in /usr/local/lib/python3.10/dist-packages (from torchmetrics) (1.22.4)\n",
            "Requirement already satisfied: torch>=1.8.1 in /usr/local/lib/python3.10/dist-packages (from torchmetrics) (1.12.1)\n",
            "Requirement already satisfied: packaging in /usr/local/lib/python3.10/dist-packages (from torchmetrics) (23.1)\n",
            "Requirement already satisfied: typing-extensions in /usr/local/lib/python3.10/dist-packages (from torch>=1.8.1->torchmetrics) (4.5.0)\n",
            "Installing collected packages: torchmetrics\n",
            "Successfully installed torchmetrics-0.11.4\n"
          ]
        }
      ],
      "source": [
        "#INSTALLING DEPENDENCIES\n",
        "!pip install torch==1.12.1\n",
        "!pip install torchmetrics"
      ]
    },
    {
      "cell_type": "code",
      "execution_count": 2,
      "metadata": {
        "colab": {
          "base_uri": "https://localhost:8080/"
        },
        "id": "DFOoVtLGf2X6",
        "outputId": "a930d5e8-e43a-4f02-bd02-60396c41b102"
      },
      "outputs": [
        {
          "output_type": "stream",
          "name": "stderr",
          "text": [
            "/usr/local/lib/python3.10/dist-packages/torchvision/io/image.py:13: UserWarning: Failed to load image Python extension: '/usr/local/lib/python3.10/dist-packages/torchvision/image.so: undefined symbol: _ZN3c104impl8GPUTrace13gpuTraceStateE'If you don't plan on using image functionality from `torchvision.io`, you can ignore this warning. Otherwise, there might be something wrong with your environment. Did you have `libjpeg` or `libpng` installed before building `torchvision` from source?\n",
            "  warn(\n"
          ]
        }
      ],
      "source": [
        "#IMPORT LIBRARIES\n",
        "import torch\n",
        "import torchvision\n",
        "import torchvision.transforms as transforms\n",
        "import torch.optim as optim\n",
        "import torch.nn as nn\n",
        "from torchmetrics.classification import MulticlassAccuracy\n",
        "from torchmetrics import Accuracy\n",
        "import torch.optim.lr_scheduler as lr_scheduler\n",
        "import numpy as np\n",
        "import matplotlib.pyplot as plt"
      ]
    },
    {
      "cell_type": "code",
      "execution_count": 3,
      "metadata": {
        "colab": {
          "base_uri": "https://localhost:8080/",
          "height": 191,
          "referenced_widgets": [
            "98854b6b50734bb994b21d771a8f4175",
            "b629c9d4ea6e41ebaa925b0669f1cc89",
            "ad319188b881495383e2214146014c1d",
            "a12a5debece8424da2f053064749420a",
            "b58f451d27e64dd8b27fb4c998aef3a7",
            "72d3d7db0ba94b1480435a3fa3bca3de",
            "9e8fe7fd5a074b7ba361ca06fa3cb634",
            "0f1bc003f66a46458dea2ea76d573ee3",
            "c32ee7a934a34aad91a653ddf9f4d194",
            "915da9a2b9a244aba532192029e9b1ab",
            "7064d40357a54072bdd2ec11b47dd74e"
          ]
        },
        "id": "RpYcYEFgf2X6",
        "outputId": "ca1cb81c-0714-4569-e8f9-f40544aa2fb9"
      },
      "outputs": [
        {
          "output_type": "stream",
          "name": "stdout",
          "text": [
            "Downloading https://www.cs.toronto.edu/~kriz/cifar-10-python.tar.gz to ./data/cifar-10-python.tar.gz\n"
          ]
        },
        {
          "output_type": "display_data",
          "data": {
            "text/plain": [
              "  0%|          | 0/170498071 [00:00<?, ?it/s]"
            ],
            "application/vnd.jupyter.widget-view+json": {
              "version_major": 2,
              "version_minor": 0,
              "model_id": "98854b6b50734bb994b21d771a8f4175"
            }
          },
          "metadata": {}
        },
        {
          "output_type": "stream",
          "name": "stdout",
          "text": [
            "Extracting ./data/cifar-10-python.tar.gz to ./data\n",
            "Files already downloaded and verified\n"
          ]
        },
        {
          "output_type": "stream",
          "name": "stderr",
          "text": [
            "<ipython-input-3-923f3ca44ac2>:49: UserWarning: To copy construct from a tensor, it is recommended to use sourceTensor.clone().detach() or sourceTensor.clone().detach().requires_grad_(True), rather than torch.tensor(sourceTensor).\n",
            "  train_y_framed = torch.tensor(train_y_framed, dtype=torch.float)\n",
            "<ipython-input-3-923f3ca44ac2>:51: UserWarning: To copy construct from a tensor, it is recommended to use sourceTensor.clone().detach() or sourceTensor.clone().detach().requires_grad_(True), rather than torch.tensor(sourceTensor).\n",
            "  test_y_framed = torch.tensor(test_y_framed, dtype=torch.float)\n"
          ]
        }
      ],
      "source": [
        "#DATA LOADER:\n",
        "horizontal_flip_transform = transforms.Compose(\n",
        "    [transforms.ToTensor(),\n",
        "     transforms.RandomHorizontalFlip(p=0.5)])\n",
        "batch_size=10000\n",
        "trainset = torchvision.datasets.CIFAR10(root='./data', train=True,\n",
        "                                        download=True, transform=horizontal_flip_transform)\n",
        "trainloader = torch.utils.data.DataLoader(trainset, batch_size=batch_size,\n",
        "                                          shuffle=True, num_workers=2)\n",
        "\n",
        "testset = torchvision.datasets.CIFAR10(root='./data', train=False,\n",
        "                                       download=True, transform=horizontal_flip_transform)\n",
        "testloader = torch.utils.data.DataLoader(testset, batch_size=batch_size,\n",
        "                                         shuffle=False, num_workers=2)\n",
        "\n",
        "#UNPICKLING FILES INTO DICTIONARIES:\n",
        "def unpickle(file):\n",
        "    import pickle\n",
        "    with open(file, 'rb') as fo:\n",
        "        dict = pickle.load(fo, encoding='bytes')\n",
        "    return dict\n",
        "dict1 = unpickle(file='./data/cifar-10-batches-py/data_batch_1')\n",
        "dict2 = unpickle(file='./data/cifar-10-batches-py/data_batch_2')\n",
        "dict3 = unpickle(file='./data/cifar-10-batches-py/data_batch_3')\n",
        "dict4 = unpickle(file='./data/cifar-10-batches-py/data_batch_4')\n",
        "dict5 = unpickle(file='./data/cifar-10-batches-py/data_batch_5')\n",
        "dict_test = unpickle(file='./data/cifar-10-batches-py/test_batch')\n",
        "\n",
        "#LOADING TRAIN AND TEST DATA\n",
        "train_x1 = torch.tensor(dict1[b'data'])\n",
        "train_y1 = torch.tensor(dict1[b'labels'])\n",
        "train_x2 = torch.tensor(dict2[b'data'])\n",
        "train_y2 = torch.tensor(dict2[b'labels'])\n",
        "train_x3 = torch.tensor(dict3[b'data'])\n",
        "train_y3 = torch.tensor(dict3[b'labels'])\n",
        "train_x4 = torch.tensor(dict4[b'data'])\n",
        "train_y4 = torch.tensor(dict4[b'labels'])\n",
        "train_x5 = torch.tensor(dict5[b'data'])\n",
        "train_y5 = torch.tensor(dict5[b'labels'])\n",
        "test_x = torch.tensor(dict_test[b'data'])\n",
        "test_y = torch.tensor(dict_test[b'labels'])\n",
        "\n",
        "train_x = torch.cat((train_x1, train_x2, train_x3, train_x4, train_x5), dim=0)\n",
        "train_y = torch.cat((train_y1, train_y2, train_y3, train_y4, train_y5), dim=0)\n",
        "train_x = torch.reshape(train_x, (50000, 3, 32, 32))/255\n",
        "test_x = torch.reshape(test_x, (10000, 3, 32, 32))/255\n",
        "\n",
        "train_y_framed = torch.nn.functional.one_hot(train_y.clone().detach(), num_classes=10)\n",
        "train_y_framed = torch.tensor(train_y_framed, dtype=torch.float)\n",
        "test_y_framed = torch.nn.functional.one_hot(test_y.clone().detach(), num_classes=10)\n",
        "test_y_framed = torch.tensor(test_y_framed, dtype=torch.float)\n"
      ]
    },
    {
      "cell_type": "code",
      "execution_count": 4,
      "metadata": {
        "id": "5wgcIYmIf_GF"
      },
      "outputs": [],
      "source": [
        "#DEFINING MODEL:\n",
        "class Model(torch.nn.Module):\n",
        "    def __init__(self) -> None:\n",
        "        super().__init__()\n",
        "        self.con1 = torch.nn.Conv2d(3,32,(3,3),stride=(1,1), padding=(1,1), padding_mode='zeros')\n",
        "        self.con2 = torch.nn.Conv2d(32,64,(5,5),stride=(1,1), padding=(1,1), padding_mode='zeros')\n",
        "        self.con3 = torch.nn.Conv2d(64,64,(3,3),stride=(1,1), padding=(1,1), padding_mode='zeros')\n",
        "        self.pool = torch.nn.MaxPool2d((2,2), stride=(2,2), padding=0)\n",
        "        self.f1 = torch.nn.Linear(64*7*7, 64)\n",
        "        self.f2 = torch.nn.Linear(64, 10)\n",
        "        self.soft_max = torch.nn.LogSoftmax(dim=1)\n",
        "        self.rel = torch.nn.functional.relu\n",
        "\n",
        "    def forward(self, x):\n",
        "        x = self.con1(x)\n",
        "        x = self.rel(x)\n",
        "        x = self.pool(x)\n",
        "        x = self.con2(x)\n",
        "        x = self.rel(x)\n",
        "        x = self.pool(x)\n",
        "        x = self.con3(x)\n",
        "        x = self.rel(x)\n",
        "        x = torch.reshape(x, (-1, 64*7*7))\n",
        "        x = self.f1(x)\n",
        "        x = self.rel(x)\n",
        "        x = self.f2(x)\n",
        "        predict = self.soft_max(x)\n",
        "        return predict\n",
        "\n",
        "#PARAMETERS:\n",
        "epochs = 20\n",
        "batch = 32\n",
        "n_batches = 1562"
      ]
    },
    {
      "cell_type": "code",
      "execution_count": 11,
      "metadata": {
        "colab": {
          "base_uri": "https://localhost:8080/"
        },
        "id": "trTmtKJWf2X7",
        "outputId": "d0848ddc-fba5-476b-94d9-45edf2a61dfd"
      },
      "outputs": [
        {
          "output_type": "stream",
          "name": "stdout",
          "text": [
            "Training Loss after epoch 1: 2326.2269135713577\n",
            "TRAIN_ACC: 0.5600000023841858\n",
            "VAL ACC: 0.5799999833106995\n",
            "Validation Loss after epoch 1: 1.2117574214935303\n",
            "Training Loss after epoch 2: 1761.2809605300426\n",
            "TRAIN_ACC: 0.6299999952316284\n",
            "VAL ACC: 0.6320000290870667\n",
            "Validation Loss after epoch 2: 1.0193126201629639\n",
            "Training Loss after epoch 3: 1542.1653329133987\n",
            "TRAIN_ACC: 0.6449999809265137\n",
            "VAL ACC: 0.6650000214576721\n",
            "Validation Loss after epoch 3: 0.983414351940155\n",
            "Training Loss after epoch 4: 1392.8769391179085\n",
            "TRAIN_ACC: 0.6869999766349792\n",
            "VAL ACC: 0.6669999957084656\n",
            "Validation Loss after epoch 4: 0.9669000506401062\n",
            "Training Loss after epoch 5: 1289.9832101166248\n",
            "TRAIN_ACC: 0.6909999847412109\n",
            "VAL ACC: 0.6430000066757202\n",
            "Validation Loss after epoch 5: 1.018181324005127\n",
            "Training Loss after epoch 6: 1206.9883042871952\n",
            "TRAIN_ACC: 0.7269999980926514\n",
            "VAL ACC: 0.652999997138977\n",
            "Validation Loss after epoch 6: 1.0326330661773682\n",
            "Training Loss after epoch 7: 1145.1501298099756\n",
            "TRAIN_ACC: 0.7149999737739563\n",
            "VAL ACC: 0.6420000195503235\n",
            "Validation Loss after epoch 7: 1.145174503326416\n",
            "Training Loss after epoch 8: 1081.2101518660784\n",
            "TRAIN_ACC: 0.6930000185966492\n",
            "VAL ACC: 0.597000002861023\n",
            "Validation Loss after epoch 8: 1.3570359945297241\n",
            "Training Loss after epoch 9: 1038.5107851475477\n",
            "TRAIN_ACC: 0.7179999947547913\n",
            "VAL ACC: 0.609000027179718\n",
            "Validation Loss after epoch 9: 1.382369041442871\n",
            "Training Loss after epoch 10: 996.1363651752472\n",
            "TRAIN_ACC: 0.7179999947547913\n",
            "VAL ACC: 0.6230000257492065\n",
            "Validation Loss after epoch 10: 1.4399369955062866\n",
            "Training Loss after epoch 11: 934.0716832578182\n",
            "TRAIN_ACC: 0.7020000219345093\n",
            "VAL ACC: 0.5989999771118164\n",
            "Validation Loss after epoch 11: 1.6510120630264282\n",
            "Training Loss after epoch 12: 898.1343654543161\n",
            "TRAIN_ACC: 0.6959999799728394\n",
            "VAL ACC: 0.5809999704360962\n",
            "Validation Loss after epoch 12: 1.8126170635223389\n",
            "Training Loss after epoch 13: 840.3845971673727\n",
            "TRAIN_ACC: 0.7210000157356262\n",
            "VAL ACC: 0.5879999995231628\n",
            "Validation Loss after epoch 13: 1.7255741357803345\n",
            "Training Loss after epoch 14: 822.4518513828516\n",
            "TRAIN_ACC: 0.7639999985694885\n",
            "VAL ACC: 0.6019999980926514\n",
            "Validation Loss after epoch 14: 1.6809637546539307\n",
            "Training Loss after epoch 15: 774.3974172398448\n",
            "TRAIN_ACC: 0.7400000095367432\n",
            "VAL ACC: 0.6169999837875366\n",
            "Validation Loss after epoch 15: 1.8083115816116333\n",
            "Training Loss after epoch 16: 748.2316430658102\n",
            "TRAIN_ACC: 0.7699999809265137\n",
            "VAL ACC: 0.6150000095367432\n",
            "Validation Loss after epoch 16: 1.8375288248062134\n",
            "Training Loss after epoch 17: 740.580193541944\n",
            "TRAIN_ACC: 0.8130000233650208\n",
            "VAL ACC: 0.625\n",
            "Validation Loss after epoch 17: 1.7370553016662598\n",
            "Training Loss after epoch 18: 699.2622383385897\n",
            "TRAIN_ACC: 0.8029999732971191\n",
            "VAL ACC: 0.628000020980835\n",
            "Validation Loss after epoch 18: 1.842644453048706\n",
            "Training Loss after epoch 19: 688.7853913903236\n",
            "TRAIN_ACC: 0.8190000057220459\n",
            "VAL ACC: 0.6320000290870667\n",
            "Validation Loss after epoch 19: 1.9170371294021606\n",
            "Training Loss after epoch 20: 657.1021541655064\n",
            "TRAIN_ACC: 0.8029999732971191\n",
            "VAL ACC: 0.6240000128746033\n",
            "Validation Loss after epoch 20: 1.879259467124939\n",
            "[0.56       0.63       0.64499998 0.68699998 0.69099998 0.727\n",
            " 0.71499997 0.69300002 0.71799999 0.71799999 0.70200002 0.69599998\n",
            " 0.72100002 0.764      0.74000001 0.76999998 0.81300002 0.80299997\n",
            " 0.81900001 0.80299997]\n",
            "[0.57999998 0.63200003 0.66500002 0.667      0.64300001 0.653\n",
            " 0.64200002 0.597      0.60900003 0.62300003 0.59899998 0.58099997\n",
            " 0.588      0.602      0.61699998 0.61500001 0.625      0.62800002\n",
            " 0.63200003 0.62400001]\n"
          ]
        }
      ],
      "source": [
        "#RUNNING THE MODEL ON TRAINING AND TESTING:\n",
        "mymodel = Model().to('cuda:0')\n",
        "criterion = nn.CrossEntropyLoss()\n",
        "optimizer = optim.Adam(mymodel.parameters(), lr=0.002)\n",
        "# LRS = lr_scheduler.ExponentialLR(optimizer, gamma=0.99)\n",
        "val_loss = torch.empty(epochs)\n",
        "train_loss = torch.empty(epochs)\n",
        "valb = 32\n",
        "metric = Accuracy(task=\"multiclass\", num_classes=10).to('cuda:0')\n",
        "acc_t = np.zeros(epochs)\n",
        "acc_v = np.zeros(epochs)\n",
        "for epoch in range(epochs):\n",
        "  rloss = 0\n",
        "  acc = 0\n",
        "  count = 0\n",
        "  vloss = 0\n",
        "  for b in range(n_batches):\n",
        "  # for b in range(10):\n",
        "    xbatch = train_x[(b)*batch:(b+1)*(batch)].to('cuda:0')\n",
        "    ybatch = train_y_framed[(b)*batch:(b+1)*(batch)].to('cuda:0')\n",
        "    predict = mymodel.forward(xbatch)\n",
        "    loss = criterion(predict,ybatch)\n",
        "    optimizer.zero_grad()\n",
        "    loss.backward()\n",
        "    optimizer.step()\n",
        "    rloss+=loss.item()\n",
        "  # LR1  = optimizer.param_groups[0][\"lr\"]\n",
        "  # LRS.step()\n",
        "  # LR2 = optimizer.param_groups[0][\"lr\"]\n",
        "  # print(f'LR from {LR1} to {LR2}')\n",
        "  predict_val = mymodel.forward(test_x[:1000].to('cuda:0'))\n",
        "  loss2 = criterion(predict_val, test_y_framed[:1000].to('cuda:0')).item()\n",
        "  print(f\"Training Loss after epoch {epoch+1}: {rloss}\")\n",
        "  train_loss[epoch] = rloss\n",
        "  val_loss[epoch] = loss2\n",
        "  predict_val_v = mymodel.forward(test_x[:1000].to('cuda:0'))\n",
        "  predict_val_t = mymodel.forward(train_x[:1000].to('cuda:0'))\n",
        "  pred_labels_v = torch.argmax(predict_val_v, dim=1)\n",
        "  pred_labels_t = torch.argmax(predict_val_t, dim=1)\n",
        "  acc_t[epoch]= metric(pred_labels_t, train_y[:1000].to('cuda:0'))\n",
        "  acc_v[epoch]=metric(pred_labels_v, test_y[:1000].to('cuda:0'))\n",
        "  print(f'TRAIN_ACC: {acc_t[epoch]}')\n",
        "  print(f'VAL ACC: {acc_v[epoch]}')\n",
        "  ## Validation loss \n",
        "  print(f\"Validation Loss after epoch {epoch+1}: {loss2}\")\n",
        "  # p1 = torch.argmax(predic,dim=1)\n",
        "  # p2 = torch.argmax(test_y_framed[:500], dim=1)\n",
        "  # count = torch.sum(p2)\n",
        "  # val_accs[epoch] = torch.sum(torch.where(p1==p2,1,0))/count\n",
        "  # print(f'Validation acc after epoch {epoch+1}: {val_accs[epoch]}')\n",
        "print(acc_t)\n",
        "print(acc_v)\n",
        "\n"
      ]
    },
    {
      "cell_type": "code",
      "execution_count": 12,
      "metadata": {
        "colab": {
          "base_uri": "https://localhost:8080/"
        },
        "id": "s9AmNw4SiUtD",
        "outputId": "a5f6e38f-1e17-4f02-801d-b16575c37ee7"
      },
      "outputs": [
        {
          "output_type": "stream",
          "name": "stdout",
          "text": [
            "tensor(0.6240, device='cuda:0')\n",
            "tensor([0.5631, 0.8764, 0.6100, 0.4272, 0.4333, 0.3953, 0.8125, 0.6765, 0.7075,\n",
            "        0.6881], device='cuda:0')\n"
          ]
        }
      ],
      "source": [
        "#CALCULATING FINAL VALIDATION ACCURACY AND CLASSWISE ACCURACIES:\n",
        "metric = Accuracy(task=\"multiclass\", num_classes=10).to('cuda:0')\n",
        "acc_metric = MulticlassAccuracy(num_classes=10, average=None).to('cuda:0')\n",
        "# finalpred = mymodel.forward(test_x[:1000])\n",
        "pred_labels = torch.argmax(predict_val_v, dim=1)\n",
        "classaccs = acc_metric(pred_labels, test_y[:1000].to('cuda:0'))\n",
        "accfinal = metric(pred_labels, test_y[:1000].to('cuda:0'))\n",
        "print(accfinal)\n",
        "print(classaccs)\n",
        "# class_acc[0]=classaccs"
      ]
    },
    {
      "cell_type": "code",
      "execution_count": 13,
      "metadata": {
        "colab": {
          "base_uri": "https://localhost:8080/",
          "height": 718
        },
        "id": "gzgO_Xqef2X7",
        "outputId": "8f71e29d-f4a9-463b-fe1e-b82b6a1c70ef"
      },
      "outputs": [
        {
          "output_type": "stream",
          "name": "stderr",
          "text": [
            "WARNING:matplotlib.legend:No artists with labels found to put in legend.  Note that artists whose label start with an underscore are ignored when legend() is called with no argument.\n"
          ]
        },
        {
          "output_type": "display_data",
          "data": {
            "text/plain": [
              "<Figure size 1000x800 with 1 Axes>"
            ],
            "image/png": "[encoded data removed]"
          },
          "metadata": {}
        }
      ],
      "source": [
        "#CLASSWISE ACCURACY BAR-GRAPH\n",
        "plt.figure(figsize=(10,8))\n",
        "plt.xlabel('CLASSES--->')\n",
        "plt.ylabel('ACCURACY--->')\n",
        "plt.xticks(np.arange(0,10))\n",
        "plt.ylim(0,1)\n",
        "plt.bar(np.arange(0,10),classaccs.to('cpu'),color='lime',width=0.3)\n",
        "plt.legend()\n",
        "plt.show()"
      ]
    },
    {
      "cell_type": "code",
      "execution_count": 14,
      "metadata": {
        "colab": {
          "base_uri": "https://localhost:8080/"
        },
        "id": "pzqcu5HZf2X7",
        "outputId": "3b007095-e61f-407d-9476-4c7074ad986c"
      },
      "outputs": [
        {
          "output_type": "stream",
          "name": "stdout",
          "text": [
            "tensor([2326.2268, 1761.2810, 1542.1653, 1392.8770, 1289.9832, 1206.9883,\n",
            "        1145.1501, 1081.2102, 1038.5107,  996.1364,  934.0717,  898.1343,\n",
            "         840.3846,  822.4518,  774.3974,  748.2316,  740.5802,  699.2623,\n",
            "         688.7854,  657.1022])\n",
            "tensor([1.2118, 1.0193, 0.9834, 0.9669, 1.0182, 1.0326, 1.1452, 1.3570, 1.3824,\n",
            "        1.4399, 1.6510, 1.8126, 1.7256, 1.6810, 1.8083, 1.8375, 1.7371, 1.8426,\n",
            "        1.9170, 1.8793])\n",
            "tensor([4.6539, 3.5237, 3.0853, 2.7866, 2.5808, 2.4147, 2.2910, 2.1631, 2.0777,\n",
            "        1.9929, 1.8687, 1.7968, 1.6813, 1.6454, 1.5493, 1.4969, 1.4816, 1.3990,\n",
            "        1.3780, 1.3146])\n",
            "tensor([0.1212, 0.1019, 0.0983, 0.0967, 0.1018, 0.1033, 0.1145, 0.1357, 0.1382,\n",
            "        0.1440, 0.1651, 0.1813, 0.1726, 0.1681, 0.1808, 0.1838, 0.1737, 0.1843,\n",
            "        0.1917, 0.1879])\n"
          ]
        }
      ],
      "source": [
        "#PRINTING THE LOSSES:\n",
        "print(train_loss)\n",
        "print(val_loss)\n",
        "train_loss = train_loss/499.84\n",
        "val_loss = val_loss/10\n",
        "print(train_loss)\n",
        "print(val_loss)\n",
        "tloss = train_loss.detach().numpy()\n",
        "vloss = val_loss.detach().numpy()"
      ]
    },
    {
      "cell_type": "code",
      "execution_count": 15,
      "metadata": {
        "colab": {
          "base_uri": "https://localhost:8080/",
          "height": 542
        },
        "id": "3QrGJ-Mtf2X7",
        "outputId": "7a3ed218-9f85-4695-9b5a-38fd69edf8d4"
      },
      "outputs": [
        {
          "output_type": "display_data",
          "data": {
            "text/plain": [
              "<Figure size 1000x600 with 1 Axes>"
            ],
            "image/png": "[encoded data removed]"
          },
          "metadata": {}
        }
      ],
      "source": [
        "#CODE TO PLOT VALIDATION ACCURACY:\n",
        "plt.figure(figsize=(10,6))\n",
        "plt.xlabel('EPOCHS--->')\n",
        "plt.ylabel('ACCURACY--->')\n",
        "epoch_arr = np.arange(0,20)\n",
        "epoch_ticks = np.arange(0,22)\n",
        "plt.xticks(epoch_ticks)\n",
        "# plt.ylim(90,93)\n",
        "plt.plot(epoch_arr, acc_t, 'r', label='Train', linewidth=2)\n",
        "plt.plot(epoch_arr, acc_v, 'b', label='Validation', linewidth=2)\n",
        "plt.legend()\n",
        "plt.show()"
      ]
    },
    {
      "cell_type": "code",
      "execution_count": 16,
      "metadata": {
        "colab": {
          "base_uri": "https://localhost:8080/",
          "height": 542
        },
        "id": "LkveXjauf2X8",
        "outputId": "fa469109-964e-4baa-b109-b2ce7cc0aeec"
      },
      "outputs": [
        {
          "output_type": "display_data",
          "data": {
            "text/plain": [
              "<Figure size 1000x600 with 1 Axes>"
            ],
            "image/png": "[encoded data removed]"
          },
          "metadata": {}
        }
      ],
      "source": [
        "#CODE TO PLOT TRAINING AND VALIDATION LOSSES:\n",
        "plt.figure(figsize=(10,6))\n",
        "plt.xlabel('EPOCHS--->')\n",
        "plt.ylabel('CROSS ENTROPY LOSS--->')\n",
        "epoch_arr = np.arange(0,20)\n",
        "epoch_ticks = np.arange(0,22)\n",
        "plt.xticks(epoch_ticks)\n",
        "# plt.ylim(90,93)\n",
        "plt.plot(epoch_arr, train_loss, 'r', label='Train', linewidth=2)\n",
        "plt.plot(epoch_arr, val_loss, 'b', label='Validation', linewidth=2)\n",
        "plt.legend()\n",
        "plt.show()"
      ]
    },
    {
      "cell_type": "code",
      "execution_count": 17,
      "metadata": {
        "colab": {
          "base_uri": "https://localhost:8080/",
          "height": 547
        },
        "id": "rdnNLXC0f2X8",
        "outputId": "db342e1a-6f38-44ff-c789-1e2bb2cbcb70"
      },
      "outputs": [
        {
          "output_type": "display_data",
          "data": {
            "text/plain": [
              "<Figure size 1000x600 with 1 Axes>"
            ],
            "image/png": "[encoded data removed]"
          },
          "metadata": {}
        }
      ],
      "source": [
        "#COMPARING LEARNING RATES:\n",
        "train_loss_00001 = np.array([6.7169, 5.7859, 5.4376, 5.2699, 5.1458, 5.0447, 4.9595, 4.8850, 4.8180,\n",
        "        4.7559, 4.6978, 4.6434, 4.5919, 4.5438, 4.4993])\n",
        "train_loss_001 = np.array([4.6798, 3.3941, 2.8265, 2.4660, 2.1989, 1.9609, 1.7747, 1.6242, 1.4892,\n",
        "        1.3689, 1.2531, 1.1638, 1.0528, 1.0081, 0.8814, 0.8194, 0.7478, 0.7082,\n",
        "        0.6791, 0.6537, 0.6183, 0.5833, 0.5416, 0.5054, 0.5074, 0.4823, 0.4684,\n",
        "        0.4659, 0.4149, 0.4265, 0.4078, 0.3694, 0.3801, 0.3687, 0.3771, 0.3576,\n",
        "        0.3460, 0.3161, 0.3150, 0.3330])\n",
        "train_loss_01 = np.array([92.3200,  7.2332,  7.2339,  7.2340,  7.2340,  7.2340,  7.2340,  7.2340,\n",
        "         7.2340,  7.2340,  7.2340,  7.2340,  7.2340,  7.2340,  7.2340,  7.2340,\n",
        "         7.2340,  7.2340,  7.2340,  7.2340])\n",
        "plt.figure(figsize=(10,6))\n",
        "plt.xlabel('EPOCHS--->')\n",
        "plt.ylabel('TRAIN CROSS ENTROPY LOSS--->')\n",
        "epoch_arr = np.arange(0,15)\n",
        "epoch_ticks = np.arange(0,15)\n",
        "plt.xticks(epoch_ticks)\n",
        "plt.ylim(0,10)\n",
        "plt.plot(epoch_arr, train_loss_00001[:15], 'r', label='LR = 0.00001', linewidth=2)\n",
        "plt.plot(epoch_arr, train_loss_001[:15], 'b', label='LR = 0.001', linewidth=2)\n",
        "plt.plot(epoch_arr, train_loss_01[:15], 'lime', label='LR = 0.1', linewidth=2)\n",
        "plt.legend()\n",
        "plt.show()"
      ]
    }
  ],
  "metadata": {
    "accelerator": "GPU",
    "colab": {
      "provenance": []
    },
    "gpuClass": "standard",
    "kernelspec": {
      "display_name": "Python 3.8.10 64-bit",
      "language": "python",
      "name": "python3"
    },
    "language_info": {
      "codemirror_mode": {
        "name": "ipython",
        "version": 3
      },
      "file_extension": ".py",
      "mimetype": "text/x-python",
      "name": "python",
      "nbconvert_exporter": "python",
      "pygments_lexer": "ipython3",
      "version": "3.8.10"
    },
    "orig_nbformat": 4,
    "vscode": {
      "interpreter": {
        "hash": "916dbcbb3f70747c44a77c7bcd40155683ae19c65e1c03b4aa3499c5328201f1"
      }
    },
    "widgets": {
      "application/vnd.jupyter.widget-state+json": {
        "98854b6b50734bb994b21d771a8f4175": {
          "model_module": "@jupyter-widgets/controls",
          "model_name": "HBoxModel",
          "model_module_version": "1.5.0",
          "state": {
            "_dom_classes": [],
            "_model_module": "@jupyter-widgets/controls",
            "_model_module_version": "1.5.0",
            "_model_name": "HBoxModel",
            "_view_count": null,
            "_view_module": "@jupyter-widgets/controls",
            "_view_module_version": "1.5.0",
            "_view_name": "HBoxView",
            "box_style": "",
            "children": [
              "IPY_MODEL_b629c9d4ea6e41ebaa925b0669f1cc89",
              "IPY_MODEL_ad319188b881495383e2214146014c1d",
              "IPY_MODEL_a12a5debece8424da2f053064749420a"
            ],
            "layout": "IPY_MODEL_b58f451d27e64dd8b27fb4c998aef3a7"
          }
        },
        "b629c9d4ea6e41ebaa925b0669f1cc89": {
          "model_module": "@jupyter-widgets/controls",
          "model_name": "HTMLModel",
          "model_module_version": "1.5.0",
          "state": {
            "_dom_classes": [],
            "_model_module": "@jupyter-widgets/controls",
            "_model_module_version": "1.5.0",
            "_model_name": "HTMLModel",
            "_view_count": null,
            "_view_module": "@jupyter-widgets/controls",
            "_view_module_version": "1.5.0",
            "_view_name": "HTMLView",
            "description": "",
            "description_tooltip": null,
            "layout": "IPY_MODEL_72d3d7db0ba94b1480435a3fa3bca3de",
            "placeholder": "​",
            "style": "IPY_MODEL_9e8fe7fd5a074b7ba361ca06fa3cb634",
            "value": "100%"
          }
        },
        "ad319188b881495383e2214146014c1d": {
          "model_module": "@jupyter-widgets/controls",
          "model_name": "FloatProgressModel",
          "model_module_version": "1.5.0",
          "state": {
            "_dom_classes": [],
            "_model_module": "@jupyter-widgets/controls",
            "_model_module_version": "1.5.0",
            "_model_name": "FloatProgressModel",
            "_view_count": null,
            "_view_module": "@jupyter-widgets/controls",
            "_view_module_version": "1.5.0",
            "_view_name": "ProgressView",
            "bar_style": "success",
            "description": "",
            "description_tooltip": null,
            "layout": "IPY_MODEL_0f1bc003f66a46458dea2ea76d573ee3",
            "max": 170498071,
            "min": 0,
            "orientation": "horizontal",
            "style": "IPY_MODEL_c32ee7a934a34aad91a653ddf9f4d194",
            "value": 170498071
          }
        },
        "a12a5debece8424da2f053064749420a": {
          "model_module": "@jupyter-widgets/controls",
          "model_name": "HTMLModel",
          "model_module_version": "1.5.0",
          "state": {
            "_dom_classes": [],
            "_model_module": "@jupyter-widgets/controls",
            "_model_module_version": "1.5.0",
            "_model_name": "HTMLModel",
            "_view_count": null,
            "_view_module": "@jupyter-widgets/controls",
            "_view_module_version": "1.5.0",
            "_view_name": "HTMLView",
            "description": "",
            "description_tooltip": null,
            "layout": "IPY_MODEL_915da9a2b9a244aba532192029e9b1ab",
            "placeholder": "​",
            "style": "IPY_MODEL_7064d40357a54072bdd2ec11b47dd74e",
            "value": " 170498071/170498071 [00:01&lt;00:00, 109661094.33it/s]"
          }
        },
        "b58f451d27e64dd8b27fb4c998aef3a7": {
          "model_module": "@jupyter-widgets/base",
          "model_name": "LayoutModel",
          "model_module_version": "1.2.0",
          "state": {
            "_model_module": "@jupyter-widgets/base",
            "_model_module_version": "1.2.0",
            "_model_name": "LayoutModel",
            "_view_count": null,
            "_view_module": "@jupyter-widgets/base",
            "_view_module_version": "1.2.0",
            "_view_name": "LayoutView",
            "align_content": null,
            "align_items": null,
            "align_self": null,
            "border": null,
            "bottom": null,
            "display": null,
            "flex": null,
            "flex_flow": null,
            "grid_area": null,
            "grid_auto_columns": null,
            "grid_auto_flow": null,
            "grid_auto_rows": null,
            "grid_column": null,
            "grid_gap": null,
            "grid_row": null,
            "grid_template_areas": null,
            "grid_template_columns": null,
            "grid_template_rows": null,
            "height": null,
            "justify_content": null,
            "justify_items": null,
            "left": null,
            "margin": null,
            "max_height": null,
            "max_width": null,
            "min_height": null,
            "min_width": null,
            "object_fit": null,
            "object_position": null,
            "order": null,
            "overflow": null,
            "overflow_x": null,
            "overflow_y": null,
            "padding": null,
            "right": null,
            "top": null,
            "visibility": null,
            "width": null
          }
        },
        "72d3d7db0ba94b1480435a3fa3bca3de": {
          "model_module": "@jupyter-widgets/base",
          "model_name": "LayoutModel",
          "model_module_version": "1.2.0",
          "state": {
            "_model_module": "@jupyter-widgets/base",
            "_model_module_version": "1.2.0",
            "_model_name": "LayoutModel",
            "_view_count": null,
            "_view_module": "@jupyter-widgets/base",
            "_view_module_version": "1.2.0",
            "_view_name": "LayoutView",
            "align_content": null,
            "align_items": null,
            "align_self": null,
            "border": null,
            "bottom": null,
            "display": null,
            "flex": null,
            "flex_flow": null,
            "grid_area": null,
            "grid_auto_columns": null,
            "grid_auto_flow": null,
            "grid_auto_rows": null,
            "grid_column": null,
            "grid_gap": null,
            "grid_row": null,
            "grid_template_areas": null,
            "grid_template_columns": null,
            "grid_template_rows": null,
            "height": null,
            "justify_content": null,
            "justify_items": null,
            "left": null,
            "margin": null,
            "max_height": null,
            "max_width": null,
            "min_height": null,
            "min_width": null,
            "object_fit": null,
            "object_position": null,
            "order": null,
            "overflow": null,
            "overflow_x": null,
            "overflow_y": null,
            "padding": null,
            "right": null,
            "top": null,
            "visibility": null,
            "width": null
          }
        },
        "9e8fe7fd5a074b7ba361ca06fa3cb634": {
          "model_module": "@jupyter-widgets/controls",
          "model_name": "DescriptionStyleModel",
          "model_module_version": "1.5.0",
          "state": {
            "_model_module": "@jupyter-widgets/controls",
            "_model_module_version": "1.5.0",
            "_model_name": "DescriptionStyleModel",
            "_view_count": null,
            "_view_module": "@jupyter-widgets/base",
            "_view_module_version": "1.2.0",
            "_view_name": "StyleView",
            "description_width": ""
          }
        },
        "0f1bc003f66a46458dea2ea76d573ee3": {
          "model_module": "@jupyter-widgets/base",
          "model_name": "LayoutModel",
          "model_module_version": "1.2.0",
          "state": {
            "_model_module": "@jupyter-widgets/base",
            "_model_module_version": "1.2.0",
            "_model_name": "LayoutModel",
            "_view_count": null,
            "_view_module": "@jupyter-widgets/base",
            "_view_module_version": "1.2.0",
            "_view_name": "LayoutView",
            "align_content": null,
            "align_items": null,
            "align_self": null,
            "border": null,
            "bottom": null,
            "display": null,
            "flex": null,
            "flex_flow": null,
            "grid_area": null,
            "grid_auto_columns": null,
            "grid_auto_flow": null,
            "grid_auto_rows": null,
            "grid_column": null,
            "grid_gap": null,
            "grid_row": null,
            "grid_template_areas": null,
            "grid_template_columns": null,
            "grid_template_rows": null,
            "height": null,
            "justify_content": null,
            "justify_items": null,
            "left": null,
            "margin": null,
            "max_height": null,
            "max_width": null,
            "min_height": null,
            "min_width": null,
            "object_fit": null,
            "object_position": null,
            "order": null,
            "overflow": null,
            "overflow_x": null,
            "overflow_y": null,
            "padding": null,
            "right": null,
            "top": null,
            "visibility": null,
            "width": null
          }
        },
        "c32ee7a934a34aad91a653ddf9f4d194": {
          "model_module": "@jupyter-widgets/controls",
          "model_name": "ProgressStyleModel",
          "model_module_version": "1.5.0",
          "state": {
            "_model_module": "@jupyter-widgets/controls",
            "_model_module_version": "1.5.0",
            "_model_name": "ProgressStyleModel",
            "_view_count": null,
            "_view_module": "@jupyter-widgets/base",
            "_view_module_version": "1.2.0",
            "_view_name": "StyleView",
            "bar_color": null,
            "description_width": ""
          }
        },
        "915da9a2b9a244aba532192029e9b1ab": {
          "model_module": "@jupyter-widgets/base",
          "model_name": "LayoutModel",
          "model_module_version": "1.2.0",
          "state": {
            "_model_module": "@jupyter-widgets/base",
            "_model_module_version": "1.2.0",
            "_model_name": "LayoutModel",
            "_view_count": null,
            "_view_module": "@jupyter-widgets/base",
            "_view_module_version": "1.2.0",
            "_view_name": "LayoutView",
            "align_content": null,
            "align_items": null,
            "align_self": null,
            "border": null,
            "bottom": null,
            "display": null,
            "flex": null,
            "flex_flow": null,
            "grid_area": null,
            "grid_auto_columns": null,
            "grid_auto_flow": null,
            "grid_auto_rows": null,
            "grid_column": null,
            "grid_gap": null,
            "grid_row": null,
            "grid_template_areas": null,
            "grid_template_columns": null,
            "grid_template_rows": null,
            "height": null,
            "justify_content": null,
            "justify_items": null,
            "left": null,
            "margin": null,
            "max_height": null,
            "max_width": null,
            "min_height": null,
            "min_width": null,
            "object_fit": null,
            "object_position": null,
            "order": null,
            "overflow": null,
            "overflow_x": null,
            "overflow_y": null,
            "padding": null,
            "right": null,
            "top": null,
            "visibility": null,
            "width": null
          }
        },
        "7064d40357a54072bdd2ec11b47dd74e": {
          "model_module": "@jupyter-widgets/controls",
          "model_name": "DescriptionStyleModel",
          "model_module_version": "1.5.0",
          "state": {
            "_model_module": "@jupyter-widgets/controls",
            "_model_module_version": "1.5.0",
            "_model_name": "DescriptionStyleModel",
            "_view_count": null,
            "_view_module": "@jupyter-widgets/base",
            "_view_module_version": "1.2.0",
            "_view_name": "StyleView",
            "description_width": ""
          }
        }
      }
    }
  },
  "nbformat": 4,
  "nbformat_minor": 0
}