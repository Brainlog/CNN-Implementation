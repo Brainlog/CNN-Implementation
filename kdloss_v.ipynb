{
  "cells": [
    {
      "cell_type": "code",
      "execution_count": 1,
      "metadata": {
        "colab": {
          "base_uri": "https://localhost:8080/"
        },
        "id": "MWU2QpvqjF7q",
        "outputId": "8d77c595-20f9-4a0e-ddd4-299a6678a51e"
      },
      "outputs": [
        {
          "output_type": "stream",
          "name": "stdout",
          "text": [
            "Looking in indexes: https://pypi.org/simple, https://us-python.pkg.dev/colab-wheels/public/simple/\n",
            "Requirement already satisfied: torch==1.12.1 in /usr/local/lib/python3.10/dist-packages (1.12.1)\n",
            "Requirement already satisfied: typing-extensions in /usr/local/lib/python3.10/dist-packages (from torch==1.12.1) (4.5.0)\n",
            "Looking in indexes: https://pypi.org/simple, https://us-python.pkg.dev/colab-wheels/public/simple/\n",
            "Collecting torchmetrics\n",
            "  Downloading torchmetrics-0.11.4-py3-none-any.whl (519 kB)\n",
            "\u001b[2K     \u001b[90m━━━━━━━━━━━━━━━━━━━━━━━━━━━━━━━━━━━━━━\u001b[0m \u001b[32m519.2/519.2 kB\u001b[0m \u001b[31m33.8 MB/s\u001b[0m eta \u001b[36m0:00:00\u001b[0m\n",
            "\u001b[?25hRequirement already satisfied: torch>=1.8.1 in /usr/local/lib/python3.10/dist-packages (from torchmetrics) (1.12.1)\n",
            "Requirement already satisfied: packaging in /usr/local/lib/python3.10/dist-packages (from torchmetrics) (23.1)\n",
            "Requirement already satisfied: numpy>=1.17.2 in /usr/local/lib/python3.10/dist-packages (from torchmetrics) (1.22.4)\n",
            "Requirement already satisfied: typing-extensions in /usr/local/lib/python3.10/dist-packages (from torch>=1.8.1->torchmetrics) (4.5.0)\n",
            "Installing collected packages: torchmetrics\n",
            "Successfully installed torchmetrics-0.11.4\n"
          ]
        }
      ],
      "source": [
        "#INSTALLING DEPENDENCIES\n",
        "!pip install torch==1.12.1\n",
        "!pip install torchmetrics"
      ]
    },
    {
      "cell_type": "code",
      "execution_count": 2,
      "metadata": {
        "colab": {
          "base_uri": "https://localhost:8080/"
        },
        "id": "-af3w6LtjF7r",
        "outputId": "86e45363-c147-472e-dfdd-a53b6e0b38ec"
      },
      "outputs": [
        {
          "output_type": "stream",
          "name": "stderr",
          "text": [
            "/usr/local/lib/python3.10/dist-packages/torchvision/io/image.py:13: UserWarning: Failed to load image Python extension: '/usr/local/lib/python3.10/dist-packages/torchvision/image.so: undefined symbol: _ZN3c104impl8GPUTrace13gpuTraceStateE'If you don't plan on using image functionality from `torchvision.io`, you can ignore this warning. Otherwise, there might be something wrong with your environment. Did you have `libjpeg` or `libpng` installed before building `torchvision` from source?\n",
            "  warn(\n"
          ]
        }
      ],
      "source": [
        "#IMPORT LIBRARIES\n",
        "import torch\n",
        "import torchvision\n",
        "import torchvision.transforms as transforms\n",
        "import torch.optim as optim\n",
        "import torch.nn as nn\n",
        "from torchmetrics.classification import MulticlassAccuracy\n",
        "from torchmetrics import Accuracy\n",
        "import numpy as np\n",
        "import matplotlib.pyplot as plt"
      ]
    },
    {
      "cell_type": "code",
      "execution_count": 3,
      "metadata": {
        "colab": {
          "base_uri": "https://localhost:8080/",
          "height": 191,
          "referenced_widgets": [
            "8bf17bbe4e2143f5a1881eba048d0321",
            "82e3a02e0f174f4b9e3d2317748cb1c2",
            "55a2d92524d54de2bcbcf576c2c54bec",
            "40a293ddbd4444aa98154f3d3bff24c7",
            "a5de63192fee4e6fb7c03a13aa9c974e",
            "81ef060382e44efc8657c77c90a3b12e",
            "fcbc730ce0794506ae607021a8e606eb",
            "da907155ed464f0c8497680ead2b2c52",
            "8db67ce78403479dad01af9614a2d8ca",
            "4841f42facfd444298d3ed7048f3e83b",
            "d561983fbdc44dd7805efe121f0694b2"
          ]
        },
        "id": "PrFgAowxjF7s",
        "outputId": "9d12da38-ab74-474d-a032-7e0eef80de88"
      },
      "outputs": [
        {
          "output_type": "stream",
          "name": "stdout",
          "text": [
            "Downloading https://www.cs.toronto.edu/~kriz/cifar-10-python.tar.gz to ./data/cifar-10-python.tar.gz\n"
          ]
        },
        {
          "output_type": "display_data",
          "data": {
            "text/plain": [
              "  0%|          | 0/170498071 [00:00<?, ?it/s]"
            ],
            "application/vnd.jupyter.widget-view+json": {
              "version_major": 2,
              "version_minor": 0,
              "model_id": "8bf17bbe4e2143f5a1881eba048d0321"
            }
          },
          "metadata": {}
        },
        {
          "output_type": "stream",
          "name": "stdout",
          "text": [
            "Extracting ./data/cifar-10-python.tar.gz to ./data\n",
            "Files already downloaded and verified\n"
          ]
        },
        {
          "output_type": "stream",
          "name": "stderr",
          "text": [
            "<ipython-input-3-923f3ca44ac2>:49: UserWarning: To copy construct from a tensor, it is recommended to use sourceTensor.clone().detach() or sourceTensor.clone().detach().requires_grad_(True), rather than torch.tensor(sourceTensor).\n",
            "  train_y_framed = torch.tensor(train_y_framed, dtype=torch.float)\n",
            "<ipython-input-3-923f3ca44ac2>:51: UserWarning: To copy construct from a tensor, it is recommended to use sourceTensor.clone().detach() or sourceTensor.clone().detach().requires_grad_(True), rather than torch.tensor(sourceTensor).\n",
            "  test_y_framed = torch.tensor(test_y_framed, dtype=torch.float)\n"
          ]
        }
      ],
      "source": [
        "#DATA LOADER:\n",
        "horizontal_flip_transform = transforms.Compose(\n",
        "    [transforms.ToTensor(),\n",
        "     transforms.RandomHorizontalFlip(p=0.5)])\n",
        "batch_size=10000\n",
        "trainset = torchvision.datasets.CIFAR10(root='./data', train=True,\n",
        "                                        download=True, transform=horizontal_flip_transform)\n",
        "trainloader = torch.utils.data.DataLoader(trainset, batch_size=batch_size,\n",
        "                                          shuffle=True, num_workers=2)\n",
        "\n",
        "testset = torchvision.datasets.CIFAR10(root='./data', train=False,\n",
        "                                       download=True, transform=horizontal_flip_transform)\n",
        "testloader = torch.utils.data.DataLoader(testset, batch_size=batch_size,\n",
        "                                         shuffle=False, num_workers=2)\n",
        "\n",
        "#UNPICKLING FILES INTO DICTIONARIES:\n",
        "def unpickle(file):\n",
        "    import pickle\n",
        "    with open(file, 'rb') as fo:\n",
        "        dict = pickle.load(fo, encoding='bytes')\n",
        "    return dict\n",
        "dict1 = unpickle(file='./data/cifar-10-batches-py/data_batch_1')\n",
        "dict2 = unpickle(file='./data/cifar-10-batches-py/data_batch_2')\n",
        "dict3 = unpickle(file='./data/cifar-10-batches-py/data_batch_3')\n",
        "dict4 = unpickle(file='./data/cifar-10-batches-py/data_batch_4')\n",
        "dict5 = unpickle(file='./data/cifar-10-batches-py/data_batch_5')\n",
        "dict_test = unpickle(file='./data/cifar-10-batches-py/test_batch')\n",
        "\n",
        "#LOADING TRAIN AND TEST DATA\n",
        "train_x1 = torch.tensor(dict1[b'data'])\n",
        "train_y1 = torch.tensor(dict1[b'labels'])\n",
        "train_x2 = torch.tensor(dict2[b'data'])\n",
        "train_y2 = torch.tensor(dict2[b'labels'])\n",
        "train_x3 = torch.tensor(dict3[b'data'])\n",
        "train_y3 = torch.tensor(dict3[b'labels'])\n",
        "train_x4 = torch.tensor(dict4[b'data'])\n",
        "train_y4 = torch.tensor(dict4[b'labels'])\n",
        "train_x5 = torch.tensor(dict5[b'data'])\n",
        "train_y5 = torch.tensor(dict5[b'labels'])\n",
        "test_x = torch.tensor(dict_test[b'data'])\n",
        "test_y = torch.tensor(dict_test[b'labels'])\n",
        "\n",
        "train_x = torch.cat((train_x1, train_x2, train_x3, train_x4, train_x5), dim=0)\n",
        "train_y = torch.cat((train_y1, train_y2, train_y3, train_y4, train_y5), dim=0)\n",
        "train_x = torch.reshape(train_x, (50000, 3, 32, 32))/255\n",
        "test_x = torch.reshape(test_x, (10000, 3, 32, 32))/255\n",
        "\n",
        "train_y_framed = torch.nn.functional.one_hot(train_y.clone().detach(), num_classes=10)\n",
        "train_y_framed = torch.tensor(train_y_framed, dtype=torch.float)\n",
        "test_y_framed = torch.nn.functional.one_hot(test_y.clone().detach(), num_classes=10)\n",
        "test_y_framed = torch.tensor(test_y_framed, dtype=torch.float)\n"
      ]
    },
    {
      "cell_type": "code",
      "execution_count": 4,
      "metadata": {
        "id": "-451eNOkjPL1"
      },
      "outputs": [],
      "source": [
        "#DEFINING MODEL:\n",
        "class Model(torch.nn.Module):\n",
        "    def __init__(self) -> None:\n",
        "        super().__init__()\n",
        "        self.con1 = torch.nn.Conv2d(3,32,(3,3),stride=(1,1), padding=(1,1), padding_mode='zeros')\n",
        "        self.con2 = torch.nn.Conv2d(32,64,(5,5),stride=(1,1), padding=(1,1), padding_mode='zeros')\n",
        "        self.con3 = torch.nn.Conv2d(64,64,(3,3),stride=(1,1), padding=(1,1), padding_mode='zeros')\n",
        "        self.pool = torch.nn.MaxPool2d((2,2), stride=(2,2), padding=0)\n",
        "        self.f1 = torch.nn.Linear(64*7*7, 64)\n",
        "        self.f2 = torch.nn.Linear(64, 10)\n",
        "        self.soft_max = torch.nn.LogSoftmax(dim=1)\n",
        "        self.rel = torch.nn.functional.relu\n",
        "\n",
        "    def forward(self, x):\n",
        "        x = self.con1(x)\n",
        "        x = self.rel(x)\n",
        "        x = self.pool(x)\n",
        "        x = self.con2(x)\n",
        "        x = self.rel(x)\n",
        "        x = self.pool(x)\n",
        "        x = self.con3(x)\n",
        "        x = self.rel(x)\n",
        "        x = torch.reshape(x, (-1, 64*7*7))\n",
        "        x = self.f1(x)\n",
        "        x = self.rel(x)\n",
        "        x = self.f2(x)\n",
        "        predict = self.soft_max(x)\n",
        "        return predict\n",
        "\n",
        "#PARAMETERS:\n",
        "epochs = 20\n",
        "batch = 32\n",
        "n_batches = 1562"
      ]
    },
    {
      "cell_type": "code",
      "execution_count": 12,
      "metadata": {
        "colab": {
          "base_uri": "https://localhost:8080/"
        },
        "id": "TTvFRp7CjF7s",
        "outputId": "1eefdd18-44cb-4cbe-d3fb-a9a4c4e1bc27"
      },
      "outputs": [
        {
          "output_type": "stream",
          "name": "stdout",
          "text": [
            "Training Loss after epoch 1: 46027.51787567139\n",
            "TRAIN_ACC: 0.5899999737739563\n",
            "VAL ACC: 0.5770000219345093\n",
            "Validation Loss after epoch 1: 29.355833053588867\n",
            "Training Loss after epoch 2: 45800.275550842285\n",
            "TRAIN_ACC: 0.6639999747276306\n",
            "VAL ACC: 0.6650000214576721\n",
            "Validation Loss after epoch 2: 29.278217315673828\n",
            "Training Loss after epoch 3: 45709.10815620422\n",
            "TRAIN_ACC: 0.7059999704360962\n",
            "VAL ACC: 0.6970000267028809\n",
            "Validation Loss after epoch 3: 29.2510929107666\n",
            "Training Loss after epoch 4: 45651.54692077637\n",
            "TRAIN_ACC: 0.7129999995231628\n",
            "VAL ACC: 0.6934999823570251\n",
            "Validation Loss after epoch 4: 29.246156692504883\n",
            "Training Loss after epoch 5: 45614.695764541626\n",
            "TRAIN_ACC: 0.7390000224113464\n",
            "VAL ACC: 0.6965000033378601\n",
            "Validation Loss after epoch 5: 29.245447158813477\n",
            "Training Loss after epoch 6: 45585.08208656311\n",
            "TRAIN_ACC: 0.7490000128746033\n",
            "VAL ACC: 0.6855000257492065\n",
            "Validation Loss after epoch 6: 29.25461196899414\n",
            "Training Loss after epoch 7: 45559.211446762085\n",
            "TRAIN_ACC: 0.7699999809265137\n",
            "VAL ACC: 0.684499979019165\n",
            "Validation Loss after epoch 7: 29.254161834716797\n",
            "Training Loss after epoch 8: 45538.046911239624\n",
            "TRAIN_ACC: 0.7950000166893005\n",
            "VAL ACC: 0.6934999823570251\n",
            "Validation Loss after epoch 8: 29.251083374023438\n",
            "Training Loss after epoch 9: 45519.45419692993\n",
            "TRAIN_ACC: 0.8004999756813049\n",
            "VAL ACC: 0.7059999704360962\n",
            "Validation Loss after epoch 9: 29.25101089477539\n",
            "Training Loss after epoch 10: 45501.967725753784\n",
            "TRAIN_ACC: 0.8084999918937683\n",
            "VAL ACC: 0.6930000185966492\n",
            "Validation Loss after epoch 10: 29.264150619506836\n",
            "Training Loss after epoch 11: 45485.893199920654\n",
            "TRAIN_ACC: 0.8195000290870667\n",
            "VAL ACC: 0.6804999709129333\n",
            "Validation Loss after epoch 11: 29.272043228149414\n",
            "Training Loss after epoch 12: 45473.274450302124\n",
            "TRAIN_ACC: 0.8199999928474426\n",
            "VAL ACC: 0.6815000176429749\n",
            "Validation Loss after epoch 12: 29.277252197265625\n",
            "Training Loss after epoch 13: 45462.05146408081\n",
            "TRAIN_ACC: 0.8105000257492065\n",
            "VAL ACC: 0.6744999885559082\n",
            "Validation Loss after epoch 13: 29.295536041259766\n",
            "Training Loss after epoch 14: 45451.18893814087\n",
            "TRAIN_ACC: 0.8080000281333923\n",
            "VAL ACC: 0.6754999756813049\n",
            "Validation Loss after epoch 14: 29.309083938598633\n",
            "Training Loss after epoch 15: 45439.895959854126\n",
            "TRAIN_ACC: 0.7950000166893005\n",
            "VAL ACC: 0.6625000238418579\n",
            "Validation Loss after epoch 15: 29.3203125\n",
            "Training Loss after epoch 16: 45428.12600135803\n",
            "TRAIN_ACC: 0.8180000185966492\n",
            "VAL ACC: 0.6704999804496765\n",
            "Validation Loss after epoch 16: 29.318227767944336\n",
            "Training Loss after epoch 17: 45423.32318878174\n",
            "TRAIN_ACC: 0.8195000290870667\n",
            "VAL ACC: 0.6610000133514404\n",
            "Validation Loss after epoch 17: 29.3159236907959\n",
            "Training Loss after epoch 18: 45416.95848655701\n",
            "TRAIN_ACC: 0.824999988079071\n",
            "VAL ACC: 0.6620000004768372\n",
            "Validation Loss after epoch 18: 29.31638526916504\n",
            "Training Loss after epoch 19: 45405.80680656433\n",
            "TRAIN_ACC: 0.8349999785423279\n",
            "VAL ACC: 0.6654999852180481\n",
            "Validation Loss after epoch 19: 29.31763458251953\n",
            "Training Loss after epoch 20: 45393.59724998474\n",
            "TRAIN_ACC: 0.8224999904632568\n",
            "VAL ACC: 0.6545000076293945\n",
            "Validation Loss after epoch 20: 29.339942932128906\n",
            "[0.58999997 0.66399997 0.70599997 0.713      0.73900002 0.74900001\n",
            " 0.76999998 0.79500002 0.80049998 0.80849999 0.81950003 0.81999999\n",
            " 0.81050003 0.80800003 0.79500002 0.81800002 0.81950003 0.82499999\n",
            " 0.83499998 0.82249999]\n",
            "[0.57700002 0.66500002 0.69700003 0.69349998 0.6965     0.68550003\n",
            " 0.68449998 0.69349998 0.70599997 0.69300002 0.68049997 0.68150002\n",
            " 0.67449999 0.67549998 0.66250002 0.67049998 0.66100001 0.662\n",
            " 0.66549999 0.65450001]\n"
          ]
        }
      ],
      "source": [
        "#RUNNING THE MODEL ON TRAINING AND TESTING:\n",
        "mymodel = Model().to('cuda:0')\n",
        "# criterion = nn.CrossEntropyLoss()\n",
        "kl_criterion = torch.nn.KLDivLoss(reduction=\"batchmean\", log_target=True)\n",
        "optimizer = optim.Adam(mymodel.parameters(), lr=0.001)\n",
        "val_loss = torch.empty(epochs)\n",
        "train_loss = torch.empty(epochs)\n",
        "valb = 32\n",
        "metric = Accuracy(task=\"multiclass\", num_classes=10).to('cuda:0')\n",
        "acc_t = np.zeros(epochs)\n",
        "acc_v = np.zeros(epochs)\n",
        "for epoch in range(epochs):\n",
        "  rloss = 0\n",
        "  acc = 0\n",
        "  count = 0\n",
        "  vloss = 0\n",
        "  for b in range(n_batches):\n",
        "  # for b in range(10):\n",
        "    xbatch = train_x[(b)*batch:(b+1)*(batch)].to('cuda:0')\n",
        "    ybatch = train_y_framed[(b)*batch:(b+1)*(batch)].to('cuda:0')\n",
        "    predict = mymodel.forward(xbatch)\n",
        "    loss = kl_criterion(predict,ybatch)\n",
        "    optimizer.zero_grad()\n",
        "    loss.backward()\n",
        "    rloss+=loss.item()\n",
        "    optimizer.step()\n",
        "  predict_val = mymodel.forward(test_x[:2000].to('cuda:0'))\n",
        "  loss2 = kl_criterion(predict_val, test_y_framed[:2000].to('cuda:0')).item()\n",
        "  print(f\"Training Loss after epoch {epoch+1}: {rloss}\")\n",
        "  train_loss[epoch] = rloss\n",
        "  val_loss[epoch] = loss2\n",
        "  predict_val_v = mymodel.forward(test_x[:2000].to('cuda:0'))\n",
        "  predict_val_t = mymodel.forward(train_x[:2000].to('cuda:0'))\n",
        "  pred_labels_v = torch.argmax(predict_val_v, dim=1)\n",
        "  pred_labels_t = torch.argmax(predict_val_t, dim=1)\n",
        "  acc_t[epoch]= metric(pred_labels_t, train_y[:2000].to('cuda:0'))\n",
        "  acc_v[epoch]=metric(pred_labels_v, test_y[:2000].to('cuda:0'))\n",
        "  print(f'TRAIN_ACC: {acc_t[epoch]}')\n",
        "  print(f'VAL ACC: {acc_v[epoch]}')\n",
        "  ## Validation loss \n",
        "  print(f\"Validation Loss after epoch {epoch+1}: {loss2}\")\n",
        "  # p1 = torch.argmax(predic,dim=1)\n",
        "  # p2 = torch.argmax(test_y_framed[:500], dim=1)\n",
        "  # count = torch.sum(p2)\n",
        "  # val_accs[epoch] = torch.sum(torch.where(p1==p2,1,0))/count\n",
        "  # print(f'Validation acc after epoch {epoch+1}: {val_accs[epoch]}')\n",
        "print(acc_t)\n",
        "print(acc_v)\n"
      ]
    },
    {
      "cell_type": "code",
      "execution_count": 13,
      "metadata": {
        "colab": {
          "base_uri": "https://localhost:8080/"
        },
        "id": "y3wbw4DCjF7t",
        "outputId": "f95e5e7f-8437-46ba-b606-ff182f08ef69"
      },
      "outputs": [
        {
          "output_type": "stream",
          "name": "stdout",
          "text": [
            "tensor(0.6545, device='cuda:0')\n",
            "tensor([0.5816, 0.7323, 0.3897, 0.5678, 0.6465, 0.5622, 0.8102, 0.6373, 0.7880,\n",
            "        0.7882], device='cuda:0')\n"
          ]
        }
      ],
      "source": [
        "#CALCULATING FINAL VALIDATION ACCURACY AND CLASSWISE ACCURACIES:\n",
        "metric = Accuracy(task=\"multiclass\", num_classes=10).to('cuda:0')\n",
        "acc_metric = MulticlassAccuracy(num_classes=10, average=None).to('cuda:0')\n",
        "# finalpred = mymodel.forward(test_x[:1000])\n",
        "pred_labels = torch.argmax(predict_val_v, dim=1)\n",
        "classaccs = acc_metric(pred_labels, test_y[:2000].to('cuda:0'))\n",
        "accfinal = metric(pred_labels, test_y[:2000].to('cuda:0'))\n",
        "print(accfinal)\n",
        "print(classaccs)\n",
        "# class_acc[0]=classaccs"
      ]
    },
    {
      "cell_type": "code",
      "execution_count": 14,
      "metadata": {
        "colab": {
          "base_uri": "https://localhost:8080/",
          "height": 701
        },
        "id": "vRmkG596jF7t",
        "outputId": "906c2c15-d5f0-4d45-dd43-2d62fcb870fd"
      },
      "outputs": [
        {
          "output_type": "display_data",
          "data": {
            "text/plain": [
              "<Figure size 1000x800 with 1 Axes>"
            ],
            "image/png": "[encoded data removed]"
          },
          "metadata": {}
        }
      ],
      "source": [
        "#CLASSWISE ACCURACY BAR-GRAPH\n",
        "plt.figure(figsize=(10,8))\n",
        "plt.xlabel('CLASSES--->')\n",
        "plt.ylabel('ACCURACY--->')\n",
        "plt.xticks(np.arange(0,10))\n",
        "plt.ylim(0,1)\n",
        "plt.bar(np.arange(0,10),classaccs.to('cpu'),color='lime',label='with KDIVERGENCE LOSS',width=0.3)\n",
        "plt.legend()\n",
        "plt.show()"
      ]
    },
    {
      "cell_type": "code",
      "execution_count": 15,
      "metadata": {
        "colab": {
          "base_uri": "https://localhost:8080/"
        },
        "id": "C4mCCYSWjF7t",
        "outputId": "be8d21ed-1a7a-4e80-e715-4b9d59a2f233"
      },
      "outputs": [
        {
          "output_type": "stream",
          "name": "stdout",
          "text": [
            "tensor([46027.5195, 45800.2773, 45709.1094, 45651.5469, 45614.6953, 45585.0820,\n",
            "        45559.2109, 45538.0469, 45519.4531, 45501.9688, 45485.8945, 45473.2734,\n",
            "        45462.0508, 45451.1875, 45439.8945, 45428.1250, 45423.3242, 45416.9570,\n",
            "        45405.8086, 45393.5977])\n",
            "tensor([29.3558, 29.2782, 29.2511, 29.2462, 29.2454, 29.2546, 29.2542, 29.2511,\n",
            "        29.2510, 29.2642, 29.2720, 29.2773, 29.2955, 29.3091, 29.3203, 29.3182,\n",
            "        29.3159, 29.3164, 29.3176, 29.3399])\n",
            "tensor([92.0845, 91.6299, 91.4475, 91.3323, 91.2586, 91.1993, 91.1476, 91.1052,\n",
            "        91.0680, 91.0331, 91.0009, 90.9757, 90.9532, 90.9315, 90.9089, 90.8853,\n",
            "        90.8757, 90.8630, 90.8407, 90.8163])\n",
            "tensor([1.4678, 1.4639, 1.4626, 1.4623, 1.4623, 1.4627, 1.4627, 1.4626, 1.4626,\n",
            "        1.4632, 1.4636, 1.4639, 1.4648, 1.4655, 1.4660, 1.4659, 1.4658, 1.4658,\n",
            "        1.4659, 1.4670])\n"
          ]
        }
      ],
      "source": [
        "#PRINTING THE LOSSES:\n",
        "print(train_loss)\n",
        "print(val_loss)\n",
        "train_loss = train_loss/499.84\n",
        "val_loss = val_loss/20\n",
        "print(train_loss)\n",
        "print(val_loss)\n",
        "tloss = train_loss.detach().numpy()\n",
        "vloss = val_loss.detach().numpy()"
      ]
    },
    {
      "cell_type": "code",
      "execution_count": 16,
      "metadata": {
        "colab": {
          "base_uri": "https://localhost:8080/",
          "height": 542
        },
        "id": "BH_Rqrt0jF7u",
        "outputId": "30c8648b-ec3e-41b3-e59d-7cc9ebc3c1a5"
      },
      "outputs": [
        {
          "output_type": "display_data",
          "data": {
            "text/plain": [
              "<Figure size 1000x600 with 1 Axes>"
            ],
            "image/png": "[encoded data removed]"
          },
          "metadata": {}
        }
      ],
      "source": [
        "#CODE TO PLOT VALIDATION ACCURACY:\n",
        "plt.figure(figsize=(10,6))\n",
        "plt.xlabel('EPOCHS--->')\n",
        "plt.ylabel('ACCURACY--->')\n",
        "epoch_arr = np.arange(0,20)\n",
        "epoch_ticks = np.arange(0,22)\n",
        "plt.xticks(epoch_ticks)\n",
        "# plt.ylim(90,93)\n",
        "plt.plot(epoch_arr, acc_t, 'r', label='Train', linewidth=2)\n",
        "plt.plot(epoch_arr, acc_v, 'b', label='Validation', linewidth=2)\n",
        "plt.legend()\n",
        "plt.show()"
      ]
    },
    {
      "cell_type": "code",
      "source": [],
      "metadata": {
        "id": "DzGQArKUyhmb"
      },
      "execution_count": null,
      "outputs": []
    },
    {
      "cell_type": "code",
      "execution_count": 17,
      "metadata": {
        "colab": {
          "base_uri": "https://localhost:8080/",
          "height": 542
        },
        "id": "eb-P08bxjF7u",
        "outputId": "d5f12def-4750-477a-e779-618138b9133f"
      },
      "outputs": [
        {
          "output_type": "display_data",
          "data": {
            "text/plain": [
              "<Figure size 1000x600 with 1 Axes>"
            ],
            "image/png": "[encoded data removed]"
          },
          "metadata": {}
        }
      ],
      "source": [
        "#CODE TO PLOT TRAINING AND VALIDATION LOSSES:\n",
        "plt.figure(figsize=(10,6))\n",
        "plt.xlabel('EPOCHS--->')\n",
        "plt.ylabel('CROSS ENTROPY LOSS--->')\n",
        "epoch_arr = np.arange(0,20)\n",
        "epoch_ticks = np.arange(0,22)\n",
        "plt.xticks(epoch_ticks)\n",
        "# plt.ylim(90,93)\n",
        "plt.plot(epoch_arr, train_loss, 'r', label='Train', linewidth=2)\n",
        "# plt.plot(epoch_arr, val_loss, 'b', label='Validation', linewidth=2)\n",
        "plt.legend()\n",
        "plt.show()"
      ]
    },
    {
      "cell_type": "code",
      "execution_count": 18,
      "metadata": {
        "colab": {
          "base_uri": "https://localhost:8080/",
          "height": 542
        },
        "id": "tmyLCkExtyym",
        "outputId": "20fc6841-91b8-461e-be09-91e94ca71b4c"
      },
      "outputs": [
        {
          "output_type": "display_data",
          "data": {
            "text/plain": [
              "<Figure size 1000x600 with 1 Axes>"
            ],
            "image/png": "[encoded data removed]"
          },
          "metadata": {}
        }
      ],
      "source": [
        "#CODE TO PLOT TRAINING AND VALIDATION LOSSES:\n",
        "plt.figure(figsize=(10,6))\n",
        "plt.xlabel('EPOCHS--->')\n",
        "plt.ylabel('CROSS ENTROPY LOSS--->')\n",
        "epoch_arr = np.arange(0,20)\n",
        "epoch_ticks = np.arange(0,22)\n",
        "plt.xticks(epoch_ticks)\n",
        "# plt.ylim(90,93)\n",
        "# plt.plot(epoch_arr, train_loss, 'r', label='Train', linewidth=2)\n",
        "plt.plot(epoch_arr, val_loss, 'b', label='Validation', linewidth=2)\n",
        "plt.legend()\n",
        "plt.show()"
      ]
    }
  ],
  "metadata": {
    "accelerator": "GPU",
    "colab": {
      "provenance": []
    },
    "gpuClass": "standard",
    "kernelspec": {
      "display_name": "Python 3.8.10 64-bit",
      "language": "python",
      "name": "python3"
    },
    "language_info": {
      "name": "python",
      "version": "3.8.10"
    },
    "orig_nbformat": 4,
    "vscode": {
      "interpreter": {
        "hash": "916dbcbb3f70747c44a77c7bcd40155683ae19c65e1c03b4aa3499c5328201f1"
      }
    },
    "widgets": {
      "application/vnd.jupyter.widget-state+json": {
        "8bf17bbe4e2143f5a1881eba048d0321": {
          "model_module": "@jupyter-widgets/controls",
          "model_name": "HBoxModel",
          "model_module_version": "1.5.0",
          "state": {
            "_dom_classes": [],
            "_model_module": "@jupyter-widgets/controls",
            "_model_module_version": "1.5.0",
            "_model_name": "HBoxModel",
            "_view_count": null,
            "_view_module": "@jupyter-widgets/controls",
            "_view_module_version": "1.5.0",
            "_view_name": "HBoxView",
            "box_style": "",
            "children": [
              "IPY_MODEL_82e3a02e0f174f4b9e3d2317748cb1c2",
              "IPY_MODEL_55a2d92524d54de2bcbcf576c2c54bec",
              "IPY_MODEL_40a293ddbd4444aa98154f3d3bff24c7"
            ],
            "layout": "IPY_MODEL_a5de63192fee4e6fb7c03a13aa9c974e"
          }
        },
        "82e3a02e0f174f4b9e3d2317748cb1c2": {
          "model_module": "@jupyter-widgets/controls",
          "model_name": "HTMLModel",
          "model_module_version": "1.5.0",
          "state": {
            "_dom_classes": [],
            "_model_module": "@jupyter-widgets/controls",
            "_model_module_version": "1.5.0",
            "_model_name": "HTMLModel",
            "_view_count": null,
            "_view_module": "@jupyter-widgets/controls",
            "_view_module_version": "1.5.0",
            "_view_name": "HTMLView",
            "description": "",
            "description_tooltip": null,
            "layout": "IPY_MODEL_81ef060382e44efc8657c77c90a3b12e",
            "placeholder": "​",
            "style": "IPY_MODEL_fcbc730ce0794506ae607021a8e606eb",
            "value": "100%"
          }
        },
        "55a2d92524d54de2bcbcf576c2c54bec": {
          "model_module": "@jupyter-widgets/controls",
          "model_name": "FloatProgressModel",
          "model_module_version": "1.5.0",
          "state": {
            "_dom_classes": [],
            "_model_module": "@jupyter-widgets/controls",
            "_model_module_version": "1.5.0",
            "_model_name": "FloatProgressModel",
            "_view_count": null,
            "_view_module": "@jupyter-widgets/controls",
            "_view_module_version": "1.5.0",
            "_view_name": "ProgressView",
            "bar_style": "success",
            "description": "",
            "description_tooltip": null,
            "layout": "IPY_MODEL_da907155ed464f0c8497680ead2b2c52",
            "max": 170498071,
            "min": 0,
            "orientation": "horizontal",
            "style": "IPY_MODEL_8db67ce78403479dad01af9614a2d8ca",
            "value": 170498071
          }
        },
        "40a293ddbd4444aa98154f3d3bff24c7": {
          "model_module": "@jupyter-widgets/controls",
          "model_name": "HTMLModel",
          "model_module_version": "1.5.0",
          "state": {
            "_dom_classes": [],
            "_model_module": "@jupyter-widgets/controls",
            "_model_module_version": "1.5.0",
            "_model_name": "HTMLModel",
            "_view_count": null,
            "_view_module": "@jupyter-widgets/controls",
            "_view_module_version": "1.5.0",
            "_view_name": "HTMLView",
            "description": "",
            "description_tooltip": null,
            "layout": "IPY_MODEL_4841f42facfd444298d3ed7048f3e83b",
            "placeholder": "​",
            "style": "IPY_MODEL_d561983fbdc44dd7805efe121f0694b2",
            "value": " 170498071/170498071 [00:12&lt;00:00, 13105023.10it/s]"
          }
        },
        "a5de63192fee4e6fb7c03a13aa9c974e": {
          "model_module": "@jupyter-widgets/base",
          "model_name": "LayoutModel",
          "model_module_version": "1.2.0",
          "state": {
            "_model_module": "@jupyter-widgets/base",
            "_model_module_version": "1.2.0",
            "_model_name": "LayoutModel",
            "_view_count": null,
            "_view_module": "@jupyter-widgets/base",
            "_view_module_version": "1.2.0",
            "_view_name": "LayoutView",
            "align_content": null,
            "align_items": null,
            "align_self": null,
            "border": null,
            "bottom": null,
            "display": null,
            "flex": null,
            "flex_flow": null,
            "grid_area": null,
            "grid_auto_columns": null,
            "grid_auto_flow": null,
            "grid_auto_rows": null,
            "grid_column": null,
            "grid_gap": null,
            "grid_row": null,
            "grid_template_areas": null,
            "grid_template_columns": null,
            "grid_template_rows": null,
            "height": null,
            "justify_content": null,
            "justify_items": null,
            "left": null,
            "margin": null,
            "max_height": null,
            "max_width": null,
            "min_height": null,
            "min_width": null,
            "object_fit": null,
            "object_position": null,
            "order": null,
            "overflow": null,
            "overflow_x": null,
            "overflow_y": null,
            "padding": null,
            "right": null,
            "top": null,
            "visibility": null,
            "width": null
          }
        },
        "81ef060382e44efc8657c77c90a3b12e": {
          "model_module": "@jupyter-widgets/base",
          "model_name": "LayoutModel",
          "model_module_version": "1.2.0",
          "state": {
            "_model_module": "@jupyter-widgets/base",
            "_model_module_version": "1.2.0",
            "_model_name": "LayoutModel",
            "_view_count": null,
            "_view_module": "@jupyter-widgets/base",
            "_view_module_version": "1.2.0",
            "_view_name": "LayoutView",
            "align_content": null,
            "align_items": null,
            "align_self": null,
            "border": null,
            "bottom": null,
            "display": null,
            "flex": null,
            "flex_flow": null,
            "grid_area": null,
            "grid_auto_columns": null,
            "grid_auto_flow": null,
            "grid_auto_rows": null,
            "grid_column": null,
            "grid_gap": null,
            "grid_row": null,
            "grid_template_areas": null,
            "grid_template_columns": null,
            "grid_template_rows": null,
            "height": null,
            "justify_content": null,
            "justify_items": null,
            "left": null,
            "margin": null,
            "max_height": null,
            "max_width": null,
            "min_height": null,
            "min_width": null,
            "object_fit": null,
            "object_position": null,
            "order": null,
            "overflow": null,
            "overflow_x": null,
            "overflow_y": null,
            "padding": null,
            "right": null,
            "top": null,
            "visibility": null,
            "width": null
          }
        },
        "fcbc730ce0794506ae607021a8e606eb": {
          "model_module": "@jupyter-widgets/controls",
          "model_name": "DescriptionStyleModel",
          "model_module_version": "1.5.0",
          "state": {
            "_model_module": "@jupyter-widgets/controls",
            "_model_module_version": "1.5.0",
            "_model_name": "DescriptionStyleModel",
            "_view_count": null,
            "_view_module": "@jupyter-widgets/base",
            "_view_module_version": "1.2.0",
            "_view_name": "StyleView",
            "description_width": ""
          }
        },
        "da907155ed464f0c8497680ead2b2c52": {
          "model_module": "@jupyter-widgets/base",
          "model_name": "LayoutModel",
          "model_module_version": "1.2.0",
          "state": {
            "_model_module": "@jupyter-widgets/base",
            "_model_module_version": "1.2.0",
            "_model_name": "LayoutModel",
            "_view_count": null,
            "_view_module": "@jupyter-widgets/base",
            "_view_module_version": "1.2.0",
            "_view_name": "LayoutView",
            "align_content": null,
            "align_items": null,
            "align_self": null,
            "border": null,
            "bottom": null,
            "display": null,
            "flex": null,
            "flex_flow": null,
            "grid_area": null,
            "grid_auto_columns": null,
            "grid_auto_flow": null,
            "grid_auto_rows": null,
            "grid_column": null,
            "grid_gap": null,
            "grid_row": null,
            "grid_template_areas": null,
            "grid_template_columns": null,
            "grid_template_rows": null,
            "height": null,
            "justify_content": null,
            "justify_items": null,
            "left": null,
            "margin": null,
            "max_height": null,
            "max_width": null,
            "min_height": null,
            "min_width": null,
            "object_fit": null,
            "object_position": null,
            "order": null,
            "overflow": null,
            "overflow_x": null,
            "overflow_y": null,
            "padding": null,
            "right": null,
            "top": null,
            "visibility": null,
            "width": null
          }
        },
        "8db67ce78403479dad01af9614a2d8ca": {
          "model_module": "@jupyter-widgets/controls",
          "model_name": "ProgressStyleModel",
          "model_module_version": "1.5.0",
          "state": {
            "_model_module": "@jupyter-widgets/controls",
            "_model_module_version": "1.5.0",
            "_model_name": "ProgressStyleModel",
            "_view_count": null,
            "_view_module": "@jupyter-widgets/base",
            "_view_module_version": "1.2.0",
            "_view_name": "StyleView",
            "bar_color": null,
            "description_width": ""
          }
        },
        "4841f42facfd444298d3ed7048f3e83b": {
          "model_module": "@jupyter-widgets/base",
          "model_name": "LayoutModel",
          "model_module_version": "1.2.0",
          "state": {
            "_model_module": "@jupyter-widgets/base",
            "_model_module_version": "1.2.0",
            "_model_name": "LayoutModel",
            "_view_count": null,
            "_view_module": "@jupyter-widgets/base",
            "_view_module_version": "1.2.0",
            "_view_name": "LayoutView",
            "align_content": null,
            "align_items": null,
            "align_self": null,
            "border": null,
            "bottom": null,
            "display": null,
            "flex": null,
            "flex_flow": null,
            "grid_area": null,
            "grid_auto_columns": null,
            "grid_auto_flow": null,
            "grid_auto_rows": null,
            "grid_column": null,
            "grid_gap": null,
            "grid_row": null,
            "grid_template_areas": null,
            "grid_template_columns": null,
            "grid_template_rows": null,
            "height": null,
            "justify_content": null,
            "justify_items": null,
            "left": null,
            "margin": null,
            "max_height": null,
            "max_width": null,
            "min_height": null,
            "min_width": null,
            "object_fit": null,
            "object_position": null,
            "order": null,
            "overflow": null,
            "overflow_x": null,
            "overflow_y": null,
            "padding": null,
            "right": null,
            "top": null,
            "visibility": null,
            "width": null
          }
        },
        "d561983fbdc44dd7805efe121f0694b2": {
          "model_module": "@jupyter-widgets/controls",
          "model_name": "DescriptionStyleModel",
          "model_module_version": "1.5.0",
          "state": {
            "_model_module": "@jupyter-widgets/controls",
            "_model_module_version": "1.5.0",
            "_model_name": "DescriptionStyleModel",
            "_view_count": null,
            "_view_module": "@jupyter-widgets/base",
            "_view_module_version": "1.2.0",
            "_view_name": "StyleView",
            "description_width": ""
          }
        }
      }
    }
  },
  "nbformat": 4,
  "nbformat_minor": 0
}