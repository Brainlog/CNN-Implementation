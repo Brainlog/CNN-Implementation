{
  "cells": [
    {
      "cell_type": "code",
      "execution_count": 1,
      "metadata": {
        "colab": {
          "base_uri": "https://localhost:8080/"
        },
        "id": "25yEtyTrf2X5",
        "outputId": "a2e3d947-d06e-4d6b-cb94-9056f4b457f8"
      },
      "outputs": [
        {
          "name": "stdout",
          "output_type": "stream",
          "text": [
            "Looking in indexes: https://pypi.org/simple, https://us-python.pkg.dev/colab-wheels/public/simple/\n",
            "Collecting torch==1.12.1\n",
            "  Downloading torch-1.12.1-cp310-cp310-manylinux1_x86_64.whl (776.3 MB)\n",
            "\u001b[2K     \u001b[90m━━━━━━━━━━━━━━━━━━━━━━━━━━━━━━━━━━━━━━━\u001b[0m \u001b[32m776.3/776.3 MB\u001b[0m \u001b[31m1.1 MB/s\u001b[0m eta \u001b[36m0:00:00\u001b[0m\n",
            "\u001b[?25hRequirement already satisfied: typing-extensions in /usr/local/lib/python3.10/dist-packages (from torch==1.12.1) (4.5.0)\n",
            "Installing collected packages: torch\n",
            "  Attempting uninstall: torch\n",
            "    Found existing installation: torch 2.0.0+cu118\n",
            "    Uninstalling torch-2.0.0+cu118:\n",
            "      Successfully uninstalled torch-2.0.0+cu118\n",
            "\u001b[31mERROR: pip's dependency resolver does not currently take into account all the packages that are installed. This behaviour is the source of the following dependency conflicts.\n",
            "torchvision 0.15.1+cu118 requires torch==2.0.0, but you have torch 1.12.1 which is incompatible.\n",
            "torchtext 0.15.1 requires torch==2.0.0, but you have torch 1.12.1 which is incompatible.\n",
            "torchdata 0.6.0 requires torch==2.0.0, but you have torch 1.12.1 which is incompatible.\n",
            "torchaudio 2.0.1+cu118 requires torch==2.0.0, but you have torch 1.12.1 which is incompatible.\u001b[0m\u001b[31m\n",
            "\u001b[0mSuccessfully installed torch-1.12.1\n",
            "Looking in indexes: https://pypi.org/simple, https://us-python.pkg.dev/colab-wheels/public/simple/\n",
            "Collecting torchmetrics\n",
            "  Downloading torchmetrics-0.11.4-py3-none-any.whl (519 kB)\n",
            "\u001b[2K     \u001b[90m━━━━━━━━━━━━━━━━━━━━━━━━━━━━━━━━━━━━━━━\u001b[0m \u001b[32m519.2/519.2 kB\u001b[0m \u001b[31m9.8 MB/s\u001b[0m eta \u001b[36m0:00:00\u001b[0m\n",
            "\u001b[?25hRequirement already satisfied: torch>=1.8.1 in /usr/local/lib/python3.10/dist-packages (from torchmetrics) (1.12.1)\n",
            "Requirement already satisfied: packaging in /usr/local/lib/python3.10/dist-packages (from torchmetrics) (23.1)\n",
            "Requirement already satisfied: numpy>=1.17.2 in /usr/local/lib/python3.10/dist-packages (from torchmetrics) (1.24.3)\n",
            "Requirement already satisfied: typing-extensions in /usr/local/lib/python3.10/dist-packages (from torch>=1.8.1->torchmetrics) (4.5.0)\n",
            "Installing collected packages: torchmetrics\n",
            "Successfully installed torchmetrics-0.11.4\n"
          ]
        }
      ],
      "source": [
        "#INSTALLING DEPENDENCIES\n",
        "!pip install torch==1.12.1\n",
        "!pip install torchmetrics"
      ]
    },
    {
      "cell_type": "code",
      "execution_count": 2,
      "metadata": {
        "colab": {
          "base_uri": "https://localhost:8080/"
        },
        "id": "DFOoVtLGf2X6",
        "outputId": "26184f8b-381d-4860-8a17-8d51294fa1e4"
      },
      "outputs": [
        {
          "name": "stderr",
          "output_type": "stream",
          "text": [
            "/usr/local/lib/python3.10/dist-packages/torchvision/io/image.py:13: UserWarning: Failed to load image Python extension: '/usr/local/lib/python3.10/dist-packages/torchvision/image.so: undefined symbol: _ZN3c104impl8GPUTrace13gpuTraceStateE'If you don't plan on using image functionality from `torchvision.io`, you can ignore this warning. Otherwise, there might be something wrong with your environment. Did you have `libjpeg` or `libpng` installed before building `torchvision` from source?\n",
            "  warn(\n"
          ]
        }
      ],
      "source": [
        "#IMPORT LIBRARIES\n",
        "import torch\n",
        "import torchvision\n",
        "import torchvision.transforms as transforms\n",
        "import torch.optim as optim\n",
        "import torch.nn as nn\n",
        "from torchmetrics.classification import MulticlassAccuracy\n",
        "from torchmetrics import Accuracy\n",
        "import torch.optim.lr_scheduler as lr_scheduler\n",
        "import numpy as np\n",
        "import matplotlib.pyplot as plt"
      ]
    },
    {
      "cell_type": "code",
      "execution_count": 3,
      "metadata": {
        "colab": {
          "base_uri": "https://localhost:8080/",
          "height": 191,
          "referenced_widgets": [
            "31fdc5db86b242be936ed2f82afec3f6",
            "1c77d7bae4304e00873437ebdc66a6ab",
            "26d5fdf057324faaa5b2148886750d11",
            "5aa9064eb88742519fb4f9c586950c8a",
            "27dd2caadea34733ab309294fcc8e758",
            "c04f0d57d64446918ce7c21da922032d",
            "758fb185c89c4dcdb9f134bc54296cfa",
            "b890a3640a8345a79a2c70d61a2ac535",
            "49adfbd3ff8d4a7d969193341ae0abcb",
            "bb887bc43424468fb4460da2aa37970f",
            "4b78fd5e485f46df9e067e78507f46e9"
          ]
        },
        "id": "RpYcYEFgf2X6",
        "outputId": "de1a88d4-d165-489b-cedb-80779dc8ae46"
      },
      "outputs": [
        {
          "name": "stdout",
          "output_type": "stream",
          "text": [
            "Downloading https://www.cs.toronto.edu/~kriz/cifar-10-python.tar.gz to ./data/cifar-10-python.tar.gz\n"
          ]
        },
        {
          "data": {
            "application/vnd.jupyter.widget-view+json": {
              "model_id": "31fdc5db86b242be936ed2f82afec3f6",
              "version_major": 2,
              "version_minor": 0
            },
            "text/plain": [
              "  0%|          | 0/170498071 [00:00<?, ?it/s]"
            ]
          },
          "metadata": {},
          "output_type": "display_data"
        },
        {
          "name": "stdout",
          "output_type": "stream",
          "text": [
            "Extracting ./data/cifar-10-python.tar.gz to ./data\n",
            "Files already downloaded and verified\n"
          ]
        },
        {
          "name": "stderr",
          "output_type": "stream",
          "text": [
            "<ipython-input-3-923f3ca44ac2>:49: UserWarning: To copy construct from a tensor, it is recommended to use sourceTensor.clone().detach() or sourceTensor.clone().detach().requires_grad_(True), rather than torch.tensor(sourceTensor).\n",
            "  train_y_framed = torch.tensor(train_y_framed, dtype=torch.float)\n",
            "<ipython-input-3-923f3ca44ac2>:51: UserWarning: To copy construct from a tensor, it is recommended to use sourceTensor.clone().detach() or sourceTensor.clone().detach().requires_grad_(True), rather than torch.tensor(sourceTensor).\n",
            "  test_y_framed = torch.tensor(test_y_framed, dtype=torch.float)\n"
          ]
        }
      ],
      "source": [
        "#DATA LOADER:\n",
        "horizontal_flip_transform = transforms.Compose(\n",
        "    [transforms.ToTensor(),\n",
        "     transforms.RandomHorizontalFlip(p=0.5)])\n",
        "batch_size=10000\n",
        "trainset = torchvision.datasets.CIFAR10(root='./data', train=True,\n",
        "                                        download=True, transform=horizontal_flip_transform)\n",
        "trainloader = torch.utils.data.DataLoader(trainset, batch_size=batch_size,\n",
        "                                          shuffle=True, num_workers=2)\n",
        "\n",
        "testset = torchvision.datasets.CIFAR10(root='./data', train=False,\n",
        "                                       download=True, transform=horizontal_flip_transform)\n",
        "testloader = torch.utils.data.DataLoader(testset, batch_size=batch_size,\n",
        "                                         shuffle=False, num_workers=2)\n",
        "\n",
        "#UNPICKLING FILES INTO DICTIONARIES:\n",
        "def unpickle(file):\n",
        "    import pickle\n",
        "    with open(file, 'rb') as fo:\n",
        "        dict = pickle.load(fo, encoding='bytes')\n",
        "    return dict\n",
        "dict1 = unpickle(file='./data/cifar-10-batches-py/data_batch_1')\n",
        "dict2 = unpickle(file='./data/cifar-10-batches-py/data_batch_2')\n",
        "dict3 = unpickle(file='./data/cifar-10-batches-py/data_batch_3')\n",
        "dict4 = unpickle(file='./data/cifar-10-batches-py/data_batch_4')\n",
        "dict5 = unpickle(file='./data/cifar-10-batches-py/data_batch_5')\n",
        "dict_test = unpickle(file='./data/cifar-10-batches-py/test_batch')\n",
        "\n",
        "#LOADING TRAIN AND TEST DATA\n",
        "train_x1 = torch.tensor(dict1[b'data'])\n",
        "train_y1 = torch.tensor(dict1[b'labels'])\n",
        "train_x2 = torch.tensor(dict2[b'data'])\n",
        "train_y2 = torch.tensor(dict2[b'labels'])\n",
        "train_x3 = torch.tensor(dict3[b'data'])\n",
        "train_y3 = torch.tensor(dict3[b'labels'])\n",
        "train_x4 = torch.tensor(dict4[b'data'])\n",
        "train_y4 = torch.tensor(dict4[b'labels'])\n",
        "train_x5 = torch.tensor(dict5[b'data'])\n",
        "train_y5 = torch.tensor(dict5[b'labels'])\n",
        "test_x = torch.tensor(dict_test[b'data'])\n",
        "test_y = torch.tensor(dict_test[b'labels'])\n",
        "\n",
        "train_x = torch.cat((train_x1, train_x2, train_x3, train_x4, train_x5), dim=0)\n",
        "train_y = torch.cat((train_y1, train_y2, train_y3, train_y4, train_y5), dim=0)\n",
        "train_x = torch.reshape(train_x, (50000, 3, 32, 32))/255\n",
        "test_x = torch.reshape(test_x, (10000, 3, 32, 32))/255\n",
        "\n",
        "train_y_framed = torch.nn.functional.one_hot(train_y.clone().detach(), num_classes=10)\n",
        "train_y_framed = torch.tensor(train_y_framed, dtype=torch.float)\n",
        "test_y_framed = torch.nn.functional.one_hot(test_y.clone().detach(), num_classes=10)\n",
        "test_y_framed = torch.tensor(test_y_framed, dtype=torch.float)\n"
      ]
    },
    {
      "cell_type": "code",
      "execution_count": 5,
      "metadata": {
        "id": "5wgcIYmIf_GF"
      },
      "outputs": [],
      "source": [
        "#DEFINING MODEL:\n",
        "class Model(torch.nn.Module):\n",
        "    def __init__(self) -> None:\n",
        "        super().__init__()\n",
        "        self.con1 = torch.nn.Conv2d(3,32,(3,3),stride=(1,1), padding=(1,1), padding_mode='zeros')\n",
        "        self.con2 = torch.nn.Conv2d(32,64,(5,5),stride=(1,1), padding=(1,1), padding_mode='zeros')\n",
        "        self.con3 = torch.nn.Conv2d(64,64,(3,3),stride=(1,1), padding=(1,1), padding_mode='zeros')\n",
        "        self.pool = torch.nn.MaxPool2d((2,2), stride=(2,2), padding=0)\n",
        "        self.f1 = torch.nn.Linear(64*7*7, 64)\n",
        "        self.f2 = torch.nn.Linear(64, 10)\n",
        "        self.soft_max = torch.nn.LogSoftmax(dim=1)\n",
        "        self.rel = torch.nn.functional.relu\n",
        "\n",
        "    def forward(self, x):\n",
        "        x = self.con1(x)\n",
        "        x = self.rel(x)\n",
        "        x = self.pool(x)\n",
        "        x = self.con2(x)\n",
        "        x = self.rel(x)\n",
        "        x = self.pool(x)\n",
        "        x = self.con3(x)\n",
        "        x = self.rel(x)\n",
        "        x = torch.reshape(x, (-1, 64*7*7))\n",
        "        x = self.f1(x)\n",
        "        x = self.rel(x)\n",
        "        x = self.f2(x)\n",
        "        predict = self.soft_max(x)\n",
        "        return predict\n",
        "\n",
        "#PARAMETERS:\n",
        "epochs = 20\n",
        "batch = 32\n",
        "n_batches = 1562"
      ]
    },
    {
      "cell_type": "code",
      "execution_count": 7,
      "metadata": {
        "colab": {
          "base_uri": "https://localhost:8080/"
        },
        "id": "trTmtKJWf2X7",
        "outputId": "6e7bdd91-47ca-42e6-8106-48bbfcdfa305"
      },
      "outputs": [
        {
          "name": "stdout",
          "output_type": "stream",
          "text": [
            "LR from 0.002 to 0.00198\n",
            "Training Loss after epoch 1: 2383.322695314884\n",
            "TRAIN_ACC: 0.5339999794960022\n",
            "VAL ACC: 0.5559999942779541\n",
            "Validation Loss after epoch 1: 1.2456355094909668\n",
            "LR from 0.00198 to 0.0019602\n",
            "Training Loss after epoch 2: 1793.0479544997215\n",
            "TRAIN_ACC: 0.6359999775886536\n",
            "VAL ACC: 0.6240000128746033\n",
            "Validation Loss after epoch 2: 1.07448148727417\n",
            "LR from 0.0019602 to 0.001940598\n",
            "Training Loss after epoch 3: 1560.827428638935\n",
            "TRAIN_ACC: 0.6850000023841858\n",
            "VAL ACC: 0.6460000276565552\n",
            "Validation Loss after epoch 3: 1.0122356414794922\n",
            "LR from 0.001940598 to 0.0019211920199999999\n",
            "Training Loss after epoch 4: 1407.6656786203384\n",
            "TRAIN_ACC: 0.6790000200271606\n",
            "VAL ACC: 0.6570000052452087\n",
            "Validation Loss after epoch 4: 1.000455379486084\n",
            "LR from 0.0019211920199999999 to 0.0019019800997999998\n",
            "Training Loss after epoch 5: 1302.6836211383343\n",
            "TRAIN_ACC: 0.7129999995231628\n",
            "VAL ACC: 0.6610000133514404\n",
            "Validation Loss after epoch 5: 1.033944845199585\n",
            "LR from 0.0019019800997999998 to 0.0018829602988019998\n",
            "Training Loss after epoch 6: 1217.3224959671497\n",
            "TRAIN_ACC: 0.7390000224113464\n",
            "VAL ACC: 0.6690000295639038\n",
            "Validation Loss after epoch 6: 1.0320838689804077\n",
            "LR from 0.0018829602988019998 to 0.0018641306958139799\n",
            "Training Loss after epoch 7: 1137.7330116033554\n",
            "TRAIN_ACC: 0.7559999823570251\n",
            "VAL ACC: 0.6489999890327454\n",
            "Validation Loss after epoch 7: 1.1051771640777588\n",
            "LR from 0.0018641306958139799 to 0.00184548938885584\n",
            "Training Loss after epoch 8: 1082.8300167024136\n",
            "TRAIN_ACC: 0.7699999809265137\n",
            "VAL ACC: 0.6420000195503235\n",
            "Validation Loss after epoch 8: 1.1054185628890991\n",
            "LR from 0.00184548938885584 to 0.0018270344949672815\n",
            "Training Loss after epoch 9: 1031.0580624789\n",
            "TRAIN_ACC: 0.7310000061988831\n",
            "VAL ACC: 0.6209999918937683\n",
            "Validation Loss after epoch 9: 1.3075265884399414\n",
            "LR from 0.0018270344949672815 to 0.0018087641500176086\n",
            "Training Loss after epoch 10: 981.8916825801134\n",
            "TRAIN_ACC: 0.7540000081062317\n",
            "VAL ACC: 0.6159999966621399\n",
            "Validation Loss after epoch 10: 1.361114501953125\n",
            "LR from 0.0018087641500176086 to 0.0017906765085174325\n",
            "Training Loss after epoch 11: 928.3462977409363\n",
            "TRAIN_ACC: 0.7850000262260437\n",
            "VAL ACC: 0.6460000276565552\n",
            "Validation Loss after epoch 11: 1.3756505250930786\n",
            "LR from 0.0017906765085174325 to 0.0017727697434322582\n",
            "Training Loss after epoch 12: 888.8740688860416\n",
            "TRAIN_ACC: 0.7760000228881836\n",
            "VAL ACC: 0.6259999871253967\n",
            "Validation Loss after epoch 12: 1.4470674991607666\n",
            "LR from 0.0017727697434322582 to 0.0017550420459979356\n",
            "Training Loss after epoch 13: 853.4933842271566\n",
            "TRAIN_ACC: 0.7649999856948853\n",
            "VAL ACC: 0.6259999871253967\n",
            "Validation Loss after epoch 13: 1.5302375555038452\n",
            "LR from 0.0017550420459979356 to 0.0017374916255379561\n",
            "Training Loss after epoch 14: 811.029631882906\n",
            "TRAIN_ACC: 0.7950000166893005\n",
            "VAL ACC: 0.6439999938011169\n",
            "Validation Loss after epoch 14: 1.5303518772125244\n",
            "LR from 0.0017374916255379561 to 0.0017201167092825765\n",
            "Training Loss after epoch 15: 774.7451514899731\n",
            "TRAIN_ACC: 0.8220000267028809\n",
            "VAL ACC: 0.6510000228881836\n",
            "Validation Loss after epoch 15: 1.521285057067871\n",
            "LR from 0.0017201167092825765 to 0.0017029155421897507\n",
            "Training Loss after epoch 16: 741.5545094534755\n",
            "TRAIN_ACC: 0.8370000123977661\n",
            "VAL ACC: 0.6510000228881836\n",
            "Validation Loss after epoch 16: 1.55110764503479\n",
            "LR from 0.0017029155421897507 to 0.0016858863867678531\n",
            "Training Loss after epoch 17: 707.18526340276\n",
            "TRAIN_ACC: 0.8420000076293945\n",
            "VAL ACC: 0.6549999713897705\n",
            "Validation Loss after epoch 17: 1.6447100639343262\n",
            "LR from 0.0016858863867678531 to 0.0016690275229001746\n",
            "Training Loss after epoch 18: 667.9845790714025\n",
            "TRAIN_ACC: 0.8069999814033508\n",
            "VAL ACC: 0.6460000276565552\n",
            "Validation Loss after epoch 18: 1.859239935874939\n",
            "LR from 0.0016690275229001746 to 0.0016523372476711729\n",
            "Training Loss after epoch 19: 653.1439387872815\n",
            "TRAIN_ACC: 0.8339999914169312\n",
            "VAL ACC: 0.6359999775886536\n",
            "Validation Loss after epoch 19: 1.8784773349761963\n",
            "LR from 0.0016523372476711729 to 0.0016358138751944612\n",
            "Training Loss after epoch 20: 622.5006938353181\n",
            "TRAIN_ACC: 0.8330000042915344\n",
            "VAL ACC: 0.6579999923706055\n",
            "Validation Loss after epoch 20: 1.891370415687561\n",
            "[0.53399998 0.63599998 0.685      0.67900002 0.713      0.73900002\n",
            " 0.75599998 0.76999998 0.73100001 0.75400001 0.78500003 0.77600002\n",
            " 0.76499999 0.79500002 0.82200003 0.83700001 0.84200001 0.80699998\n",
            " 0.83399999 0.833     ]\n",
            "[0.55599999 0.62400001 0.64600003 0.65700001 0.66100001 0.66900003\n",
            " 0.64899999 0.64200002 0.62099999 0.616      0.64600003 0.62599999\n",
            " 0.62599999 0.64399999 0.65100002 0.65100002 0.65499997 0.64600003\n",
            " 0.63599998 0.65799999]\n"
          ]
        }
      ],
      "source": [
        "#RUNNING THE MODEL ON TRAINING AND TESTING:\n",
        "mymodel = Model().to('cuda:0')\n",
        "criterion = nn.CrossEntropyLoss()\n",
        "optimizer = optim.Adam(mymodel.parameters(), lr=0.002)\n",
        "LRS = lr_scheduler.ExponentialLR(optimizer, gamma=0.99)\n",
        "val_loss = torch.empty(epochs)\n",
        "train_loss = torch.empty(epochs)\n",
        "valb = 32\n",
        "metric = Accuracy(task=\"multiclass\", num_classes=10).to('cuda:0')\n",
        "acc_t = np.zeros(epochs)\n",
        "acc_v = np.zeros(epochs)\n",
        "for epoch in range(epochs):\n",
        "  rloss = 0\n",
        "  acc = 0\n",
        "  count = 0\n",
        "  vloss = 0\n",
        "  for b in range(n_batches):\n",
        "  # for b in range(10):\n",
        "    xbatch = train_x[(b)*batch:(b+1)*(batch)].to('cuda:0')\n",
        "    ybatch = train_y_framed[(b)*batch:(b+1)*(batch)].to('cuda:0')\n",
        "    predict = mymodel.forward(xbatch)\n",
        "    loss = criterion(predict,ybatch)\n",
        "    optimizer.zero_grad()\n",
        "    loss.backward()\n",
        "    optimizer.step()\n",
        "    rloss+=loss.item()\n",
        "  LR1  = optimizer.param_groups[0][\"lr\"]\n",
        "  LRS.step()\n",
        "  LR2 = optimizer.param_groups[0][\"lr\"]\n",
        "  print(f'LR from {LR1} to {LR2}')\n",
        "  predict_val = mymodel.forward(test_x[:1000].to('cuda:0'))\n",
        "  loss2 = criterion(predict_val, test_y_framed[:1000].to('cuda:0')).item()\n",
        "  print(f\"Training Loss after epoch {epoch+1}: {rloss}\")\n",
        "  train_loss[epoch] = rloss\n",
        "  val_loss[epoch] = loss2\n",
        "  predict_val_v = mymodel.forward(test_x[:1000].to('cuda:0'))\n",
        "  predict_val_t = mymodel.forward(train_x[:1000].to('cuda:0'))\n",
        "  pred_labels_v = torch.argmax(predict_val_v, dim=1)\n",
        "  pred_labels_t = torch.argmax(predict_val_t, dim=1)\n",
        "  acc_t[epoch]= metric(pred_labels_t, train_y[:1000].to('cuda:0'))\n",
        "  acc_v[epoch]=metric(pred_labels_v, test_y[:1000].to('cuda:0'))\n",
        "  print(f'TRAIN_ACC: {acc_t[epoch]}')\n",
        "  print(f'VAL ACC: {acc_v[epoch]}')\n",
        "  ## Validation loss \n",
        "  print(f\"Validation Loss after epoch {epoch+1}: {loss2}\")\n",
        "  # p1 = torch.argmax(predic,dim=1)\n",
        "  # p2 = torch.argmax(test_y_framed[:500], dim=1)\n",
        "  # count = torch.sum(p2)\n",
        "  # val_accs[epoch] = torch.sum(torch.where(p1==p2,1,0))/count\n",
        "  # print(f'Validation acc after epoch {epoch+1}: {val_accs[epoch]}')\n",
        "print(acc_t)\n",
        "print(acc_v)\n",
        "\n"
      ]
    },
    {
      "cell_type": "code",
      "execution_count": 9,
      "metadata": {
        "colab": {
          "base_uri": "https://localhost:8080/"
        },
        "id": "s9AmNw4SiUtD",
        "outputId": "be310098-6a1b-4f5d-858c-0031c6461905"
      },
      "outputs": [
        {
          "name": "stdout",
          "output_type": "stream",
          "text": [
            "tensor(0.6580)\n",
            "tensor([0.6117, 0.8202, 0.5900, 0.5146, 0.5667, 0.5233, 0.8304, 0.6961, 0.7075,\n",
            "        0.6881])\n"
          ]
        }
      ],
      "source": [
        "#CALCULATING FINAL VALIDATION ACCURACY AND CLASSWISE ACCURACIES:\n",
        "metric = Accuracy(task=\"multiclass\", num_classes=10)\n",
        "acc_metric = MulticlassAccuracy(num_classes=10, average=None)\n",
        "# finalpred = mymodel.forward(test_x[:1000])\n",
        "pred_labels = torch.argmax(predict_val_v, dim=1)\n",
        "classaccs = acc_metric(pred_labels, test_y[:1000])\n",
        "accfinal = metric(pred_labels, test_y[:1000])\n",
        "print(accfinal)\n",
        "print(classaccs)\n",
        "# class_acc[0]=classaccs"
      ]
    },
    {
      "cell_type": "code",
      "execution_count": 10,
      "metadata": {
        "colab": {
          "base_uri": "https://localhost:8080/",
          "height": 718
        },
        "id": "gzgO_Xqef2X7",
        "outputId": "1788c794-fcbb-4433-fa17-15695bdc37cc"
      },
      "outputs": [
        {
          "name": "stderr",
          "output_type": "stream",
          "text": [
            "WARNING:matplotlib.legend:No artists with labels found to put in legend.  Note that artists whose label start with an underscore are ignored when legend() is called with no argument.\n"
          ]
        },
        {
          "data": {
            "image/png": "[encoded data removed]",
            "text/plain": [
              "<Figure size 1000x800 with 1 Axes>"
            ]
          },
          "metadata": {},
          "output_type": "display_data"
        }
      ],
      "source": [
        "#CLASSWISE ACCURACY BAR-GRAPH\n",
        "plt.figure(figsize=(10,8))\n",
        "plt.xlabel('CLASSES--->')\n",
        "plt.ylabel('ACCURACY--->')\n",
        "plt.xticks(np.arange(0,10))\n",
        "plt.ylim(0,1)\n",
        "plt.bar(np.arange(0,10),classaccs,color='lime',width=0.3)\n",
        "plt.legend()\n",
        "plt.show()"
      ]
    },
    {
      "cell_type": "code",
      "execution_count": 11,
      "metadata": {
        "colab": {
          "base_uri": "https://localhost:8080/"
        },
        "id": "pzqcu5HZf2X7",
        "outputId": "2de6b5be-2b60-4ba2-fe81-1c890566e7e6"
      },
      "outputs": [
        {
          "name": "stdout",
          "output_type": "stream",
          "text": [
            "tensor([2383.3228, 1793.0480, 1560.8274, 1407.6656, 1302.6836, 1217.3225,\n",
            "        1137.7330, 1082.8300, 1031.0581,  981.8917,  928.3463,  888.8741,\n",
            "         853.4934,  811.0296,  774.7452,  741.5545,  707.1852,  667.9846,\n",
            "         653.1439,  622.5007])\n",
            "tensor([1.2456, 1.0745, 1.0122, 1.0005, 1.0339, 1.0321, 1.1052, 1.1054, 1.3075,\n",
            "        1.3611, 1.3757, 1.4471, 1.5302, 1.5304, 1.5213, 1.5511, 1.6447, 1.8592,\n",
            "        1.8785, 1.8914])\n",
            "tensor([4.7682, 3.5872, 3.1227, 2.8162, 2.6062, 2.4354, 2.2762, 2.1664, 2.0628,\n",
            "        1.9644, 1.8573, 1.7783, 1.7075, 1.6226, 1.5500, 1.4836, 1.4148, 1.3364,\n",
            "        1.3067, 1.2454])\n",
            "tensor([0.0415, 0.0358, 0.0337, 0.0333, 0.0345, 0.0344, 0.0368, 0.0368, 0.0436,\n",
            "        0.0454, 0.0459, 0.0482, 0.0510, 0.0510, 0.0507, 0.0517, 0.0548, 0.0620,\n",
            "        0.0626, 0.0630])\n"
          ]
        }
      ],
      "source": [
        "#PRINTING THE LOSSES:\n",
        "print(train_loss)\n",
        "print(val_loss)\n",
        "train_loss = train_loss/499.84\n",
        "val_loss = val_loss/30\n",
        "print(train_loss)\n",
        "print(val_loss)\n",
        "tloss = train_loss.detach().numpy()\n",
        "vloss = val_loss.detach().numpy()"
      ]
    },
    {
      "cell_type": "code",
      "execution_count": 12,
      "metadata": {
        "colab": {
          "base_uri": "https://localhost:8080/",
          "height": 542
        },
        "id": "3QrGJ-Mtf2X7",
        "outputId": "38b73e7f-4ef0-4e93-cd0f-4dd7c13c21e7"
      },
      "outputs": [
        {
          "data": {
            "image/png": "[encoded data removed]",
            "text/plain": [
              "<Figure size 1000x600 with 1 Axes>"
            ]
          },
          "metadata": {},
          "output_type": "display_data"
        }
      ],
      "source": [
        "#CODE TO PLOT VALIDATION ACCURACY:\n",
        "plt.figure(figsize=(10,6))\n",
        "plt.xlabel('EPOCHS--->')\n",
        "plt.ylabel('ACCURACY--->')\n",
        "epoch_arr = np.arange(0,20)\n",
        "epoch_ticks = np.arange(0,22)\n",
        "plt.xticks(epoch_ticks)\n",
        "# plt.ylim(90,93)\n",
        "plt.plot(epoch_arr, acc_t, 'r', label='Train', linewidth=2)\n",
        "plt.plot(epoch_arr, acc_v, 'b', label='Validation', linewidth=2)\n",
        "plt.legend()\n",
        "plt.show()"
      ]
    },
    {
      "cell_type": "code",
      "execution_count": 13,
      "metadata": {
        "colab": {
          "base_uri": "https://localhost:8080/",
          "height": 547
        },
        "id": "LkveXjauf2X8",
        "outputId": "8e7ca049-6a05-434a-b0f0-612b591305a1"
      },
      "outputs": [
        {
          "data": {
            "image/png": "[encoded data removed]",
            "text/plain": [
              "<Figure size 1000x600 with 1 Axes>"
            ]
          },
          "metadata": {},
          "output_type": "display_data"
        }
      ],
      "source": [
        "#CODE TO PLOT TRAINING AND VALIDATION LOSSES:\n",
        "plt.figure(figsize=(10,6))\n",
        "plt.xlabel('EPOCHS--->')\n",
        "plt.ylabel('CROSS ENTROPY LOSS--->')\n",
        "epoch_arr = np.arange(0,20)\n",
        "epoch_ticks = np.arange(0,22)\n",
        "plt.xticks(epoch_ticks)\n",
        "# plt.ylim(90,93)\n",
        "plt.plot(epoch_arr, train_loss, 'r', label='Train', linewidth=2)\n",
        "plt.plot(epoch_arr, val_loss, 'b', label='Validation', linewidth=2)\n",
        "plt.legend()\n",
        "plt.show()"
      ]
    },
    {
      "cell_type": "code",
      "execution_count": 14,
      "metadata": {
        "colab": {
          "base_uri": "https://localhost:8080/",
          "height": 547
        },
        "id": "rdnNLXC0f2X8",
        "outputId": "903a7266-26d1-4587-d471-a0f49f6d4d3b"
      },
      "outputs": [
        {
          "data": {
            "image/png": "[encoded data removed]",
            "text/plain": [
              "<Figure size 1000x600 with 1 Axes>"
            ]
          },
          "metadata": {},
          "output_type": "display_data"
        }
      ],
      "source": [
        "#COMPARING LEARNING RATES:\n",
        "train_loss_00001 = np.array([6.7169, 5.7859, 5.4376, 5.2699, 5.1458, 5.0447, 4.9595, 4.8850, 4.8180,\n",
        "        4.7559, 4.6978, 4.6434, 4.5919, 4.5438, 4.4993])\n",
        "train_loss_001 = np.array([4.6798, 3.3941, 2.8265, 2.4660, 2.1989, 1.9609, 1.7747, 1.6242, 1.4892,\n",
        "        1.3689, 1.2531, 1.1638, 1.0528, 1.0081, 0.8814, 0.8194, 0.7478, 0.7082,\n",
        "        0.6791, 0.6537, 0.6183, 0.5833, 0.5416, 0.5054, 0.5074, 0.4823, 0.4684,\n",
        "        0.4659, 0.4149, 0.4265, 0.4078, 0.3694, 0.3801, 0.3687, 0.3771, 0.3576,\n",
        "        0.3460, 0.3161, 0.3150, 0.3330])\n",
        "train_loss_01 = np.array([92.3200,  7.2332,  7.2339,  7.2340,  7.2340,  7.2340,  7.2340,  7.2340,\n",
        "         7.2340,  7.2340,  7.2340,  7.2340,  7.2340,  7.2340,  7.2340,  7.2340,\n",
        "         7.2340,  7.2340,  7.2340,  7.2340])\n",
        "plt.figure(figsize=(10,6))\n",
        "plt.xlabel('EPOCHS--->')\n",
        "plt.ylabel('TRAIN CROSS ENTROPY LOSS--->')\n",
        "epoch_arr = np.arange(0,15)\n",
        "epoch_ticks = np.arange(0,15)\n",
        "plt.xticks(epoch_ticks)\n",
        "plt.ylim(0,10)\n",
        "plt.plot(epoch_arr, train_loss_00001[:15], 'r', label='LR = 0.00001', linewidth=2)\n",
        "plt.plot(epoch_arr, train_loss_001[:15], 'b', label='LR = 0.001', linewidth=2)\n",
        "plt.plot(epoch_arr, train_loss_01[:15], 'lime', label='LR = 0.1', linewidth=2)\n",
        "plt.legend()\n",
        "plt.show()"
      ]
    }
  ],
  "metadata": {
    "accelerator": "TPU",
    "colab": {
      "provenance": []
    },
    "gpuClass": "standard",
    "kernelspec": {
      "display_name": "Python 3.8.10 64-bit",
      "language": "python",
      "name": "python3"
    },
    "language_info": {
      "codemirror_mode": {
        "name": "ipython",
        "version": 3
      },
      "file_extension": ".py",
      "mimetype": "text/x-python",
      "name": "python",
      "nbconvert_exporter": "python",
      "pygments_lexer": "ipython3",
      "version": "3.8.10"
    },
    "orig_nbformat": 4,
    "vscode": {
      "interpreter": {
        "hash": "916dbcbb3f70747c44a77c7bcd40155683ae19c65e1c03b4aa3499c5328201f1"
      }
    },
    "widgets": {
      "application/vnd.jupyter.widget-state+json": {
        "1c77d7bae4304e00873437ebdc66a6ab": {
          "model_module": "@jupyter-widgets/controls",
          "model_module_version": "1.5.0",
          "model_name": "HTMLModel",
          "state": {
            "_dom_classes": [],
            "_model_module": "@jupyter-widgets/controls",
            "_model_module_version": "1.5.0",
            "_model_name": "HTMLModel",
            "_view_count": null,
            "_view_module": "@jupyter-widgets/controls",
            "_view_module_version": "1.5.0",
            "_view_name": "HTMLView",
            "description": "",
            "description_tooltip": null,
            "layout": "IPY_MODEL_c04f0d57d64446918ce7c21da922032d",
            "placeholder": "​",
            "style": "IPY_MODEL_758fb185c89c4dcdb9f134bc54296cfa",
            "value": "100%"
          }
        },
        "26d5fdf057324faaa5b2148886750d11": {
          "model_module": "@jupyter-widgets/controls",
          "model_module_version": "1.5.0",
          "model_name": "FloatProgressModel",
          "state": {
            "_dom_classes": [],
            "_model_module": "@jupyter-widgets/controls",
            "_model_module_version": "1.5.0",
            "_model_name": "FloatProgressModel",
            "_view_count": null,
            "_view_module": "@jupyter-widgets/controls",
            "_view_module_version": "1.5.0",
            "_view_name": "ProgressView",
            "bar_style": "success",
            "description": "",
            "description_tooltip": null,
            "layout": "IPY_MODEL_b890a3640a8345a79a2c70d61a2ac535",
            "max": 170498071,
            "min": 0,
            "orientation": "horizontal",
            "style": "IPY_MODEL_49adfbd3ff8d4a7d969193341ae0abcb",
            "value": 170498071
          }
        },
        "27dd2caadea34733ab309294fcc8e758": {
          "model_module": "@jupyter-widgets/base",
          "model_module_version": "1.2.0",
          "model_name": "LayoutModel",
          "state": {
            "_model_module": "@jupyter-widgets/base",
            "_model_module_version": "1.2.0",
            "_model_name": "LayoutModel",
            "_view_count": null,
            "_view_module": "@jupyter-widgets/base",
            "_view_module_version": "1.2.0",
            "_view_name": "LayoutView",
            "align_content": null,
            "align_items": null,
            "align_self": null,
            "border": null,
            "bottom": null,
            "display": null,
            "flex": null,
            "flex_flow": null,
            "grid_area": null,
            "grid_auto_columns": null,
            "grid_auto_flow": null,
            "grid_auto_rows": null,
            "grid_column": null,
            "grid_gap": null,
            "grid_row": null,
            "grid_template_areas": null,
            "grid_template_columns": null,
            "grid_template_rows": null,
            "height": null,
            "justify_content": null,
            "justify_items": null,
            "left": null,
            "margin": null,
            "max_height": null,
            "max_width": null,
            "min_height": null,
            "min_width": null,
            "object_fit": null,
            "object_position": null,
            "order": null,
            "overflow": null,
            "overflow_x": null,
            "overflow_y": null,
            "padding": null,
            "right": null,
            "top": null,
            "visibility": null,
            "width": null
          }
        },
        "31fdc5db86b242be936ed2f82afec3f6": {
          "model_module": "@jupyter-widgets/controls",
          "model_module_version": "1.5.0",
          "model_name": "HBoxModel",
          "state": {
            "_dom_classes": [],
            "_model_module": "@jupyter-widgets/controls",
            "_model_module_version": "1.5.0",
            "_model_name": "HBoxModel",
            "_view_count": null,
            "_view_module": "@jupyter-widgets/controls",
            "_view_module_version": "1.5.0",
            "_view_name": "HBoxView",
            "box_style": "",
            "children": [
              "IPY_MODEL_1c77d7bae4304e00873437ebdc66a6ab",
              "IPY_MODEL_26d5fdf057324faaa5b2148886750d11",
              "IPY_MODEL_5aa9064eb88742519fb4f9c586950c8a"
            ],
            "layout": "IPY_MODEL_27dd2caadea34733ab309294fcc8e758"
          }
        },
        "49adfbd3ff8d4a7d969193341ae0abcb": {
          "model_module": "@jupyter-widgets/controls",
          "model_module_version": "1.5.0",
          "model_name": "ProgressStyleModel",
          "state": {
            "_model_module": "@jupyter-widgets/controls",
            "_model_module_version": "1.5.0",
            "_model_name": "ProgressStyleModel",
            "_view_count": null,
            "_view_module": "@jupyter-widgets/base",
            "_view_module_version": "1.2.0",
            "_view_name": "StyleView",
            "bar_color": null,
            "description_width": ""
          }
        },
        "4b78fd5e485f46df9e067e78507f46e9": {
          "model_module": "@jupyter-widgets/controls",
          "model_module_version": "1.5.0",
          "model_name": "DescriptionStyleModel",
          "state": {
            "_model_module": "@jupyter-widgets/controls",
            "_model_module_version": "1.5.0",
            "_model_name": "DescriptionStyleModel",
            "_view_count": null,
            "_view_module": "@jupyter-widgets/base",
            "_view_module_version": "1.2.0",
            "_view_name": "StyleView",
            "description_width": ""
          }
        },
        "5aa9064eb88742519fb4f9c586950c8a": {
          "model_module": "@jupyter-widgets/controls",
          "model_module_version": "1.5.0",
          "model_name": "HTMLModel",
          "state": {
            "_dom_classes": [],
            "_model_module": "@jupyter-widgets/controls",
            "_model_module_version": "1.5.0",
            "_model_name": "HTMLModel",
            "_view_count": null,
            "_view_module": "@jupyter-widgets/controls",
            "_view_module_version": "1.5.0",
            "_view_name": "HTMLView",
            "description": "",
            "description_tooltip": null,
            "layout": "IPY_MODEL_bb887bc43424468fb4460da2aa37970f",
            "placeholder": "​",
            "style": "IPY_MODEL_4b78fd5e485f46df9e067e78507f46e9",
            "value": " 170498071/170498071 [00:01&lt;00:00, 107522115.45it/s]"
          }
        },
        "758fb185c89c4dcdb9f134bc54296cfa": {
          "model_module": "@jupyter-widgets/controls",
          "model_module_version": "1.5.0",
          "model_name": "DescriptionStyleModel",
          "state": {
            "_model_module": "@jupyter-widgets/controls",
            "_model_module_version": "1.5.0",
            "_model_name": "DescriptionStyleModel",
            "_view_count": null,
            "_view_module": "@jupyter-widgets/base",
            "_view_module_version": "1.2.0",
            "_view_name": "StyleView",
            "description_width": ""
          }
        },
        "b890a3640a8345a79a2c70d61a2ac535": {
          "model_module": "@jupyter-widgets/base",
          "model_module_version": "1.2.0",
          "model_name": "LayoutModel",
          "state": {
            "_model_module": "@jupyter-widgets/base",
            "_model_module_version": "1.2.0",
            "_model_name": "LayoutModel",
            "_view_count": null,
            "_view_module": "@jupyter-widgets/base",
            "_view_module_version": "1.2.0",
            "_view_name": "LayoutView",
            "align_content": null,
            "align_items": null,
            "align_self": null,
            "border": null,
            "bottom": null,
            "display": null,
            "flex": null,
            "flex_flow": null,
            "grid_area": null,
            "grid_auto_columns": null,
            "grid_auto_flow": null,
            "grid_auto_rows": null,
            "grid_column": null,
            "grid_gap": null,
            "grid_row": null,
            "grid_template_areas": null,
            "grid_template_columns": null,
            "grid_template_rows": null,
            "height": null,
            "justify_content": null,
            "justify_items": null,
            "left": null,
            "margin": null,
            "max_height": null,
            "max_width": null,
            "min_height": null,
            "min_width": null,
            "object_fit": null,
            "object_position": null,
            "order": null,
            "overflow": null,
            "overflow_x": null,
            "overflow_y": null,
            "padding": null,
            "right": null,
            "top": null,
            "visibility": null,
            "width": null
          }
        },
        "bb887bc43424468fb4460da2aa37970f": {
          "model_module": "@jupyter-widgets/base",
          "model_module_version": "1.2.0",
          "model_name": "LayoutModel",
          "state": {
            "_model_module": "@jupyter-widgets/base",
            "_model_module_version": "1.2.0",
            "_model_name": "LayoutModel",
            "_view_count": null,
            "_view_module": "@jupyter-widgets/base",
            "_view_module_version": "1.2.0",
            "_view_name": "LayoutView",
            "align_content": null,
            "align_items": null,
            "align_self": null,
            "border": null,
            "bottom": null,
            "display": null,
            "flex": null,
            "flex_flow": null,
            "grid_area": null,
            "grid_auto_columns": null,
            "grid_auto_flow": null,
            "grid_auto_rows": null,
            "grid_column": null,
            "grid_gap": null,
            "grid_row": null,
            "grid_template_areas": null,
            "grid_template_columns": null,
            "grid_template_rows": null,
            "height": null,
            "justify_content": null,
            "justify_items": null,
            "left": null,
            "margin": null,
            "max_height": null,
            "max_width": null,
            "min_height": null,
            "min_width": null,
            "object_fit": null,
            "object_position": null,
            "order": null,
            "overflow": null,
            "overflow_x": null,
            "overflow_y": null,
            "padding": null,
            "right": null,
            "top": null,
            "visibility": null,
            "width": null
          }
        },
        "c04f0d57d64446918ce7c21da922032d": {
          "model_module": "@jupyter-widgets/base",
          "model_module_version": "1.2.0",
          "model_name": "LayoutModel",
          "state": {
            "_model_module": "@jupyter-widgets/base",
            "_model_module_version": "1.2.0",
            "_model_name": "LayoutModel",
            "_view_count": null,
            "_view_module": "@jupyter-widgets/base",
            "_view_module_version": "1.2.0",
            "_view_name": "LayoutView",
            "align_content": null,
            "align_items": null,
            "align_self": null,
            "border": null,
            "bottom": null,
            "display": null,
            "flex": null,
            "flex_flow": null,
            "grid_area": null,
            "grid_auto_columns": null,
            "grid_auto_flow": null,
            "grid_auto_rows": null,
            "grid_column": null,
            "grid_gap": null,
            "grid_row": null,
            "grid_template_areas": null,
            "grid_template_columns": null,
            "grid_template_rows": null,
            "height": null,
            "justify_content": null,
            "justify_items": null,
            "left": null,
            "margin": null,
            "max_height": null,
            "max_width": null,
            "min_height": null,
            "min_width": null,
            "object_fit": null,
            "object_position": null,
            "order": null,
            "overflow": null,
            "overflow_x": null,
            "overflow_y": null,
            "padding": null,
            "right": null,
            "top": null,
            "visibility": null,
            "width": null
          }
        }
      }
    }
  },
  "nbformat": 4,
  "nbformat_minor": 0
}
