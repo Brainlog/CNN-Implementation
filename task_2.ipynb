{
  "cells": [
    {
      "cell_type": "code",
      "execution_count": 1,
      "metadata": {
        "colab": {
          "base_uri": "https://localhost:8080/"
        },
        "id": "mDnkufWo-o4g",
        "outputId": "ae7b1157-d23d-43ef-935a-df0b3984ef63"
      },
      "outputs": [
        {
          "output_type": "stream",
          "name": "stdout",
          "text": [
            "Looking in indexes: https://pypi.org/simple, https://us-python.pkg.dev/colab-wheels/public/simple/\n",
            "Collecting torch==1.12.1\n",
            "  Downloading torch-1.12.1-cp310-cp310-manylinux1_x86_64.whl (776.3 MB)\n",
            "\u001b[2K     \u001b[90m━━━━━━━━━━━━━━━━━━━━━━━━━━━━━━━━━━━━━━━\u001b[0m \u001b[32m776.3/776.3 MB\u001b[0m \u001b[31m1.8 MB/s\u001b[0m eta \u001b[36m0:00:00\u001b[0m\n",
            "\u001b[?25hRequirement already satisfied: typing-extensions in /usr/local/lib/python3.10/dist-packages (from torch==1.12.1) (4.5.0)\n",
            "Installing collected packages: torch\n",
            "  Attempting uninstall: torch\n",
            "    Found existing installation: torch 2.0.0+cu118\n",
            "    Uninstalling torch-2.0.0+cu118:\n",
            "      Successfully uninstalled torch-2.0.0+cu118\n",
            "\u001b[31mERROR: pip's dependency resolver does not currently take into account all the packages that are installed. This behaviour is the source of the following dependency conflicts.\n",
            "torchvision 0.15.1+cu118 requires torch==2.0.0, but you have torch 1.12.1 which is incompatible.\n",
            "torchtext 0.15.1 requires torch==2.0.0, but you have torch 1.12.1 which is incompatible.\n",
            "torchdata 0.6.0 requires torch==2.0.0, but you have torch 1.12.1 which is incompatible.\n",
            "torchaudio 2.0.1+cu118 requires torch==2.0.0, but you have torch 1.12.1 which is incompatible.\u001b[0m\u001b[31m\n",
            "\u001b[0mSuccessfully installed torch-1.12.1\n",
            "Looking in indexes: https://pypi.org/simple, https://us-python.pkg.dev/colab-wheels/public/simple/\n",
            "Collecting torchmetrics\n",
            "  Downloading torchmetrics-0.11.4-py3-none-any.whl (519 kB)\n",
            "\u001b[2K     \u001b[90m━━━━━━━━━━━━━━━━━━━━━━━━━━━━━━━━━━━━━━\u001b[0m \u001b[32m519.2/519.2 kB\u001b[0m \u001b[31m34.4 MB/s\u001b[0m eta \u001b[36m0:00:00\u001b[0m\n",
            "\u001b[?25hRequirement already satisfied: numpy>=1.17.2 in /usr/local/lib/python3.10/dist-packages (from torchmetrics) (1.22.4)\n",
            "Requirement already satisfied: packaging in /usr/local/lib/python3.10/dist-packages (from torchmetrics) (23.1)\n",
            "Requirement already satisfied: torch>=1.8.1 in /usr/local/lib/python3.10/dist-packages (from torchmetrics) (1.12.1)\n",
            "Requirement already satisfied: typing-extensions in /usr/local/lib/python3.10/dist-packages (from torch>=1.8.1->torchmetrics) (4.5.0)\n",
            "Installing collected packages: torchmetrics\n",
            "Successfully installed torchmetrics-0.11.4\n"
          ]
        }
      ],
      "source": [
        "#INSTALLING DEPENDENCIES\n",
        "!pip install torch==1.12.1\n",
        "!pip install torchmetrics"
      ]
    },
    {
      "cell_type": "code",
      "execution_count": 2,
      "metadata": {
        "colab": {
          "base_uri": "https://localhost:8080/"
        },
        "id": "w4QVVzOb-o4h",
        "outputId": "112151ea-cbd8-462a-a3c6-b3839796eeb0"
      },
      "outputs": [
        {
          "output_type": "stream",
          "name": "stderr",
          "text": [
            "/usr/local/lib/python3.10/dist-packages/torchvision/io/image.py:13: UserWarning: Failed to load image Python extension: '/usr/local/lib/python3.10/dist-packages/torchvision/image.so: undefined symbol: _ZN3c104impl8GPUTrace13gpuTraceStateE'If you don't plan on using image functionality from `torchvision.io`, you can ignore this warning. Otherwise, there might be something wrong with your environment. Did you have `libjpeg` or `libpng` installed before building `torchvision` from source?\n",
            "  warn(\n"
          ]
        }
      ],
      "source": [
        "#IMPORT LIBRARIES\n",
        "import torch\n",
        "import torchvision\n",
        "import torchvision.transforms as transforms\n",
        "import torch.optim as optim\n",
        "import torch.nn as nn\n",
        "from torchmetrics.classification import MulticlassAccuracy\n",
        "from torchmetrics import Accuracy\n",
        "import torch.optim.lr_scheduler as lr_scheduler\n",
        "import numpy as np\n",
        "import matplotlib.pyplot as plt"
      ]
    },
    {
      "cell_type": "code",
      "execution_count": 3,
      "metadata": {
        "colab": {
          "base_uri": "https://localhost:8080/",
          "height": 191,
          "referenced_widgets": [
            "977be2bd5618467fb87e255898dbd546",
            "a9d37346046149f69ce30eff76278bde",
            "9497a70c211b406da9d71ecb1c10508a",
            "5d4b2bf751ce4955ab946cafe2dcbfdc",
            "e1b9429fd5fe4233bac4d6cd8522e707",
            "bba8abc6797642948066b5fa2860f797",
            "320ce5c235864755be947499957d2d87",
            "877d03822c2d4e97b295e0d843dac6ce",
            "8d79c8b69c964740a58613b49174725c",
            "02f1c570f7d64cc9a0f49032dbaf2995",
            "cd047d421db64b0c895197124d6ed7ff"
          ]
        },
        "id": "b91V_Ngn-o4h",
        "outputId": "3c34c12c-adb2-4780-eec4-f8cd5bcbb084"
      },
      "outputs": [
        {
          "output_type": "stream",
          "name": "stdout",
          "text": [
            "Downloading https://www.cs.toronto.edu/~kriz/cifar-10-python.tar.gz to ./data/cifar-10-python.tar.gz\n"
          ]
        },
        {
          "output_type": "display_data",
          "data": {
            "text/plain": [
              "  0%|          | 0/170498071 [00:00<?, ?it/s]"
            ],
            "application/vnd.jupyter.widget-view+json": {
              "version_major": 2,
              "version_minor": 0,
              "model_id": "977be2bd5618467fb87e255898dbd546"
            }
          },
          "metadata": {}
        },
        {
          "output_type": "stream",
          "name": "stdout",
          "text": [
            "Extracting ./data/cifar-10-python.tar.gz to ./data\n",
            "Files already downloaded and verified\n"
          ]
        },
        {
          "output_type": "stream",
          "name": "stderr",
          "text": [
            "<ipython-input-3-923f3ca44ac2>:49: UserWarning: To copy construct from a tensor, it is recommended to use sourceTensor.clone().detach() or sourceTensor.clone().detach().requires_grad_(True), rather than torch.tensor(sourceTensor).\n",
            "  train_y_framed = torch.tensor(train_y_framed, dtype=torch.float)\n",
            "<ipython-input-3-923f3ca44ac2>:51: UserWarning: To copy construct from a tensor, it is recommended to use sourceTensor.clone().detach() or sourceTensor.clone().detach().requires_grad_(True), rather than torch.tensor(sourceTensor).\n",
            "  test_y_framed = torch.tensor(test_y_framed, dtype=torch.float)\n"
          ]
        }
      ],
      "source": [
        "#DATA LOADER:\n",
        "horizontal_flip_transform = transforms.Compose(\n",
        "    [transforms.ToTensor(),\n",
        "     transforms.RandomHorizontalFlip(p=0.5)])\n",
        "batch_size=10000\n",
        "trainset = torchvision.datasets.CIFAR10(root='./data', train=True,\n",
        "                                        download=True, transform=horizontal_flip_transform)\n",
        "trainloader = torch.utils.data.DataLoader(trainset, batch_size=batch_size,\n",
        "                                          shuffle=True, num_workers=2)\n",
        "\n",
        "testset = torchvision.datasets.CIFAR10(root='./data', train=False,\n",
        "                                       download=True, transform=horizontal_flip_transform)\n",
        "testloader = torch.utils.data.DataLoader(testset, batch_size=batch_size,\n",
        "                                         shuffle=False, num_workers=2)\n",
        "\n",
        "#UNPICKLING FILES INTO DICTIONARIES:\n",
        "def unpickle(file):\n",
        "    import pickle\n",
        "    with open(file, 'rb') as fo:\n",
        "        dict = pickle.load(fo, encoding='bytes')\n",
        "    return dict\n",
        "dict1 = unpickle(file='./data/cifar-10-batches-py/data_batch_1')\n",
        "dict2 = unpickle(file='./data/cifar-10-batches-py/data_batch_2')\n",
        "dict3 = unpickle(file='./data/cifar-10-batches-py/data_batch_3')\n",
        "dict4 = unpickle(file='./data/cifar-10-batches-py/data_batch_4')\n",
        "dict5 = unpickle(file='./data/cifar-10-batches-py/data_batch_5')\n",
        "dict_test = unpickle(file='./data/cifar-10-batches-py/test_batch')\n",
        "\n",
        "#LOADING TRAIN AND TEST DATA\n",
        "train_x1 = torch.tensor(dict1[b'data'])\n",
        "train_y1 = torch.tensor(dict1[b'labels'])\n",
        "train_x2 = torch.tensor(dict2[b'data'])\n",
        "train_y2 = torch.tensor(dict2[b'labels'])\n",
        "train_x3 = torch.tensor(dict3[b'data'])\n",
        "train_y3 = torch.tensor(dict3[b'labels'])\n",
        "train_x4 = torch.tensor(dict4[b'data'])\n",
        "train_y4 = torch.tensor(dict4[b'labels'])\n",
        "train_x5 = torch.tensor(dict5[b'data'])\n",
        "train_y5 = torch.tensor(dict5[b'labels'])\n",
        "test_x = torch.tensor(dict_test[b'data'])\n",
        "test_y = torch.tensor(dict_test[b'labels'])\n",
        "\n",
        "train_x = torch.cat((train_x1, train_x2, train_x3, train_x4, train_x5), dim=0)\n",
        "train_y = torch.cat((train_y1, train_y2, train_y3, train_y4, train_y5), dim=0)\n",
        "train_x = torch.reshape(train_x, (50000, 3, 32, 32))/255\n",
        "test_x = torch.reshape(test_x, (10000, 3, 32, 32))/255\n",
        "\n",
        "train_y_framed = torch.nn.functional.one_hot(train_y.clone().detach(), num_classes=10)\n",
        "train_y_framed = torch.tensor(train_y_framed, dtype=torch.float)\n",
        "test_y_framed = torch.nn.functional.one_hot(test_y.clone().detach(), num_classes=10)\n",
        "test_y_framed = torch.tensor(test_y_framed, dtype=torch.float)\n"
      ]
    },
    {
      "cell_type": "code",
      "execution_count": 4,
      "metadata": {
        "id": "iX2Swias-o4i"
      },
      "outputs": [],
      "source": [
        "#DEFINING MODEL:\n",
        "class Model(torch.nn.Module):\n",
        "    def __init__(self) -> None:\n",
        "        super().__init__()\n",
        "        self.con1 = torch.nn.Conv2d(3,32,(3,3),stride=(1,1), padding=(1,1), padding_mode='zeros')\n",
        "        self.con2 = torch.nn.Conv2d(32,64,(5,5),stride=(1,1), padding=(1,1), padding_mode='zeros')\n",
        "        self.con3 = torch.nn.Conv2d(64,64,(3,3),stride=(1,1), padding=(1,1), padding_mode='zeros')\n",
        "        self.pool = torch.nn.MaxPool2d((2,2), stride=(2,2), padding=0)\n",
        "        self.f1 = torch.nn.Linear(64*7*7, 64)\n",
        "        self.f2 = torch.nn.Linear(64, 10)\n",
        "        self.soft_max = torch.nn.LogSoftmax(dim=1)\n",
        "        self.rel = torch.nn.functional.relu\n",
        "\n",
        "    def forward(self, x):\n",
        "        x = self.con1(x)\n",
        "        x = self.rel(x)\n",
        "        x = self.pool(x)\n",
        "        x = self.con2(x)\n",
        "        x = self.rel(x)\n",
        "        x = self.pool(x)\n",
        "        x = self.con3(x)\n",
        "        x = self.rel(x)\n",
        "        x = torch.reshape(x, (-1, 64*7*7))\n",
        "        x = self.f1(x)\n",
        "        x = self.rel(x)\n",
        "        x = self.f2(x)\n",
        "        predict = self.soft_max(x)\n",
        "        return predict\n",
        "\n",
        "#PARAMETERS:\n",
        "epochs = 10\n",
        "batch = 32\n",
        "n_batches = 1562"
      ]
    },
    {
      "cell_type": "code",
      "execution_count": 11,
      "metadata": {
        "colab": {
          "base_uri": "https://localhost:8080/"
        },
        "id": "ZcZEqkK8-o4i",
        "outputId": "2ff01fcb-f851-4207-f9a8-9880059f6cae"
      },
      "outputs": [
        {
          "output_type": "stream",
          "name": "stdout",
          "text": [
            "LR from 0.002 to 0.00198\n",
            "Training Loss after epoch 1: 2387.1665549874306\n",
            "TRAIN_ACC: 0.5379999876022339\n",
            "VAL ACC: 0.5370000004768372\n",
            "Validation Loss after epoch 1: 1.2800065279006958\n",
            "LR from 0.00198 to 0.0019602\n",
            "Training Loss after epoch 2: 1802.5939279794693\n",
            "TRAIN_ACC: 0.6340000033378601\n",
            "VAL ACC: 0.6190000176429749\n",
            "Validation Loss after epoch 2: 1.0709160566329956\n",
            "LR from 0.0019602 to 0.001940598\n",
            "Training Loss after epoch 3: 1536.893371105194\n",
            "TRAIN_ACC: 0.6430000066757202\n",
            "VAL ACC: 0.6480000019073486\n",
            "Validation Loss after epoch 3: 1.021004319190979\n",
            "LR from 0.001940598 to 0.0019211920199999999\n",
            "Training Loss after epoch 4: 1373.5179743468761\n",
            "TRAIN_ACC: 0.671999990940094\n",
            "VAL ACC: 0.652999997138977\n",
            "Validation Loss after epoch 4: 1.0435863733291626\n",
            "LR from 0.0019211920199999999 to 0.0019019800997999998\n",
            "Training Loss after epoch 5: 1254.8224545419216\n",
            "TRAIN_ACC: 0.7310000061988831\n",
            "VAL ACC: 0.675000011920929\n",
            "Validation Loss after epoch 5: 1.0090516805648804\n",
            "LR from 0.0019019800997999998 to 0.0018829602988019998\n",
            "Training Loss after epoch 6: 1167.8425194323063\n",
            "TRAIN_ACC: 0.734000027179718\n",
            "VAL ACC: 0.6629999876022339\n",
            "Validation Loss after epoch 6: 1.0637513399124146\n",
            "LR from 0.0018829602988019998 to 0.0018641306958139799\n",
            "Training Loss after epoch 7: 1097.1197495013475\n",
            "TRAIN_ACC: 0.7519999742507935\n",
            "VAL ACC: 0.6480000019073486\n",
            "Validation Loss after epoch 7: 1.130081295967102\n",
            "LR from 0.0018641306958139799 to 0.00184548938885584\n",
            "Training Loss after epoch 8: 1011.6879967600107\n",
            "TRAIN_ACC: 0.7149999737739563\n",
            "VAL ACC: 0.6050000190734863\n",
            "Validation Loss after epoch 8: 1.3541109561920166\n",
            "LR from 0.00184548938885584 to 0.0018270344949672815\n",
            "Training Loss after epoch 9: 938.1734464913607\n",
            "TRAIN_ACC: 0.7059999704360962\n",
            "VAL ACC: 0.6079999804496765\n",
            "Validation Loss after epoch 9: 1.4636459350585938\n",
            "LR from 0.0018270344949672815 to 0.0018087641500176086\n",
            "Training Loss after epoch 10: 888.0471406131983\n",
            "TRAIN_ACC: 0.7419999837875366\n",
            "VAL ACC: 0.6100000143051147\n",
            "Validation Loss after epoch 10: 1.4865171909332275\n",
            "[0.53799999 0.634      0.64300001 0.67199999 0.73100001 0.73400003\n",
            " 0.75199997 0.71499997 0.70599997 0.74199998]\n",
            "[0.537      0.61900002 0.648      0.653      0.67500001 0.66299999\n",
            " 0.648      0.60500002 0.60799998 0.61000001]\n"
          ]
        }
      ],
      "source": [
        "#RUNNING THE MODEL ON TRAINING AND TESTING:\n",
        "mymodel = Model().to('cuda:0')\n",
        "criterion = nn.CrossEntropyLoss()\n",
        "optimizer = optim.Adam(mymodel.parameters(), lr=0.002)\n",
        "LRS = lr_scheduler.ExponentialLR(optimizer, gamma=0.99)\n",
        "val_loss = torch.empty(epochs)\n",
        "train_loss = torch.empty(epochs)\n",
        "valb = 32\n",
        "metric = Accuracy(task=\"multiclass\", num_classes=10).to('cuda:0')\n",
        "acc_t = np.zeros(epochs)\n",
        "acc_v = np.zeros(epochs)\n",
        "for epoch in range(epochs):\n",
        "  rloss = 0\n",
        "  acc = 0\n",
        "  count = 0\n",
        "  vloss = 0\n",
        "  for b in range(n_batches):\n",
        "  # for b in range(10):\n",
        "    xbatch = train_x[(b)*batch:(b+1)*(batch)].to('cuda:0')\n",
        "    ybatch = train_y_framed[(b)*batch:(b+1)*(batch)].to('cuda:0')\n",
        "    predict = mymodel.forward(xbatch)\n",
        "    loss = criterion(predict,ybatch)\n",
        "    optimizer.zero_grad()\n",
        "    loss.backward()\n",
        "    optimizer.step()\n",
        "    rloss+=loss.item()\n",
        "  LR1  = optimizer.param_groups[0][\"lr\"]\n",
        "  LRS.step()\n",
        "  LR2 = optimizer.param_groups[0][\"lr\"]\n",
        "  print(f'LR from {LR1} to {LR2}')\n",
        "  predict_val = mymodel.forward(test_x[:1000].to('cuda:0'))\n",
        "  loss2 = criterion(predict_val, test_y_framed[:1000].to('cuda:0')).item()\n",
        "  print(f\"Training Loss after epoch {epoch+1}: {rloss}\")\n",
        "  train_loss[epoch] = rloss\n",
        "  val_loss[epoch] = loss2\n",
        "  predict_val_v = mymodel.forward(test_x[:1000].to('cuda:0'))\n",
        "  predict_val_t = mymodel.forward(train_x[:1000].to('cuda:0'))\n",
        "  pred_labels_v = torch.argmax(predict_val_v, dim=1)\n",
        "  pred_labels_t = torch.argmax(predict_val_t, dim=1)\n",
        "  acc_t[epoch]= metric(pred_labels_t, train_y[:1000].to('cuda:0'))\n",
        "  acc_v[epoch]=metric(pred_labels_v, test_y[:1000].to('cuda:0'))\n",
        "  print(f'TRAIN_ACC: {acc_t[epoch]}')\n",
        "  print(f'VAL ACC: {acc_v[epoch]}')\n",
        "  ## Validation loss \n",
        "  print(f\"Validation Loss after epoch {epoch+1}: {loss2}\")\n",
        "  # p1 = torch.argmax(predic,dim=1)\n",
        "  # p2 = torch.argmax(test_y_framed[:500], dim=1)\n",
        "  # count = torch.sum(p2)\n",
        "  # val_accs[epoch] = torch.sum(torch.where(p1==p2,1,0))/count\n",
        "  # print(f'Validation acc after epoch {epoch+1}: {val_accs[epoch]}')\n",
        "print(acc_t)\n",
        "print(acc_v)\n"
      ]
    },
    {
      "cell_type": "code",
      "execution_count": 12,
      "metadata": {
        "colab": {
          "base_uri": "https://localhost:8080/"
        },
        "id": "gWFYZdcq-o4j",
        "outputId": "34c67f66-96ec-49ed-bb9c-b07650fd30d3"
      },
      "outputs": [
        {
          "output_type": "stream",
          "name": "stdout",
          "text": [
            "tensor(0.6100, device='cuda:0')\n",
            "tensor([0.5243, 0.6854, 0.4800, 0.5534, 0.5222, 0.4070, 0.8482, 0.7353, 0.6698,\n",
            "        0.6147], device='cuda:0')\n"
          ]
        }
      ],
      "source": [
        "#CALCULATING FINAL VALIDATION ACCURACY AND CLASSWISE ACCURACIES:\n",
        "metric = Accuracy(task=\"multiclass\", num_classes=10).to('cuda:0')\n",
        "acc_metric = MulticlassAccuracy(num_classes=10, average=None).to('cuda:0')\n",
        "# finalpred = mymodel.forward(test_x[:1000])\n",
        "pred_labels = torch.argmax(predict_val_v, dim=1)\n",
        "classaccs = acc_metric(pred_labels, test_y[:1000].to('cuda:0'))\n",
        "accfinal = metric(pred_labels, test_y[:1000].to('cuda:0'))\n",
        "print(accfinal)\n",
        "print(classaccs)\n",
        "# class_acc[0]=classaccs"
      ]
    },
    {
      "cell_type": "code",
      "execution_count": 13,
      "metadata": {
        "colab": {
          "base_uri": "https://localhost:8080/",
          "height": 718
        },
        "id": "cPgLObfx-o4j",
        "outputId": "1fbd513c-04bb-4523-9157-f982f36c2fef"
      },
      "outputs": [
        {
          "output_type": "stream",
          "name": "stderr",
          "text": [
            "WARNING:matplotlib.legend:No artists with labels found to put in legend.  Note that artists whose label start with an underscore are ignored when legend() is called with no argument.\n"
          ]
        },
        {
          "output_type": "display_data",
          "data": {
            "text/plain": [
              "<Figure size 1000x800 with 1 Axes>"
            ],
            "image/png": "[encoded data removed]"
          },
          "metadata": {}
        }
      ],
      "source": [
        "#CLASSWISE ACCURACY BAR-GRAPH\n",
        "plt.figure(figsize=(10,8))\n",
        "plt.xlabel('CLASSES--->')\n",
        "plt.ylabel('ACCURACY--->')\n",
        "plt.xticks(np.arange(0,10))\n",
        "plt.ylim(0,1)\n",
        "plt.bar(np.arange(0,10),classaccs.to('cpu'),color='lime',width=0.3)\n",
        "plt.legend()\n",
        "plt.show()"
      ]
    },
    {
      "cell_type": "code",
      "execution_count": 14,
      "metadata": {
        "id": "yMd5zG5C-o4j",
        "colab": {
          "base_uri": "https://localhost:8080/"
        },
        "outputId": "cf7e60a0-4db5-43b5-ebd0-eced23c17e4c"
      },
      "outputs": [
        {
          "output_type": "stream",
          "name": "stdout",
          "text": [
            "tensor([2387.1665, 1802.5939, 1536.8933, 1373.5179, 1254.8225, 1167.8425,\n",
            "        1097.1198, 1011.6880,  938.1735,  888.0471])\n",
            "tensor([1.2800, 1.0709, 1.0210, 1.0436, 1.0091, 1.0638, 1.1301, 1.3541, 1.4636,\n",
            "        1.4865])\n",
            "tensor([4.7759, 3.6063, 3.0748, 2.7479, 2.5104, 2.3364, 2.1949, 2.0240, 1.8769,\n",
            "        1.7767])\n",
            "tensor([0.1280, 0.1071, 0.1021, 0.1044, 0.1009, 0.1064, 0.1130, 0.1354, 0.1464,\n",
            "        0.1487])\n"
          ]
        }
      ],
      "source": [
        "#PRINTING THE LOSSES:\n",
        "print(train_loss)\n",
        "print(val_loss)\n",
        "train_loss = train_loss/499.84\n",
        "val_loss = val_loss/10\n",
        "print(train_loss)\n",
        "print(val_loss)\n",
        "tloss = train_loss.detach().numpy()\n",
        "vloss = val_loss.detach().numpy()"
      ]
    },
    {
      "cell_type": "code",
      "execution_count": 15,
      "metadata": {
        "colab": {
          "base_uri": "https://localhost:8080/",
          "height": 542
        },
        "id": "FZ_7qq_Y-o4j",
        "outputId": "e5203c99-9c13-4771-e765-f9e773da4641"
      },
      "outputs": [
        {
          "output_type": "display_data",
          "data": {
            "text/plain": [
              "<Figure size 1000x600 with 1 Axes>"
            ],
            "image/png": "[encoded data removed]"
          },
          "metadata": {}
        }
      ],
      "source": [
        "#CODE TO PLOT VALIDATION ACCURACY:\n",
        "plt.figure(figsize=(10,6))\n",
        "plt.xlabel('EPOCHS--->')\n",
        "plt.ylabel('ACCURACY--->')\n",
        "epoch_arr = np.arange(0,10)\n",
        "epoch_ticks = np.arange(0,11)\n",
        "plt.xticks(epoch_ticks)\n",
        "# plt.ylim(90,93)\n",
        "plt.plot(epoch_arr, acc_t, 'r', label='Train', linewidth=2)\n",
        "plt.plot(epoch_arr, acc_v, 'b', label='Validation', linewidth=2)\n",
        "plt.legend()\n",
        "plt.show()"
      ]
    },
    {
      "cell_type": "code",
      "execution_count": 16,
      "metadata": {
        "colab": {
          "base_uri": "https://localhost:8080/",
          "height": 546
        },
        "id": "t6VzZ2JU-o4k",
        "outputId": "5c8cd93f-46af-472f-ec7d-3e3670827adb"
      },
      "outputs": [
        {
          "output_type": "display_data",
          "data": {
            "text/plain": [
              "<Figure size 1000x600 with 1 Axes>"
            ],
            "image/png": "[encoded data removed]"
          },
          "metadata": {}
        }
      ],
      "source": [
        "#CODE TO PLOT TRAINING AND VALIDATION LOSSES:\n",
        "plt.figure(figsize=(10,6))\n",
        "plt.xlabel('EPOCHS--->')\n",
        "plt.ylabel('CROSS ENTROPY LOSS--->')\n",
        "epoch_arr = np.arange(0,10)\n",
        "epoch_ticks = np.arange(0,11)\n",
        "plt.xticks(epoch_ticks)\n",
        "# plt.ylim(90,93)\n",
        "plt.plot(epoch_arr, train_loss, 'r', label='Train', linewidth=2)\n",
        "plt.plot(epoch_arr, val_loss, 'b', label='Validation', linewidth=2)\n",
        "plt.legend()\n",
        "plt.show()"
      ]
    },
    {
      "cell_type": "code",
      "execution_count": 17,
      "metadata": {
        "id": "5TXZLnyL-o4k"
      },
      "outputs": [],
      "source": [
        "tloss_wo = [4.6798, 3.3941, 2.8265, 2.4660, 2.1989, 1.9609, 1.7747, 1.6242, 1.4892,\n",
        "        1.3689, 1.2531, 1.1638, 1.0528, 1.0081, 0.8814, 0.8194, 0.7478, 0.7082,\n",
        "        0.6791, 0.6537, 0.6183, 0.5833, 0.5416, 0.5054, 0.5074, 0.4823, 0.4684,\n",
        "        0.4659, 0.4149, 0.4265, 0.4078, 0.3694, 0.3801, 0.3687, 0.3771, 0.3576,\n",
        "        0.3460, 0.3161, 0.3150, 0.3330]\n",
        "vloss_wo = [0.1161, 0.0948, 0.0859, 0.0852, 0.0833, 0.0834, 0.0873, 0.0989, 0.1098,\n",
        "        0.1100, 0.1288, 0.1259, 0.1339, 0.1322, 0.13521, 0.1569, 0.1839,\n",
        "        0.1775, 0.1735, 0.1900, 0.1962, 0.1942, 0.1888, 0.1935, 0.2044, 0.2132,\n",
        "        0.2154, 0.2212, 0.2347, 0.2302, 0.2399, 0.2324, 0.2558, 0.2346, 0.2348,\n",
        "        0.2466, 0.2469, 0.2581, 0.2616]\n",
        "tloss_sc = [5.3465, 4.7973, 4.6534, 4.5462, 4.4885, 4.4426, 4.4085, 4.3714, 4.3062,\n",
        "        4.2685, 4.2581, 4.2239, 4.1935, 4.1965, 4.1406]\n",
        "vloss_sc = [0.1769, 0.1653, 0.1528, 0.1481, 0.1465, 0.1541, 0.1444, 0.1495, 0.1460,\n",
        "        0.1453, 0.1476, 0.1515, 0.1442, 0.1489, 0.1452]"
      ]
    },
    {
      "cell_type": "code",
      "execution_count": 18,
      "metadata": {
        "colab": {
          "base_uri": "https://localhost:8080/",
          "height": 542
        },
        "id": "SRY72EIiSDzv",
        "outputId": "72a8d202-8ce0-404c-afde-dccc5bdff60f"
      },
      "outputs": [
        {
          "output_type": "display_data",
          "data": {
            "text/plain": [
              "<Figure size 1000x600 with 1 Axes>"
            ],
            "image/png": "[encoded data removed]"
          },
          "metadata": {}
        }
      ],
      "source": [
        "plt.figure(figsize=(10,6))\n",
        "plt.xlabel('Epochs')\n",
        "plt.ylabel('Train Cross Entropy Loss')\n",
        "epoch_arr = np.arange(0,10)\n",
        "plt.xticks(epoch_arr)\n",
        "# plt.ylim(0,10)\n",
        "plt.plot(epoch_arr, tloss_wo[:10], 'magenta', label='Fixed LR = 0.001')\n",
        "plt.plot(epoch_arr, tloss_sc[:10], 'cyan', label='Scheduled LR')\n",
        "plt.legend()\n",
        "plt.show()"
      ]
    }
  ],
  "metadata": {
    "accelerator": "GPU",
    "colab": {
      "provenance": []
    },
    "gpuClass": "standard",
    "kernelspec": {
      "display_name": "Python 3.8.10 64-bit",
      "language": "python",
      "name": "python3"
    },
    "language_info": {
      "codemirror_mode": {
        "name": "ipython",
        "version": 3
      },
      "file_extension": ".py",
      "mimetype": "text/x-python",
      "name": "python",
      "nbconvert_exporter": "python",
      "pygments_lexer": "ipython3",
      "version": "3.8.10"
    },
    "vscode": {
      "interpreter": {
        "hash": "916dbcbb3f70747c44a77c7bcd40155683ae19c65e1c03b4aa3499c5328201f1"
      }
    },
    "widgets": {
      "application/vnd.jupyter.widget-state+json": {
        "977be2bd5618467fb87e255898dbd546": {
          "model_module": "@jupyter-widgets/controls",
          "model_name": "HBoxModel",
          "model_module_version": "1.5.0",
          "state": {
            "_dom_classes": [],
            "_model_module": "@jupyter-widgets/controls",
            "_model_module_version": "1.5.0",
            "_model_name": "HBoxModel",
            "_view_count": null,
            "_view_module": "@jupyter-widgets/controls",
            "_view_module_version": "1.5.0",
            "_view_name": "HBoxView",
            "box_style": "",
            "children": [
              "IPY_MODEL_a9d37346046149f69ce30eff76278bde",
              "IPY_MODEL_9497a70c211b406da9d71ecb1c10508a",
              "IPY_MODEL_5d4b2bf751ce4955ab946cafe2dcbfdc"
            ],
            "layout": "IPY_MODEL_e1b9429fd5fe4233bac4d6cd8522e707"
          }
        },
        "a9d37346046149f69ce30eff76278bde": {
          "model_module": "@jupyter-widgets/controls",
          "model_name": "HTMLModel",
          "model_module_version": "1.5.0",
          "state": {
            "_dom_classes": [],
            "_model_module": "@jupyter-widgets/controls",
            "_model_module_version": "1.5.0",
            "_model_name": "HTMLModel",
            "_view_count": null,
            "_view_module": "@jupyter-widgets/controls",
            "_view_module_version": "1.5.0",
            "_view_name": "HTMLView",
            "description": "",
            "description_tooltip": null,
            "layout": "IPY_MODEL_bba8abc6797642948066b5fa2860f797",
            "placeholder": "​",
            "style": "IPY_MODEL_320ce5c235864755be947499957d2d87",
            "value": "100%"
          }
        },
        "9497a70c211b406da9d71ecb1c10508a": {
          "model_module": "@jupyter-widgets/controls",
          "model_name": "FloatProgressModel",
          "model_module_version": "1.5.0",
          "state": {
            "_dom_classes": [],
            "_model_module": "@jupyter-widgets/controls",
            "_model_module_version": "1.5.0",
            "_model_name": "FloatProgressModel",
            "_view_count": null,
            "_view_module": "@jupyter-widgets/controls",
            "_view_module_version": "1.5.0",
            "_view_name": "ProgressView",
            "bar_style": "success",
            "description": "",
            "description_tooltip": null,
            "layout": "IPY_MODEL_877d03822c2d4e97b295e0d843dac6ce",
            "max": 170498071,
            "min": 0,
            "orientation": "horizontal",
            "style": "IPY_MODEL_8d79c8b69c964740a58613b49174725c",
            "value": 170498071
          }
        },
        "5d4b2bf751ce4955ab946cafe2dcbfdc": {
          "model_module": "@jupyter-widgets/controls",
          "model_name": "HTMLModel",
          "model_module_version": "1.5.0",
          "state": {
            "_dom_classes": [],
            "_model_module": "@jupyter-widgets/controls",
            "_model_module_version": "1.5.0",
            "_model_name": "HTMLModel",
            "_view_count": null,
            "_view_module": "@jupyter-widgets/controls",
            "_view_module_version": "1.5.0",
            "_view_name": "HTMLView",
            "description": "",
            "description_tooltip": null,
            "layout": "IPY_MODEL_02f1c570f7d64cc9a0f49032dbaf2995",
            "placeholder": "​",
            "style": "IPY_MODEL_cd047d421db64b0c895197124d6ed7ff",
            "value": " 170498071/170498071 [00:13&lt;00:00, 14563953.12it/s]"
          }
        },
        "e1b9429fd5fe4233bac4d6cd8522e707": {
          "model_module": "@jupyter-widgets/base",
          "model_name": "LayoutModel",
          "model_module_version": "1.2.0",
          "state": {
            "_model_module": "@jupyter-widgets/base",
            "_model_module_version": "1.2.0",
            "_model_name": "LayoutModel",
            "_view_count": null,
            "_view_module": "@jupyter-widgets/base",
            "_view_module_version": "1.2.0",
            "_view_name": "LayoutView",
            "align_content": null,
            "align_items": null,
            "align_self": null,
            "border": null,
            "bottom": null,
            "display": null,
            "flex": null,
            "flex_flow": null,
            "grid_area": null,
            "grid_auto_columns": null,
            "grid_auto_flow": null,
            "grid_auto_rows": null,
            "grid_column": null,
            "grid_gap": null,
            "grid_row": null,
            "grid_template_areas": null,
            "grid_template_columns": null,
            "grid_template_rows": null,
            "height": null,
            "justify_content": null,
            "justify_items": null,
            "left": null,
            "margin": null,
            "max_height": null,
            "max_width": null,
            "min_height": null,
            "min_width": null,
            "object_fit": null,
            "object_position": null,
            "order": null,
            "overflow": null,
            "overflow_x": null,
            "overflow_y": null,
            "padding": null,
            "right": null,
            "top": null,
            "visibility": null,
            "width": null
          }
        },
        "bba8abc6797642948066b5fa2860f797": {
          "model_module": "@jupyter-widgets/base",
          "model_name": "LayoutModel",
          "model_module_version": "1.2.0",
          "state": {
            "_model_module": "@jupyter-widgets/base",
            "_model_module_version": "1.2.0",
            "_model_name": "LayoutModel",
            "_view_count": null,
            "_view_module": "@jupyter-widgets/base",
            "_view_module_version": "1.2.0",
            "_view_name": "LayoutView",
            "align_content": null,
            "align_items": null,
            "align_self": null,
            "border": null,
            "bottom": null,
            "display": null,
            "flex": null,
            "flex_flow": null,
            "grid_area": null,
            "grid_auto_columns": null,
            "grid_auto_flow": null,
            "grid_auto_rows": null,
            "grid_column": null,
            "grid_gap": null,
            "grid_row": null,
            "grid_template_areas": null,
            "grid_template_columns": null,
            "grid_template_rows": null,
            "height": null,
            "justify_content": null,
            "justify_items": null,
            "left": null,
            "margin": null,
            "max_height": null,
            "max_width": null,
            "min_height": null,
            "min_width": null,
            "object_fit": null,
            "object_position": null,
            "order": null,
            "overflow": null,
            "overflow_x": null,
            "overflow_y": null,
            "padding": null,
            "right": null,
            "top": null,
            "visibility": null,
            "width": null
          }
        },
        "320ce5c235864755be947499957d2d87": {
          "model_module": "@jupyter-widgets/controls",
          "model_name": "DescriptionStyleModel",
          "model_module_version": "1.5.0",
          "state": {
            "_model_module": "@jupyter-widgets/controls",
            "_model_module_version": "1.5.0",
            "_model_name": "DescriptionStyleModel",
            "_view_count": null,
            "_view_module": "@jupyter-widgets/base",
            "_view_module_version": "1.2.0",
            "_view_name": "StyleView",
            "description_width": ""
          }
        },
        "877d03822c2d4e97b295e0d843dac6ce": {
          "model_module": "@jupyter-widgets/base",
          "model_name": "LayoutModel",
          "model_module_version": "1.2.0",
          "state": {
            "_model_module": "@jupyter-widgets/base",
            "_model_module_version": "1.2.0",
            "_model_name": "LayoutModel",
            "_view_count": null,
            "_view_module": "@jupyter-widgets/base",
            "_view_module_version": "1.2.0",
            "_view_name": "LayoutView",
            "align_content": null,
            "align_items": null,
            "align_self": null,
            "border": null,
            "bottom": null,
            "display": null,
            "flex": null,
            "flex_flow": null,
            "grid_area": null,
            "grid_auto_columns": null,
            "grid_auto_flow": null,
            "grid_auto_rows": null,
            "grid_column": null,
            "grid_gap": null,
            "grid_row": null,
            "grid_template_areas": null,
            "grid_template_columns": null,
            "grid_template_rows": null,
            "height": null,
            "justify_content": null,
            "justify_items": null,
            "left": null,
            "margin": null,
            "max_height": null,
            "max_width": null,
            "min_height": null,
            "min_width": null,
            "object_fit": null,
            "object_position": null,
            "order": null,
            "overflow": null,
            "overflow_x": null,
            "overflow_y": null,
            "padding": null,
            "right": null,
            "top": null,
            "visibility": null,
            "width": null
          }
        },
        "8d79c8b69c964740a58613b49174725c": {
          "model_module": "@jupyter-widgets/controls",
          "model_name": "ProgressStyleModel",
          "model_module_version": "1.5.0",
          "state": {
            "_model_module": "@jupyter-widgets/controls",
            "_model_module_version": "1.5.0",
            "_model_name": "ProgressStyleModel",
            "_view_count": null,
            "_view_module": "@jupyter-widgets/base",
            "_view_module_version": "1.2.0",
            "_view_name": "StyleView",
            "bar_color": null,
            "description_width": ""
          }
        },
        "02f1c570f7d64cc9a0f49032dbaf2995": {
          "model_module": "@jupyter-widgets/base",
          "model_name": "LayoutModel",
          "model_module_version": "1.2.0",
          "state": {
            "_model_module": "@jupyter-widgets/base",
            "_model_module_version": "1.2.0",
            "_model_name": "LayoutModel",
            "_view_count": null,
            "_view_module": "@jupyter-widgets/base",
            "_view_module_version": "1.2.0",
            "_view_name": "LayoutView",
            "align_content": null,
            "align_items": null,
            "align_self": null,
            "border": null,
            "bottom": null,
            "display": null,
            "flex": null,
            "flex_flow": null,
            "grid_area": null,
            "grid_auto_columns": null,
            "grid_auto_flow": null,
            "grid_auto_rows": null,
            "grid_column": null,
            "grid_gap": null,
            "grid_row": null,
            "grid_template_areas": null,
            "grid_template_columns": null,
            "grid_template_rows": null,
            "height": null,
            "justify_content": null,
            "justify_items": null,
            "left": null,
            "margin": null,
            "max_height": null,
            "max_width": null,
            "min_height": null,
            "min_width": null,
            "object_fit": null,
            "object_position": null,
            "order": null,
            "overflow": null,
            "overflow_x": null,
            "overflow_y": null,
            "padding": null,
            "right": null,
            "top": null,
            "visibility": null,
            "width": null
          }
        },
        "cd047d421db64b0c895197124d6ed7ff": {
          "model_module": "@jupyter-widgets/controls",
          "model_name": "DescriptionStyleModel",
          "model_module_version": "1.5.0",
          "state": {
            "_model_module": "@jupyter-widgets/controls",
            "_model_module_version": "1.5.0",
            "_model_name": "DescriptionStyleModel",
            "_view_count": null,
            "_view_module": "@jupyter-widgets/base",
            "_view_module_version": "1.2.0",
            "_view_name": "StyleView",
            "description_width": ""
          }
        }
      }
    }
  },
  "nbformat": 4,
  "nbformat_minor": 0
}